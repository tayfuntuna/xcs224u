{
 "cells": [
  {
   "cell_type": "code",
   "execution_count": null,
   "id": "6fed133d-61b7-4ce6-8a44-fe98acf0eed2",
   "metadata": {},
   "outputs": [],
   "source": [
    "#!pip install transformers==4.8.0"
   ]
  },
  {
   "cell_type": "code",
   "execution_count": null,
   "id": "06efcb0b",
   "metadata": {},
   "outputs": [],
   "source": [
    "#!pip install torch==1.9.0\n",
    "#!conda install -c conda-forge torch==1.9.0"
   ]
  },
  {
   "cell_type": "code",
   "execution_count": 28,
   "id": "2f3a8fd1-25a9-426d-a6be-c93b750cbcb8",
   "metadata": {},
   "outputs": [],
   "source": [
    "import pandas as pd\n",
    "import torch\n",
    "import numpy as np\n",
    "from transformers import BertTokenizer, BertModel\n",
    "from torch import nn\n",
    "from torch.optim import Adam\n",
    "from tqdm import tqdm\n",
    "import transformers"
   ]
  },
  {
   "cell_type": "code",
   "execution_count": 29,
   "id": "f60eca96",
   "metadata": {},
   "outputs": [
    {
     "data": {
      "text/plain": [
       "('1.10.2', '4.8.0')"
      ]
     },
     "execution_count": 29,
     "metadata": {},
     "output_type": "execute_result"
    }
   ],
   "source": [
    "torch.__version__, transformers.__version__"
   ]
  },
  {
   "cell_type": "code",
   "execution_count": 30,
   "id": "c6015e61",
   "metadata": {},
   "outputs": [],
   "source": [
    "DATA_FOLDER = 'data/rel_ext_data/'"
   ]
  },
  {
   "cell_type": "code",
   "execution_count": 4,
   "id": "372d757e",
   "metadata": {},
   "outputs": [
    {
     "data": {
      "text/html": [
       "<div>\n",
       "<style scoped>\n",
       "    .dataframe tbody tr th:only-of-type {\n",
       "        vertical-align: middle;\n",
       "    }\n",
       "\n",
       "    .dataframe tbody tr th {\n",
       "        vertical-align: top;\n",
       "    }\n",
       "\n",
       "    .dataframe thead th {\n",
       "        text-align: right;\n",
       "    }\n",
       "</style>\n",
       "<table border=\"1\" class=\"dataframe\">\n",
       "  <thead>\n",
       "    <tr style=\"text-align: right;\">\n",
       "      <th></th>\n",
       "      <th>text</th>\n",
       "      <th>intent</th>\n",
       "    </tr>\n",
       "  </thead>\n",
       "  <tbody>\n",
       "    <tr>\n",
       "      <th>0</th>\n",
       "      <td>tell me the expiration date for my current cre...</td>\n",
       "      <td>expiration_date</td>\n",
       "    </tr>\n",
       "    <tr>\n",
       "      <th>1</th>\n",
       "      <td>would you disconnect from my phone</td>\n",
       "      <td>sync_device</td>\n",
       "    </tr>\n",
       "    <tr>\n",
       "      <th>2</th>\n",
       "      <td>could you please track my package</td>\n",
       "      <td>order_status</td>\n",
       "    </tr>\n",
       "    <tr>\n",
       "      <th>3</th>\n",
       "      <td>any travel alerts for canada</td>\n",
       "      <td>travel_alert</td>\n",
       "    </tr>\n",
       "    <tr>\n",
       "      <th>4</th>\n",
       "      <td>i want to report fraudulent activity on my ame...</td>\n",
       "      <td>report_fraud</td>\n",
       "    </tr>\n",
       "  </tbody>\n",
       "</table>\n",
       "</div>"
      ],
      "text/plain": [
       "                                                text           intent\n",
       "0  tell me the expiration date for my current cre...  expiration_date\n",
       "1                 would you disconnect from my phone      sync_device\n",
       "2                  could you please track my package     order_status\n",
       "3                       any travel alerts for canada     travel_alert\n",
       "4  i want to report fraudulent activity on my ame...     report_fraud"
      ]
     },
     "execution_count": 4,
     "metadata": {},
     "output_type": "execute_result"
    }
   ],
   "source": [
    "df_train = pd.read_csv(DATA_FOLDER +'train.csv', encoding='utf-8')\n",
    "df_train.head()"
   ]
  },
  {
   "cell_type": "code",
   "execution_count": 5,
   "id": "13a7f92d",
   "metadata": {},
   "outputs": [
    {
     "data": {
      "text/html": [
       "<div>\n",
       "<style scoped>\n",
       "    .dataframe tbody tr th:only-of-type {\n",
       "        vertical-align: middle;\n",
       "    }\n",
       "\n",
       "    .dataframe tbody tr th {\n",
       "        vertical-align: top;\n",
       "    }\n",
       "\n",
       "    .dataframe thead th {\n",
       "        text-align: right;\n",
       "    }\n",
       "</style>\n",
       "<table border=\"1\" class=\"dataframe\">\n",
       "  <thead>\n",
       "    <tr style=\"text-align: right;\">\n",
       "      <th></th>\n",
       "      <th>text</th>\n",
       "      <th>intent</th>\n",
       "    </tr>\n",
       "  </thead>\n",
       "  <tbody>\n",
       "    <tr>\n",
       "      <th>0</th>\n",
       "      <td>hey</td>\n",
       "      <td>greeting</td>\n",
       "    </tr>\n",
       "    <tr>\n",
       "      <th>1</th>\n",
       "      <td>put laundry on my chore list</td>\n",
       "      <td>todo_list_update</td>\n",
       "    </tr>\n",
       "    <tr>\n",
       "      <th>2</th>\n",
       "      <td>go into whisper mode</td>\n",
       "      <td>whisper_mode</td>\n",
       "    </tr>\n",
       "    <tr>\n",
       "      <th>3</th>\n",
       "      <td>when do i need to change my motor oil again</td>\n",
       "      <td>oil_change_when</td>\n",
       "    </tr>\n",
       "    <tr>\n",
       "      <th>4</th>\n",
       "      <td>what is the insurance plan i am enrolled in</td>\n",
       "      <td>insurance</td>\n",
       "    </tr>\n",
       "  </tbody>\n",
       "</table>\n",
       "</div>"
      ],
      "text/plain": [
       "                                          text            intent\n",
       "0                                          hey          greeting\n",
       "1                 put laundry on my chore list  todo_list_update\n",
       "2                         go into whisper mode      whisper_mode\n",
       "3  when do i need to change my motor oil again   oil_change_when\n",
       "4  what is the insurance plan i am enrolled in         insurance"
      ]
     },
     "execution_count": 5,
     "metadata": {},
     "output_type": "execute_result"
    }
   ],
   "source": [
    "df_val = pd.read_csv(DATA_FOLDER +'val.csv', encoding='utf-8')\n",
    "df_val.head()"
   ]
  },
  {
   "cell_type": "code",
   "execution_count": 6,
   "id": "67c30c9b",
   "metadata": {},
   "outputs": [
    {
     "data": {
      "text/html": [
       "<div>\n",
       "<style scoped>\n",
       "    .dataframe tbody tr th:only-of-type {\n",
       "        vertical-align: middle;\n",
       "    }\n",
       "\n",
       "    .dataframe tbody tr th {\n",
       "        vertical-align: top;\n",
       "    }\n",
       "\n",
       "    .dataframe thead th {\n",
       "        text-align: right;\n",
       "    }\n",
       "</style>\n",
       "<table border=\"1\" class=\"dataframe\">\n",
       "  <thead>\n",
       "    <tr style=\"text-align: right;\">\n",
       "      <th></th>\n",
       "      <th>text</th>\n",
       "      <th>intent</th>\n",
       "    </tr>\n",
       "  </thead>\n",
       "  <tbody>\n",
       "    <tr>\n",
       "      <th>0</th>\n",
       "      <td>thanks so much ai</td>\n",
       "      <td>thank_you</td>\n",
       "    </tr>\n",
       "    <tr>\n",
       "      <th>1</th>\n",
       "      <td>i will be traveling to lima alert my bank</td>\n",
       "      <td>travel_notification</td>\n",
       "    </tr>\n",
       "    <tr>\n",
       "      <th>2</th>\n",
       "      <td>say again please</td>\n",
       "      <td>repeat</td>\n",
       "    </tr>\n",
       "    <tr>\n",
       "      <th>3</th>\n",
       "      <td>what is needed to cook lasagna</td>\n",
       "      <td>ingredients_list</td>\n",
       "    </tr>\n",
       "    <tr>\n",
       "      <th>4</th>\n",
       "      <td>give me the pressure for the tires on my car</td>\n",
       "      <td>tire_pressure</td>\n",
       "    </tr>\n",
       "  </tbody>\n",
       "</table>\n",
       "</div>"
      ],
      "text/plain": [
       "                                           text               intent\n",
       "0                             thanks so much ai            thank_you\n",
       "1     i will be traveling to lima alert my bank  travel_notification\n",
       "2                              say again please               repeat\n",
       "3                what is needed to cook lasagna     ingredients_list\n",
       "4  give me the pressure for the tires on my car        tire_pressure"
      ]
     },
     "execution_count": 6,
     "metadata": {},
     "output_type": "execute_result"
    }
   ],
   "source": [
    "df_test = pd.read_csv(DATA_FOLDER +'test.csv', encoding='utf-8')\n",
    "df_test.head()"
   ]
  },
  {
   "cell_type": "code",
   "execution_count": 31,
   "id": "ddbe889a",
   "metadata": {},
   "outputs": [
    {
     "data": {
      "text/plain": [
       "{'change_speed': 0,\n",
       " 'share_location': 1,\n",
       " 'change_user_name': 2,\n",
       " 'shopping_list_update': 3,\n",
       " 'w2': 4,\n",
       " 'how_busy': 5,\n",
       " 'card_declined': 6,\n",
       " 'next_holiday': 7,\n",
       " 'rewards_balance': 8,\n",
       " 'pin_change': 9,\n",
       " 'pto_used': 10,\n",
       " 'new_card': 11,\n",
       " 'meeting_schedule': 12,\n",
       " 'roll_dice': 13,\n",
       " 'flight_status': 14,\n",
       " 'goodbye': 15,\n",
       " 'credit_limit_change': 16,\n",
       " 'damaged_card': 17,\n",
       " 'ingredients_list': 18,\n",
       " 'insurance_change': 19,\n",
       " 'pto_request': 20,\n",
       " 'cancel_reservation': 21,\n",
       " 'spelling': 22,\n",
       " 'timezone': 23,\n",
       " 'greeting': 24,\n",
       " 'who_do_you_work_for': 25,\n",
       " 'tell_joke': 26,\n",
       " 'transactions': 27,\n",
       " 'apr': 28,\n",
       " 'car_rental': 29,\n",
       " 'oil_change_how': 30,\n",
       " 'international_visa': 31,\n",
       " 'yes': 32,\n",
       " 'uber': 33,\n",
       " 'min_payment': 34,\n",
       " 'play_music': 35,\n",
       " 'user_name': 36,\n",
       " 'nutrition_info': 37,\n",
       " 'expiration_date': 38,\n",
       " 'time': 39,\n",
       " 'vaccines': 40,\n",
       " 'meal_suggestion': 41,\n",
       " 'redeem_rewards': 42,\n",
       " 'last_maintenance': 43,\n",
       " 'restaurant_suggestion': 44,\n",
       " 'application_status': 45,\n",
       " 'what_song': 46,\n",
       " 'current_location': 47,\n",
       " 'gas_type': 48,\n",
       " 'direct_deposit': 49,\n",
       " 'interest_rate': 50,\n",
       " 'meaning_of_life': 51,\n",
       " 'reminder': 52,\n",
       " 'account_blocked': 53,\n",
       " 'flip_coin': 54,\n",
       " 'carry_on': 55,\n",
       " 'traffic': 56,\n",
       " 'replacement_card_duration': 57,\n",
       " 'pay_bill': 58,\n",
       " 'confirm_reservation': 59,\n",
       " 'make_call': 60,\n",
       " 'change_ai_name': 61,\n",
       " 'exchange_rate': 62,\n",
       " 'routing': 63,\n",
       " 'balance': 64,\n",
       " 'restaurant_reviews': 65,\n",
       " 'update_playlist': 66,\n",
       " 'freeze_account': 67,\n",
       " 'mpg': 68,\n",
       " 'restaurant_reservation': 69,\n",
       " 'translate': 70,\n",
       " 'fun_fact': 71,\n",
       " 'schedule_meeting': 72,\n",
       " 'credit_limit': 73,\n",
       " 'directions': 74,\n",
       " 'no': 75,\n",
       " 'thank_you': 76,\n",
       " 'what_can_i_ask_you': 77,\n",
       " 'smart_home': 78,\n",
       " 'improve_credit_score': 79,\n",
       " 'cancel': 80,\n",
       " 'calendar': 81,\n",
       " 'alarm': 82,\n",
       " 'calories': 83,\n",
       " 'insurance': 84,\n",
       " 'next_song': 85,\n",
       " 'definition': 86,\n",
       " 'bill_balance': 87,\n",
       " 'payday': 88,\n",
       " 'weather': 89,\n",
       " 'change_accent': 90,\n",
       " 'credit_score': 91,\n",
       " 'who_made_you': 92,\n",
       " 'are_you_a_bot': 93,\n",
       " 'text': 94,\n",
       " 'lost_luggage': 95,\n",
       " 'transfer': 96,\n",
       " 'pto_request_status': 97,\n",
       " 'plug_type': 98,\n",
       " 'bill_due': 99,\n",
       " 'order_checks': 100,\n",
       " 'todo_list_update': 101,\n",
       " 'report_lost_card': 102,\n",
       " 'what_are_your_hobbies': 103,\n",
       " 'oil_change_when': 104,\n",
       " 'reminder_update': 105,\n",
       " 'recipe': 106,\n",
       " 'where_are_you_from': 107,\n",
       " 'travel_suggestion': 108,\n",
       " 'whisper_mode': 109,\n",
       " 'find_phone': 110,\n",
       " 'book_flight': 111,\n",
       " 'shopping_list': 112,\n",
       " 'measurement_conversion': 113,\n",
       " 'travel_notification': 114,\n",
       " 'tire_pressure': 115,\n",
       " 'order_status': 116,\n",
       " 'sync_device': 117,\n",
       " 'food_last': 118,\n",
       " 'do_you_have_pets': 119,\n",
       " 'international_fees': 120,\n",
       " 'timer': 121,\n",
       " 'change_language': 122,\n",
       " 'rollover_401k': 123,\n",
       " 'schedule_maintenance': 124,\n",
       " 'date': 125,\n",
       " 'change_volume': 126,\n",
       " 'income': 127,\n",
       " 'how_old_are_you': 128,\n",
       " 'repeat': 129,\n",
       " 'tire_change': 130,\n",
       " 'cook_time': 131,\n",
       " 'accept_reservations': 132,\n",
       " 'ingredient_substitution': 133,\n",
       " 'order': 134,\n",
       " 'reset_settings': 135,\n",
       " 'jump_start': 136,\n",
       " 'todo_list': 137,\n",
       " 'distance': 138,\n",
       " 'gas': 139,\n",
       " 'calculator': 140,\n",
       " 'pto_balance': 141,\n",
       " 'travel_alert': 142,\n",
       " 'maybe': 143,\n",
       " 'book_hotel': 144,\n",
       " 'report_fraud': 145,\n",
       " 'spending_history': 146,\n",
       " 'taxes': 147,\n",
       " 'what_is_your_name': 148,\n",
       " 'calendar_update': 149}"
      ]
     },
     "execution_count": 31,
     "metadata": {},
     "output_type": "execute_result"
    }
   ],
   "source": [
    "labels = {k:i for i,k in enumerate(set(df_train['intent'].tolist()))}\n",
    "labels"
   ]
  },
  {
   "cell_type": "code",
   "execution_count": 32,
   "id": "5074c270-ed3e-4e1a-863d-71737c743cb8",
   "metadata": {},
   "outputs": [],
   "source": [
    "tokenizer = BertTokenizer.from_pretrained('bert-base-cased')\n",
    "\n",
    "\n",
    "class Dataset(torch.utils.data.Dataset):\n",
    "\n",
    "    def __init__(self, df):\n",
    "\n",
    "        self.labels = [labels[label] for label in df['intent']]\n",
    "        self.texts = [tokenizer(text, \n",
    "                               padding='max_length', max_length = 512, truncation=True,\n",
    "                                return_tensors=\"pt\") for text in df['text']]\n",
    "\n",
    "    def classes(self):\n",
    "        return self.labels\n",
    "\n",
    "    def __len__(self):\n",
    "        return len(self.labels)\n",
    "\n",
    "    def get_batch_labels(self, idx):\n",
    "        # Fetch a batch of labels\n",
    "        return np.array(self.labels[idx])\n",
    "\n",
    "    def get_batch_texts(self, idx):\n",
    "        # Fetch a batch of inputs\n",
    "        return self.texts[idx]\n",
    "\n",
    "    def __getitem__(self, idx):\n",
    "\n",
    "        batch_texts = self.get_batch_texts(idx)\n",
    "        batch_y = self.get_batch_labels(idx)\n",
    "\n",
    "        return batch_texts, batch_y"
   ]
  },
  {
   "cell_type": "code",
   "execution_count": 33,
   "id": "2640d2b6",
   "metadata": {},
   "outputs": [
    {
     "data": {
      "text/plain": [
       "True"
      ]
     },
     "execution_count": 33,
     "metadata": {},
     "output_type": "execute_result"
    }
   ],
   "source": [
    "torch.cuda.is_available()"
   ]
  },
  {
   "cell_type": "code",
   "execution_count": 34,
   "id": "0c8a5d0f-80c3-42b3-9f06-ecfc3a21f395",
   "metadata": {},
   "outputs": [],
   "source": [
    "class BertClassifier(nn.Module):\n",
    "\n",
    "    def __init__(self, dropout=0.5):\n",
    "\n",
    "        super(BertClassifier, self).__init__()\n",
    "\n",
    "        self.bert = BertModel.from_pretrained('bert-base-uncased')\n",
    "        self.dropout = nn.Dropout(dropout)\n",
    "        self.linear = nn.Linear(768, 150)\n",
    "        self.relu = nn.ReLU()\n",
    "\n",
    "    def forward(self, input_id, mask):\n",
    "\n",
    "        _, pooled_output = self.bert(input_ids= input_id, attention_mask=mask,return_dict=False)\n",
    "        dropout_output = self.dropout(pooled_output)\n",
    "        linear_output = self.linear(dropout_output)\n",
    "        final_layer = self.relu(linear_output)\n",
    "\n",
    "        return final_layer"
   ]
  },
  {
   "cell_type": "code",
   "execution_count": 43,
   "id": "c46a67e3",
   "metadata": {},
   "outputs": [],
   "source": []
  },
  {
   "cell_type": "code",
   "execution_count": 44,
   "id": "fa1f1cf7-65db-4966-9a55-ba26bd22ed6c",
   "metadata": {},
   "outputs": [],
   "source": [
    "def train(model, train_data, val_data, learning_rate, epochs):\n",
    "\n",
    "    train, val = Dataset(train_data), Dataset(val_data)\n",
    "\n",
    "    train_dataloader = torch.utils.data.DataLoader(train, batch_size=BATCH_SIZE, shuffle=True)\n",
    "    val_dataloader = torch.utils.data.DataLoader(val, batch_size=BATCH_SIZE)\n",
    "\n",
    "    use_cuda = torch.cuda.is_available()\n",
    "    device = torch.device(\"cuda\" if use_cuda else \"cpu\")\n",
    "\n",
    "    criterion = nn.CrossEntropyLoss()\n",
    "    optimizer = Adam(model.parameters(), lr= learning_rate)\n",
    "\n",
    "    if use_cuda:\n",
    "\n",
    "            model = model.cuda()\n",
    "            criterion = criterion.cuda()\n",
    "\n",
    "    for epoch_num in range(epochs):\n",
    "\n",
    "            total_acc_train = 0\n",
    "            total_loss_train = 0\n",
    "\n",
    "            for train_input, train_label in tqdm(train_dataloader):\n",
    "                train_label = train_label.type(torch.LongTensor) # <---- Here (casting)\n",
    "\n",
    "                train_label = train_label.to(device)\n",
    "                mask = train_input['attention_mask'].to(device)\n",
    "                input_id = train_input['input_ids'].squeeze(1).to(device)\n",
    "\n",
    "                output = model(input_id, mask)\n",
    "                \n",
    "                batch_loss = criterion(output, train_label)\n",
    "                total_loss_train += batch_loss.item()\n",
    "                \n",
    "                acc = (output.argmax(dim=1) == train_label).sum().item()\n",
    "                total_acc_train += acc\n",
    "\n",
    "                model.zero_grad()\n",
    "                batch_loss.backward()\n",
    "                optimizer.step()\n",
    "            \n",
    "            total_acc_val = 0\n",
    "            total_loss_val = 0\n",
    "\n",
    "            with torch.no_grad():\n",
    "\n",
    "                for val_input, val_label in val_dataloader:\n",
    "                    val_label = val_label.type(torch.LongTensor) # <---- Here (casting)\n",
    "\n",
    "                    val_label = val_label.to(device)\n",
    "                    mask = val_input['attention_mask'].to(device)\n",
    "                    input_id = val_input['input_ids'].squeeze(1).to(device)\n",
    "\n",
    "                    output = model(input_id, mask)\n",
    "\n",
    "                    batch_loss = criterion(output, val_label)\n",
    "                    total_loss_val += batch_loss.item()\n",
    "                    \n",
    "                    acc = (output.argmax(dim=1) == val_label).sum().item()\n",
    "                    total_acc_val += acc\n",
    "            \n",
    "            print(\n",
    "                f'Epochs: {epoch_num + 1} | Train Loss: {total_loss_train / len(train_data): .3f} | Train Accuracy: {total_acc_train / len(train_data): .3f} | Val Loss: {total_loss_val / len(val_data): .3f} | Val Accuracy: {total_acc_val / len(val_data): .3f}')\n",
    "                  "
   ]
  },
  {
   "cell_type": "code",
   "execution_count": 45,
   "id": "cd8a670d-c449-45fe-8f4c-9a5fb27855c1",
   "metadata": {},
   "outputs": [],
   "source": [
    "def evaluate(model, test_data):\n",
    "\n",
    "    test = Dataset(test_data)\n",
    "\n",
    "    test_dataloader = torch.utils.data.DataLoader(test, batch_size=BATCH_SIZE)\n",
    "\n",
    "    use_cuda = torch.cuda.is_available()\n",
    "    device = torch.device(\"cuda\" if use_cuda else \"cpu\")\n",
    "\n",
    "    if use_cuda:\n",
    "\n",
    "        model = model.cuda()\n",
    "\n",
    "    total_acc_test = 0\n",
    "    with torch.no_grad():\n",
    "\n",
    "        for test_input, test_label in test_dataloader:\n",
    "\n",
    "              test_label = test_label.to(device)\n",
    "              mask = test_input['attention_mask'].to(device)\n",
    "              input_id = test_input['input_ids'].squeeze(1).to(device)\n",
    "\n",
    "              output = model(input_id, mask)\n",
    "\n",
    "              acc = (output.argmax(dim=1) == test_label).sum().item()\n",
    "              total_acc_test += acc\n",
    "    \n",
    "    print(f'Test Accuracy: {total_acc_test / len(test_data): .3f}')"
   ]
  },
  {
   "cell_type": "markdown",
   "id": "c2d30f3a",
   "metadata": {},
   "source": [
    "np.random.seed(112)\n",
    "df_train, df_val, df_test = np.split(df.sample(frac=1, random_state=42), \n",
    "                                     [int(.8*len(df)), int(.9*len(df))])\n",
    "\n",
    "print(len(df_train),len(df_val), len(df_test))"
   ]
  },
  {
   "cell_type": "code",
   "execution_count": null,
   "id": "30242239-de70-4c03-8f56-9f5ade43518d",
   "metadata": {
    "scrolled": false
   },
   "outputs": [
    {
     "name": "stderr",
     "output_type": "stream",
     "text": [
      "Some weights of the model checkpoint at bert-base-uncased were not used when initializing BertModel: ['cls.predictions.transform.LayerNorm.bias', 'cls.predictions.decoder.weight', 'cls.predictions.transform.dense.bias', 'cls.seq_relationship.bias', 'cls.predictions.bias', 'cls.seq_relationship.weight', 'cls.predictions.transform.LayerNorm.weight', 'cls.predictions.transform.dense.weight']\n",
      "- This IS expected if you are initializing BertModel from the checkpoint of a model trained on another task or with another architecture (e.g. initializing a BertForSequenceClassification model from a BertForPreTraining model).\n",
      "- This IS NOT expected if you are initializing BertModel from the checkpoint of a model that you expect to be exactly identical (initializing a BertForSequenceClassification model from a BertForSequenceClassification model).\n",
      "100%|██████████████████████████████████████████████████████████████████████████████| 7500/7500 [28:19<00:00,  4.41it/s]\n"
     ]
    },
    {
     "name": "stdout",
     "output_type": "stream",
     "text": [
      "Epochs: 1 | Train Loss:  5.011 | Train Accuracy:  0.006 | Val Loss:  5.011 | Val Accuracy:  0.007\n"
     ]
    },
    {
     "name": "stderr",
     "output_type": "stream",
     "text": [
      "100%|██████████████████████████████████████████████████████████████████████████████| 7500/7500 [28:18<00:00,  4.42it/s]\n"
     ]
    },
    {
     "name": "stdout",
     "output_type": "stream",
     "text": [
      "Epochs: 2 | Train Loss:  5.011 | Train Accuracy:  0.007 | Val Loss:  5.011 | Val Accuracy:  0.007\n"
     ]
    },
    {
     "name": "stderr",
     "output_type": "stream",
     "text": [
      "  6%|█████                                                                          | 479/7500 [01:48<26:28,  4.42it/s]"
     ]
    }
   ],
   "source": [
    "BATCH_SIZE = 1\n",
    "EPOCHS = 10\n",
    "model = BertClassifier()\n",
    "LR = 1e-3\n",
    "              \n",
    "train(model, df_train, df_val, LR, EPOCHS)"
   ]
  },
  {
   "cell_type": "code",
   "execution_count": 64,
   "id": "cdb909eb",
   "metadata": {},
   "outputs": [
    {
     "data": {
      "text/plain": [
       "0.001"
      ]
     },
     "execution_count": 64,
     "metadata": {},
     "output_type": "execute_result"
    }
   ],
   "source": [
    "1e-3"
   ]
  },
  {
   "cell_type": "code",
   "execution_count": null,
   "id": "ccc00f0a-9a15-4942-9c9b-2f9789c8dd22",
   "metadata": {},
   "outputs": [],
   "source": [
    "evaluate(model, df_test)"
   ]
  }
 ],
 "metadata": {
  "kernelspec": {
   "display_name": "Python 3 (ipykernel)",
   "language": "python",
   "name": "python3"
  },
  "language_info": {
   "codemirror_mode": {
    "name": "ipython",
    "version": 3
   },
   "file_extension": ".py",
   "mimetype": "text/x-python",
   "name": "python",
   "nbconvert_exporter": "python",
   "pygments_lexer": "ipython3",
   "version": "3.8.12"
  }
 },
 "nbformat": 4,
 "nbformat_minor": 5
}
