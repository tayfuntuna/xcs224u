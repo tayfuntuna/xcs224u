{
 "cells": [
  {
   "cell_type": "code",
   "execution_count": null,
   "id": "537102da",
   "metadata": {},
   "outputs": [],
   "source": [
    "from sentence_transformers import SentenceTransformer\n",
    "model = SentenceTransformer('all-MiniLM-L6-v2')"
   ]
  },
  {
   "cell_type": "code",
   "execution_count": null,
   "id": "c12a4e3d",
   "metadata": {},
   "outputs": [],
   "source": [
    "#!pip install -U sentence-transformers"
   ]
  },
  {
   "cell_type": "code",
   "execution_count": 7,
   "id": "fec2524f",
   "metadata": {},
   "outputs": [],
   "source": [
    "import pandas as pd\n",
    "import torch\n",
    "import numpy as np\n",
    "from transformers import BertTokenizer, BertModel\n",
    "from torch import nn\n",
    "from torch.optim import Adam\n",
    "from tqdm import tqdm\n",
    "import transformers"
   ]
  },
  {
   "cell_type": "code",
   "execution_count": 4,
   "id": "cdc8e303",
   "metadata": {},
   "outputs": [],
   "source": [
    "sentences = ['This framework generates embeddings for each input sentence',\n",
    "    'Sentences are passed as a list of string.', \n",
    "    'The quick brown fox jumps over the lazy dog.']\n",
    "sentence_embeddings = model.encode(sentences)"
   ]
  },
  {
   "cell_type": "code",
   "execution_count": 5,
   "id": "247a281b",
   "metadata": {},
   "outputs": [],
   "source": [
    "DATA_FOLDER = 'data/rel_ext_data/'"
   ]
  },
  {
   "cell_type": "code",
   "execution_count": 8,
   "id": "2531cda1",
   "metadata": {},
   "outputs": [
    {
     "data": {
      "text/html": [
       "<div>\n",
       "<style scoped>\n",
       "    .dataframe tbody tr th:only-of-type {\n",
       "        vertical-align: middle;\n",
       "    }\n",
       "\n",
       "    .dataframe tbody tr th {\n",
       "        vertical-align: top;\n",
       "    }\n",
       "\n",
       "    .dataframe thead th {\n",
       "        text-align: right;\n",
       "    }\n",
       "</style>\n",
       "<table border=\"1\" class=\"dataframe\">\n",
       "  <thead>\n",
       "    <tr style=\"text-align: right;\">\n",
       "      <th></th>\n",
       "      <th>text</th>\n",
       "      <th>intent</th>\n",
       "    </tr>\n",
       "  </thead>\n",
       "  <tbody>\n",
       "    <tr>\n",
       "      <th>0</th>\n",
       "      <td>tell me the expiration date for my current cre...</td>\n",
       "      <td>expiration_date</td>\n",
       "    </tr>\n",
       "    <tr>\n",
       "      <th>1</th>\n",
       "      <td>would you disconnect from my phone</td>\n",
       "      <td>sync_device</td>\n",
       "    </tr>\n",
       "    <tr>\n",
       "      <th>2</th>\n",
       "      <td>could you please track my package</td>\n",
       "      <td>order_status</td>\n",
       "    </tr>\n",
       "    <tr>\n",
       "      <th>3</th>\n",
       "      <td>any travel alerts for canada</td>\n",
       "      <td>travel_alert</td>\n",
       "    </tr>\n",
       "    <tr>\n",
       "      <th>4</th>\n",
       "      <td>i want to report fraudulent activity on my ame...</td>\n",
       "      <td>report_fraud</td>\n",
       "    </tr>\n",
       "  </tbody>\n",
       "</table>\n",
       "</div>"
      ],
      "text/plain": [
       "                                                text           intent\n",
       "0  tell me the expiration date for my current cre...  expiration_date\n",
       "1                 would you disconnect from my phone      sync_device\n",
       "2                  could you please track my package     order_status\n",
       "3                       any travel alerts for canada     travel_alert\n",
       "4  i want to report fraudulent activity on my ame...     report_fraud"
      ]
     },
     "execution_count": 8,
     "metadata": {},
     "output_type": "execute_result"
    }
   ],
   "source": [
    "df_train = pd.read_csv(DATA_FOLDER +'train.csv', encoding='utf-8')\n",
    "df_train.head()"
   ]
  },
  {
   "cell_type": "code",
   "execution_count": 9,
   "id": "067b885d",
   "metadata": {},
   "outputs": [
    {
     "data": {
      "text/html": [
       "<div>\n",
       "<style scoped>\n",
       "    .dataframe tbody tr th:only-of-type {\n",
       "        vertical-align: middle;\n",
       "    }\n",
       "\n",
       "    .dataframe tbody tr th {\n",
       "        vertical-align: top;\n",
       "    }\n",
       "\n",
       "    .dataframe thead th {\n",
       "        text-align: right;\n",
       "    }\n",
       "</style>\n",
       "<table border=\"1\" class=\"dataframe\">\n",
       "  <thead>\n",
       "    <tr style=\"text-align: right;\">\n",
       "      <th></th>\n",
       "      <th>text</th>\n",
       "      <th>intent</th>\n",
       "    </tr>\n",
       "  </thead>\n",
       "  <tbody>\n",
       "    <tr>\n",
       "      <th>0</th>\n",
       "      <td>hey</td>\n",
       "      <td>greeting</td>\n",
       "    </tr>\n",
       "    <tr>\n",
       "      <th>1</th>\n",
       "      <td>put laundry on my chore list</td>\n",
       "      <td>todo_list_update</td>\n",
       "    </tr>\n",
       "    <tr>\n",
       "      <th>2</th>\n",
       "      <td>go into whisper mode</td>\n",
       "      <td>whisper_mode</td>\n",
       "    </tr>\n",
       "    <tr>\n",
       "      <th>3</th>\n",
       "      <td>when do i need to change my motor oil again</td>\n",
       "      <td>oil_change_when</td>\n",
       "    </tr>\n",
       "    <tr>\n",
       "      <th>4</th>\n",
       "      <td>what is the insurance plan i am enrolled in</td>\n",
       "      <td>insurance</td>\n",
       "    </tr>\n",
       "  </tbody>\n",
       "</table>\n",
       "</div>"
      ],
      "text/plain": [
       "                                          text            intent\n",
       "0                                          hey          greeting\n",
       "1                 put laundry on my chore list  todo_list_update\n",
       "2                         go into whisper mode      whisper_mode\n",
       "3  when do i need to change my motor oil again   oil_change_when\n",
       "4  what is the insurance plan i am enrolled in         insurance"
      ]
     },
     "execution_count": 9,
     "metadata": {},
     "output_type": "execute_result"
    }
   ],
   "source": [
    "df_val = pd.read_csv(DATA_FOLDER +'val.csv', encoding='utf-8')\n",
    "df_val.head()"
   ]
  },
  {
   "cell_type": "code",
   "execution_count": 10,
   "id": "abbf61eb",
   "metadata": {},
   "outputs": [
    {
     "data": {
      "text/html": [
       "<div>\n",
       "<style scoped>\n",
       "    .dataframe tbody tr th:only-of-type {\n",
       "        vertical-align: middle;\n",
       "    }\n",
       "\n",
       "    .dataframe tbody tr th {\n",
       "        vertical-align: top;\n",
       "    }\n",
       "\n",
       "    .dataframe thead th {\n",
       "        text-align: right;\n",
       "    }\n",
       "</style>\n",
       "<table border=\"1\" class=\"dataframe\">\n",
       "  <thead>\n",
       "    <tr style=\"text-align: right;\">\n",
       "      <th></th>\n",
       "      <th>text</th>\n",
       "      <th>intent</th>\n",
       "    </tr>\n",
       "  </thead>\n",
       "  <tbody>\n",
       "    <tr>\n",
       "      <th>0</th>\n",
       "      <td>thanks so much ai</td>\n",
       "      <td>thank_you</td>\n",
       "    </tr>\n",
       "    <tr>\n",
       "      <th>1</th>\n",
       "      <td>i will be traveling to lima alert my bank</td>\n",
       "      <td>travel_notification</td>\n",
       "    </tr>\n",
       "    <tr>\n",
       "      <th>2</th>\n",
       "      <td>say again please</td>\n",
       "      <td>repeat</td>\n",
       "    </tr>\n",
       "    <tr>\n",
       "      <th>3</th>\n",
       "      <td>what is needed to cook lasagna</td>\n",
       "      <td>ingredients_list</td>\n",
       "    </tr>\n",
       "    <tr>\n",
       "      <th>4</th>\n",
       "      <td>give me the pressure for the tires on my car</td>\n",
       "      <td>tire_pressure</td>\n",
       "    </tr>\n",
       "  </tbody>\n",
       "</table>\n",
       "</div>"
      ],
      "text/plain": [
       "                                           text               intent\n",
       "0                             thanks so much ai            thank_you\n",
       "1     i will be traveling to lima alert my bank  travel_notification\n",
       "2                              say again please               repeat\n",
       "3                what is needed to cook lasagna     ingredients_list\n",
       "4  give me the pressure for the tires on my car        tire_pressure"
      ]
     },
     "execution_count": 10,
     "metadata": {},
     "output_type": "execute_result"
    }
   ],
   "source": [
    "df_test = pd.read_csv(DATA_FOLDER +'test.csv', encoding='utf-8')\n",
    "df_test.head()"
   ]
  },
  {
   "cell_type": "code",
   "execution_count": 11,
   "id": "8eb13237",
   "metadata": {},
   "outputs": [],
   "source": [
    "train_embeds = model.encode(df_train['text'])"
   ]
  },
  {
   "cell_type": "code",
   "execution_count": 12,
   "id": "4d836a7d",
   "metadata": {},
   "outputs": [],
   "source": [
    "valid_embeds = model.encode(df_val['text'])"
   ]
  },
  {
   "cell_type": "code",
   "execution_count": 13,
   "id": "66e1b8bc",
   "metadata": {},
   "outputs": [],
   "source": [
    "test_embeds = model.encode(df_test['text'])"
   ]
  },
  {
   "cell_type": "code",
   "execution_count": 23,
   "id": "8977eb66",
   "metadata": {},
   "outputs": [],
   "source": [
    "from sklearn.linear_model import LogisticRegression\n",
    "from sklearn.ensemble import RandomForestClassifier\n",
    "\n",
    "\n",
    "def classify_it(classifier):\n",
    "    clf = classifier.fit(train_embeds, df_train['intent'])\n",
    "    print(\"{} Train-Acc:{:.3f} Test-Acc:{:.3f} Validation-Acc:{:.3f}\".format(classifier.__class__.__name__, \n",
    "                          clf.score(train_embeds, df_train['intent']),\n",
    "                          clf.score(test_embeds, df_test['intent']),\n",
    "                          clf.score(valid_embeds, df_val['intent'])\n",
    "                         ));"
   ]
  },
  {
   "cell_type": "code",
   "execution_count": 24,
   "id": "2f95ad36",
   "metadata": {},
   "outputs": [
    {
     "name": "stdout",
     "output_type": "stream",
     "text": [
      "LogisticRegression Train-Acc:0.979 Test-Acc:0.936 Validation-Acc:0.937\n"
     ]
    }
   ],
   "source": [
    "classify_it(LogisticRegression())"
   ]
  },
  {
   "cell_type": "code",
   "execution_count": 25,
   "id": "75995cdf",
   "metadata": {},
   "outputs": [
    {
     "name": "stdout",
     "output_type": "stream",
     "text": [
      "RandomForestClassifier Train-Acc:1.000 Test-Acc:0.875 Validation-Acc:0.879\n"
     ]
    }
   ],
   "source": [
    "classify_it(RandomForestClassifier())"
   ]
  },
  {
   "cell_type": "code",
   "execution_count": 30,
   "id": "f99e3c0f",
   "metadata": {},
   "outputs": [
    {
     "name": "stdout",
     "output_type": "stream",
     "text": [
      "0.01 LogisticRegression Train-Acc:0.913 Test-Acc:0.880 Validation-Acc:0.874\n",
      "0.1 LogisticRegression Train-Acc:0.928 Test-Acc:0.894 Validation-Acc:0.891\n",
      "1 LogisticRegression Train-Acc:0.979 Test-Acc:0.936 Validation-Acc:0.937\n",
      "10 LogisticRegression Train-Acc:0.999 Test-Acc:0.949 Validation-Acc:0.947\n",
      "100 LogisticRegression Train-Acc:1.000 Test-Acc:0.950 Validation-Acc:0.949\n"
     ]
    },
    {
     "name": "stderr",
     "output_type": "stream",
     "text": [
      "C:\\Users\\tayfu\\anaconda3\\envs\\nlu\\lib\\site-packages\\sklearn\\linear_model\\_logistic.py:814: ConvergenceWarning: lbfgs failed to converge (status=1):\n",
      "STOP: TOTAL NO. of ITERATIONS REACHED LIMIT.\n",
      "\n",
      "Increase the number of iterations (max_iter) or scale the data as shown in:\n",
      "    https://scikit-learn.org/stable/modules/preprocessing.html\n",
      "Please also refer to the documentation for alternative solver options:\n",
      "    https://scikit-learn.org/stable/modules/linear_model.html#logistic-regression\n",
      "  n_iter_i = _check_optimize_result(\n"
     ]
    }
   ],
   "source": [
    "for c in [0.01, 0.1, 1, 10, 100]:\n",
    "    print(c, end=' ')\n",
    "    classify_it(LogisticRegression(C=c))"
   ]
  },
  {
   "cell_type": "code",
   "execution_count": 34,
   "id": "6d676d3b",
   "metadata": {},
   "outputs": [
    {
     "name": "stdout",
     "output_type": "stream",
     "text": [
      "200 LogisticRegression Train-Acc:1.000 Test-Acc:0.950 Validation-Acc:0.950\n"
     ]
    }
   ],
   "source": [
    "for c in [200]:\n",
    "    print(c, end=' ')\n",
    "    classify_it(LogisticRegression(C=c, max_iter=200))"
   ]
  },
  {
   "cell_type": "code",
   "execution_count": 35,
   "id": "ec15b552",
   "metadata": {},
   "outputs": [
    {
     "name": "stdout",
     "output_type": "stream",
     "text": [
      "1000 LogisticRegression Train-Acc:1.000 Test-Acc:0.949 Validation-Acc:0.950\n"
     ]
    }
   ],
   "source": [
    "for c in [1000]:\n",
    "    print(c, end=' ')\n",
    "    classify_it(LogisticRegression(C=c, max_iter=200))"
   ]
  },
  {
   "cell_type": "code",
   "execution_count": null,
   "id": "01382ce0",
   "metadata": {},
   "outputs": [],
   "source": []
  }
 ],
 "metadata": {
  "kernelspec": {
   "display_name": "Python 3 (ipykernel)",
   "language": "python",
   "name": "python3"
  },
  "language_info": {
   "codemirror_mode": {
    "name": "ipython",
    "version": 3
   },
   "file_extension": ".py",
   "mimetype": "text/x-python",
   "name": "python",
   "nbconvert_exporter": "python",
   "pygments_lexer": "ipython3",
   "version": "3.8.12"
  }
 },
 "nbformat": 4,
 "nbformat_minor": 5
}
