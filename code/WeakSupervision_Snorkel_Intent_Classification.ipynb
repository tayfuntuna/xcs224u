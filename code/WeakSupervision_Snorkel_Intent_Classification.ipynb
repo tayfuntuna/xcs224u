{
 "cells": [
  {
   "cell_type": "code",
   "execution_count": 31,
   "metadata": {},
   "outputs": [],
   "source": [
    "#!pip install snorkel"
   ]
  },
  {
   "cell_type": "code",
   "execution_count": 1,
   "metadata": {
    "tags": [
     "md-exclude"
    ]
   },
   "outputs": [],
   "source": [
    "import os\n",
    "from sklearn.model_selection import train_test_split\n",
    "import numpy as np\n",
    "import pandas as pd\n",
    "import tensorflow as tf\n",
    "from tensorflow.keras import layers\n",
    "import tensorflow_hub as hub\n",
    "from tensorflow import keras\n",
    "from sklearn import preprocessing\n",
    "import tensorflow as tf\n",
    "from sklearn.model_selection import train_test_split\n",
    "from tensorflow.keras import callbacks\n",
    "from time import time\n",
    "\n",
    "import matplotlib.pyplot as plt\n",
    "%matplotlib inline\n",
    "\n",
    "from snorkel.labeling import PandasLFApplier\n",
    "from snorkel.labeling import LFAnalysis\n",
    "from snorkel.labeling.model import MajorityLabelVoter, RandomVoter, LabelModel\n",
    "\n",
    "\n",
    "\n",
    "from snorkel.labeling import labeling_function\n",
    "from sklearn.metrics import classification_report, roc_auc_score, precision_recall_curve, auc\n"
   ]
  },
  {
   "cell_type": "code",
   "execution_count": null,
   "metadata": {},
   "outputs": [],
   "source": [
    "from tensorflow.python.ops.numpy_ops import np_config\n",
    "np_config.enable_numpy_behavior()"
   ]
  },
  {
   "cell_type": "code",
   "execution_count": 2,
   "metadata": {},
   "outputs": [
    {
     "name": "stdout",
     "output_type": "stream",
     "text": [
      "2.1.0 1.17.0\n"
     ]
    }
   ],
   "source": [
    "print(tf. __version__, np. __version__)"
   ]
  },
  {
   "cell_type": "code",
   "execution_count": 3,
   "metadata": {},
   "outputs": [
    {
     "name": "stdout",
     "output_type": "stream",
     "text": [
      "2.1.0\n"
     ]
    }
   ],
   "source": [
    "print(tf. __version__)"
   ]
  },
  {
   "cell_type": "code",
   "execution_count": 4,
   "metadata": {},
   "outputs": [
    {
     "data": {
      "text/plain": [
       "['val.csv',\n",
       " 'oos_test.csv',\n",
       " 'test.csv',\n",
       " 'oos_train.csv',\n",
       " 'oos_val.csv',\n",
       " 'train.csv']"
      ]
     },
     "execution_count": 4,
     "metadata": {},
     "output_type": "execute_result"
    }
   ],
   "source": [
    "DATA_FOLDER = \"../data/clinic/data_small/\"\n",
    "os.listdir(DATA_FOLDER)"
   ]
  },
  {
   "cell_type": "code",
   "execution_count": 12,
   "metadata": {},
   "outputs": [
    {
     "name": "stdout",
     "output_type": "stream",
     "text": [
      "<class 'pandas.core.frame.DataFrame'>\n",
      "RangeIndex: 7500 entries, 0 to 7499\n",
      "Data columns (total 2 columns):\n",
      " #   Column  Non-Null Count  Dtype \n",
      "---  ------  --------------  ----- \n",
      " 0   text    7500 non-null   object\n",
      " 1   intent  7500 non-null   object\n",
      "dtypes: object(2)\n",
      "memory usage: 117.3+ KB\n"
     ]
    }
   ],
   "source": [
    "df_train = pd.read_csv(DATA_FOLDER + 'train.csv')\n",
    "df_train.info()"
   ]
  },
  {
   "cell_type": "code",
   "execution_count": 13,
   "metadata": {},
   "outputs": [
    {
     "name": "stdout",
     "output_type": "stream",
     "text": [
      "<class 'pandas.core.frame.DataFrame'>\n",
      "RangeIndex: 3000 entries, 0 to 2999\n",
      "Data columns (total 2 columns):\n",
      " #   Column  Non-Null Count  Dtype \n",
      "---  ------  --------------  ----- \n",
      " 0   text    3000 non-null   object\n",
      " 1   intent  3000 non-null   object\n",
      "dtypes: object(2)\n",
      "memory usage: 47.0+ KB\n"
     ]
    }
   ],
   "source": [
    "df_valid = pd.read_csv(DATA_FOLDER + 'val.csv')\n",
    "df_valid.info()"
   ]
  },
  {
   "cell_type": "code",
   "execution_count": 14,
   "metadata": {},
   "outputs": [
    {
     "name": "stdout",
     "output_type": "stream",
     "text": [
      "<class 'pandas.core.frame.DataFrame'>\n",
      "RangeIndex: 4500 entries, 0 to 4499\n",
      "Data columns (total 2 columns):\n",
      " #   Column  Non-Null Count  Dtype \n",
      "---  ------  --------------  ----- \n",
      " 0   text    4500 non-null   object\n",
      " 1   intent  4500 non-null   object\n",
      "dtypes: object(2)\n",
      "memory usage: 70.4+ KB\n"
     ]
    }
   ],
   "source": [
    "df_test = pd.read_csv(DATA_FOLDER + 'test.csv')\n",
    "df_test.info()"
   ]
  },
  {
   "cell_type": "code",
   "execution_count": 15,
   "metadata": {},
   "outputs": [
    {
     "data": {
      "text/plain": [
       "{'current_location': 0,\n",
       " 'date': 1,\n",
       " 'international_fees': 2,\n",
       " 'lost_luggage': 3,\n",
       " 'whisper_mode': 4,\n",
       " 'plug_type': 5,\n",
       " 'credit_limit': 6,\n",
       " 'pto_used': 7,\n",
       " 'make_call': 8,\n",
       " 'directions': 9,\n",
       " 'report_fraud': 10,\n",
       " 'spending_history': 11,\n",
       " 'share_location': 12,\n",
       " 'new_card': 13,\n",
       " 'who_made_you': 14,\n",
       " 'expiration_date': 15,\n",
       " 'payday': 16,\n",
       " 'gas': 17,\n",
       " 'flight_status': 18,\n",
       " 'travel_alert': 19,\n",
       " 'what_are_your_hobbies': 20,\n",
       " 'what_can_i_ask_you': 21,\n",
       " 'travel_notification': 22,\n",
       " 'calendar_update': 23,\n",
       " 'meal_suggestion': 24,\n",
       " 'nutrition_info': 25,\n",
       " 'calories': 26,\n",
       " 'pay_bill': 27,\n",
       " 'replacement_card_duration': 28,\n",
       " 'credit_limit_change': 29,\n",
       " 'next_holiday': 30,\n",
       " 'timezone': 31,\n",
       " 'pto_balance': 32,\n",
       " 'are_you_a_bot': 33,\n",
       " 'transactions': 34,\n",
       " 'gas_type': 35,\n",
       " 'measurement_conversion': 36,\n",
       " 'todo_list_update': 37,\n",
       " 'alarm': 38,\n",
       " 'damaged_card': 39,\n",
       " 'exchange_rate': 40,\n",
       " 'balance': 41,\n",
       " 'repeat': 42,\n",
       " 'taxes': 43,\n",
       " 'application_status': 44,\n",
       " 'pto_request': 45,\n",
       " 'fun_fact': 46,\n",
       " 'freeze_account': 47,\n",
       " 'what_song': 48,\n",
       " 'order_checks': 49,\n",
       " 'redeem_rewards': 50,\n",
       " 'report_lost_card': 51,\n",
       " 'who_do_you_work_for': 52,\n",
       " 'what_is_your_name': 53,\n",
       " 'next_song': 54,\n",
       " 'change_speed': 55,\n",
       " 'mpg': 56,\n",
       " 'apr': 57,\n",
       " 'income': 58,\n",
       " 'restaurant_suggestion': 59,\n",
       " 'accept_reservations': 60,\n",
       " 'restaurant_reservation': 61,\n",
       " 'change_accent': 62,\n",
       " 'weather': 63,\n",
       " 'distance': 64,\n",
       " 'schedule_meeting': 65,\n",
       " 'meaning_of_life': 66,\n",
       " 'direct_deposit': 67,\n",
       " 'order': 68,\n",
       " 'change_volume': 69,\n",
       " 'cancel': 70,\n",
       " 'w2': 71,\n",
       " 'last_maintenance': 72,\n",
       " 'international_visa': 73,\n",
       " 'do_you_have_pets': 74,\n",
       " 'oil_change_when': 75,\n",
       " 'interest_rate': 76,\n",
       " 'tire_pressure': 77,\n",
       " 'where_are_you_from': 78,\n",
       " 'order_status': 79,\n",
       " 'book_flight': 80,\n",
       " 'how_old_are_you': 81,\n",
       " 'text': 82,\n",
       " 'play_music': 83,\n",
       " 'uber': 84,\n",
       " 'book_hotel': 85,\n",
       " 'confirm_reservation': 86,\n",
       " 'find_phone': 87,\n",
       " 'insurance_change': 88,\n",
       " 'flip_coin': 89,\n",
       " 'carry_on': 90,\n",
       " 'schedule_maintenance': 91,\n",
       " 'reminder': 92,\n",
       " 'no': 93,\n",
       " 'timer': 94,\n",
       " 'food_last': 95,\n",
       " 'oil_change_how': 96,\n",
       " 'change_user_name': 97,\n",
       " 'cook_time': 98,\n",
       " 'time': 99,\n",
       " 'tell_joke': 100,\n",
       " 'sync_device': 101,\n",
       " 'shopping_list': 102,\n",
       " 'ingredients_list': 103,\n",
       " 'reset_settings': 104,\n",
       " 'credit_score': 105,\n",
       " 'definition': 106,\n",
       " 'pto_request_status': 107,\n",
       " 'goodbye': 108,\n",
       " 'todo_list': 109,\n",
       " 'improve_credit_score': 110,\n",
       " 'min_payment': 111,\n",
       " 'user_name': 112,\n",
       " 'rollover_401k': 113,\n",
       " 'tire_change': 114,\n",
       " 'transfer': 115,\n",
       " 'calculator': 116,\n",
       " 'yes': 117,\n",
       " 'roll_dice': 118,\n",
       " 'recipe': 119,\n",
       " 'bill_balance': 120,\n",
       " 'change_language': 121,\n",
       " 'meeting_schedule': 122,\n",
       " 'vaccines': 123,\n",
       " 'routing': 124,\n",
       " 'jump_start': 125,\n",
       " 'smart_home': 126,\n",
       " 'car_rental': 127,\n",
       " 'cancel_reservation': 128,\n",
       " 'how_busy': 129,\n",
       " 'maybe': 130,\n",
       " 'spelling': 131,\n",
       " 'bill_due': 132,\n",
       " 'reminder_update': 133,\n",
       " 'restaurant_reviews': 134,\n",
       " 'thank_you': 135,\n",
       " 'update_playlist': 136,\n",
       " 'traffic': 137,\n",
       " 'travel_suggestion': 138,\n",
       " 'card_declined': 139,\n",
       " 'ingredient_substitution': 140,\n",
       " 'rewards_balance': 141,\n",
       " 'change_ai_name': 142,\n",
       " 'pin_change': 143,\n",
       " 'calendar': 144,\n",
       " 'greeting': 145,\n",
       " 'insurance': 146,\n",
       " 'account_blocked': 147,\n",
       " 'translate': 148,\n",
       " 'shopping_list_update': 149}"
      ]
     },
     "execution_count": 15,
     "metadata": {},
     "output_type": "execute_result"
    }
   ],
   "source": [
    "labels = {k:i for i,k in enumerate(set(df_train['intent'].tolist()))}\n",
    "labels"
   ]
  },
  {
   "cell_type": "code",
   "execution_count": 39,
   "metadata": {},
   "outputs": [],
   "source": [
    "label_list = [k.replace('_',' ') for k in labels.keys()]"
   ]
  },
  {
   "cell_type": "code",
   "execution_count": 105,
   "metadata": {},
   "outputs": [],
   "source": [
    "l_access_request = 'Access Request'\n",
    "l_action_request ='Action request'\n",
    "l_asking_for_information ='Asking for Information'\n",
    "l_clarify_issue='Clarify Issue'\n",
    "l_general_statement='General Statement'\n",
    "l_issue_error_problem='Issue Error problem'\n",
    "l_need_support_person_help='Need support person help'\n",
    "l_benefits_question = 'benefits Question'"
   ]
  },
  {
   "cell_type": "code",
   "execution_count": 16,
   "metadata": {},
   "outputs": [],
   "source": [
    "df_train['label_number'] = df_train['intent'].apply(lambda x: labels.get(x,-1))\n",
    "df_valid['label_number'] = df_valid['intent'].apply(lambda x: labels.get(x,-1))\n",
    "df_test['label_number'] = df_test['intent'].apply(lambda x: labels.get(x,-1))"
   ]
  },
  {
   "cell_type": "code",
   "execution_count": null,
   "metadata": {},
   "outputs": [],
   "source": []
  },
  {
   "cell_type": "code",
   "execution_count": 17,
   "metadata": {},
   "outputs": [
    {
     "data": {
      "text/plain": [
       "(7500, 4500, 3000)"
      ]
     },
     "execution_count": 17,
     "metadata": {},
     "output_type": "execute_result"
    }
   ],
   "source": [
    "len(df_train),  len(df_test), len(df_valid)"
   ]
  },
  {
   "cell_type": "code",
   "execution_count": 18,
   "metadata": {},
   "outputs": [
    {
     "data": {
      "application/vnd.jupyter.widget-view+json": {
       "model_id": "dad045a1ce9540c69feca85b9b37f8db",
       "version_major": 2,
       "version_minor": 0
      },
      "text/plain": [
       "HBox(children=(FloatProgress(value=0.0, description='Downloading', max=26.0, style=ProgressStyle(description_w…"
      ]
     },
     "metadata": {},
     "output_type": "display_data"
    },
    {
     "name": "stdout",
     "output_type": "stream",
     "text": [
      "\n"
     ]
    },
    {
     "data": {
      "application/vnd.jupyter.widget-view+json": {
       "model_id": "1aff5811f8c840a890d9613f201a6d4f",
       "version_major": 2,
       "version_minor": 0
      },
      "text/plain": [
       "HBox(children=(FloatProgress(value=0.0, description='Downloading', max=898822.0, style=ProgressStyle(descripti…"
      ]
     },
     "metadata": {},
     "output_type": "display_data"
    },
    {
     "name": "stdout",
     "output_type": "stream",
     "text": [
      "\n"
     ]
    },
    {
     "data": {
      "application/vnd.jupyter.widget-view+json": {
       "model_id": "903d5b22507241d5a4f82186056095ff",
       "version_major": 2,
       "version_minor": 0
      },
      "text/plain": [
       "HBox(children=(FloatProgress(value=0.0, description='Downloading', max=456318.0, style=ProgressStyle(descripti…"
      ]
     },
     "metadata": {},
     "output_type": "display_data"
    },
    {
     "name": "stdout",
     "output_type": "stream",
     "text": [
      "\n"
     ]
    },
    {
     "data": {
      "application/vnd.jupyter.widget-view+json": {
       "model_id": "d079c7a990144f8aa9b6152371ba0e69",
       "version_major": 2,
       "version_minor": 0
      },
      "text/plain": [
       "HBox(children=(FloatProgress(value=0.0, description='Downloading', max=1355863.0, style=ProgressStyle(descript…"
      ]
     },
     "metadata": {},
     "output_type": "display_data"
    },
    {
     "name": "stdout",
     "output_type": "stream",
     "text": [
      "\n"
     ]
    }
   ],
   "source": [
    "from transformers import pipeline\n",
    "classifier = pipeline(\"zero-shot-classification\",\n",
    "                      model=\"facebook/bart-large-mnli\")"
   ]
  },
  {
   "cell_type": "code",
   "execution_count": 42,
   "metadata": {},
   "outputs": [
    {
     "data": {
      "text/plain": [
       "'tell me the expiration date for my current credit card'"
      ]
     },
     "execution_count": 42,
     "metadata": {},
     "output_type": "execute_result"
    }
   ],
   "source": [
    "df_train['text'][0]"
   ]
  },
  {
   "cell_type": "code",
   "execution_count": null,
   "metadata": {},
   "outputs": [],
   "source": []
  },
  {
   "cell_type": "code",
   "execution_count": 43,
   "metadata": {},
   "outputs": [],
   "source": [
    "res = classifier(df_train['text'][0], label_list)"
   ]
  },
  {
   "cell_type": "code",
   "execution_count": 44,
   "metadata": {},
   "outputs": [
    {
     "name": "stdout",
     "output_type": "stream",
     "text": [
      "expiration date 0.11\n",
      "pto request status 0.09\n",
      "what can i ask you 0.07\n",
      "change language 0.07\n",
      "date 0.07\n",
      "pto request 0.06\n",
      "reminder 0.05\n",
      "make call 0.04\n",
      "reminder update 0.03\n",
      "translate 0.02\n",
      "directions 0.02\n",
      "text 0.01\n",
      "share location 0.01\n",
      "maybe 0.01\n",
      "pto balance 0.01\n",
      "change accent 0.01\n",
      "repeat 0.01\n",
      "plug type 0.01\n",
      "pto used 0.01\n",
      "order 0.01\n",
      "replacement card duration 0.01\n",
      "order status 0.01\n",
      "sync device 0.01\n",
      "min payment 0.01\n",
      "goodbye 0.01\n",
      "definition 0.01\n",
      "spending history 0.01\n",
      "reset settings 0.01\n",
      "routing 0.01\n",
      "balance 0.01\n",
      "credit limit 0.0\n",
      "no 0.0\n",
      "timer 0.0\n",
      "time 0.0\n",
      "fun fact 0.0\n",
      "change volume 0.0\n",
      "change speed 0.0\n",
      "freeze account 0.0\n",
      "travel alert 0.0\n",
      "bill balance 0.0\n",
      "transactions 0.0\n",
      "mpg 0.0\n",
      "credit limit change 0.0\n",
      "jump start 0.0\n",
      "w2 0.0\n",
      "rewards balance 0.0\n",
      "pay bill 0.0\n",
      "whisper mode 0.0\n",
      "find phone 0.0\n",
      "carry on 0.0\n",
      "bill due 0.0\n",
      "accept reservations 0.0\n",
      "transfer 0.0\n",
      "last maintenance 0.0\n",
      "redeem rewards 0.0\n",
      "uber 0.0\n",
      "application status 0.0\n",
      "travel suggestion 0.0\n",
      "update playlist 0.0\n",
      "smart home 0.0\n",
      "todo list 0.0\n",
      "user name 0.0\n",
      "timezone 0.0\n",
      "measurement conversion 0.0\n",
      "gas type 0.0\n",
      "exchange rate 0.0\n",
      "distance 0.0\n",
      "pin change 0.0\n",
      "todo list update 0.0\n",
      "calculator 0.0\n",
      "change user name 0.0\n",
      "income 0.0\n",
      "confirm reservation 0.0\n",
      "change ai name 0.0\n",
      "travel notification 0.0\n",
      "yes 0.0\n",
      "greeting 0.0\n",
      "spelling 0.0\n",
      "interest rate 0.0\n",
      "cancel 0.0\n",
      "calendar update 0.0\n",
      "alarm 0.0\n",
      "credit score 0.0\n",
      "improve credit score 0.0\n",
      "current location 0.0\n",
      "report lost card 0.0\n",
      "order checks 0.0\n",
      "cook time 0.0\n",
      "ingredient substitution 0.0\n",
      "thank you 0.0\n",
      "schedule meeting 0.0\n",
      "schedule maintenance 0.0\n",
      "damaged card 0.0\n",
      "meal suggestion 0.0\n",
      "shopping list update 0.0\n",
      "what song 0.0\n",
      "meaning of life 0.0\n",
      "tell joke 0.0\n",
      "report fraud 0.0\n",
      "calendar 0.0\n",
      "cancel reservation 0.0\n",
      "restaurant suggestion 0.0\n",
      "flight status 0.0\n",
      "meeting schedule 0.0\n",
      "flip coin 0.0\n",
      "insurance change 0.0\n",
      "new card 0.0\n",
      "shopping list 0.0\n",
      "card declined 0.0\n",
      "ingredients list 0.0\n",
      "next song 0.0\n",
      "traffic 0.0\n",
      "direct deposit 0.0\n",
      "play music 0.0\n",
      "insurance 0.0\n",
      "book hotel 0.0\n",
      "payday 0.0\n",
      "recipe 0.0\n",
      "book flight 0.0\n",
      "gas 0.0\n",
      "oil change how 0.0\n",
      "calories 0.0\n",
      "who do you work for 0.0\n",
      "how busy 0.0\n",
      "what is your name 0.0\n",
      "car rental 0.0\n",
      "how old are you 0.0\n",
      "apr 0.0\n",
      "oil change when 0.0\n",
      "nutrition info 0.0\n",
      "do you have pets 0.0\n",
      "international fees 0.0\n",
      "tire pressure 0.0\n",
      "tire change 0.0\n",
      "roll dice 0.0\n",
      "are you a bot 0.0\n",
      "food last 0.0\n",
      "where are you from 0.0\n",
      "taxes 0.0\n",
      "lost luggage 0.0\n",
      "account blocked 0.0\n",
      "restaurant reviews 0.0\n",
      "weather 0.0\n",
      "restaurant reservation 0.0\n",
      "what are your hobbies 0.0\n",
      "international visa 0.0\n",
      "vaccines 0.0\n",
      "rollover 401k 0.0\n",
      "who made you 0.0\n",
      "next holiday 0.0\n"
     ]
    }
   ],
   "source": [
    "for l, s in zip(res['labels'], res['scores']):\n",
    "    print(l,round(s,2))"
   ]
  },
  {
   "cell_type": "code",
   "execution_count": 45,
   "metadata": {},
   "outputs": [
    {
     "data": {
      "text/plain": [
       "'would you disconnect from my phone'"
      ]
     },
     "execution_count": 45,
     "metadata": {},
     "output_type": "execute_result"
    }
   ],
   "source": [
    "df_train['text'][1]"
   ]
  },
  {
   "cell_type": "code",
   "execution_count": 46,
   "metadata": {},
   "outputs": [],
   "source": [
    "res = classifier(df_train['text'][1], label_list)"
   ]
  },
  {
   "cell_type": "code",
   "execution_count": 47,
   "metadata": {},
   "outputs": [
    {
     "name": "stdout",
     "output_type": "stream",
     "text": [
      "distance 0.08\n",
      "change language 0.07\n",
      "pto request 0.06\n",
      "cancel 0.05\n",
      "pto request status 0.05\n",
      "card declined 0.05\n",
      "goodbye 0.04\n",
      "what can i ask you 0.04\n",
      "account blocked 0.03\n",
      "maybe 0.03\n",
      "transfer 0.03\n",
      "find phone 0.02\n",
      "no 0.02\n",
      "confirm reservation 0.02\n",
      "accept reservations 0.02\n",
      "pto balance 0.02\n",
      "pto used 0.02\n",
      "change accent 0.02\n",
      "reset settings 0.01\n",
      "sync device 0.01\n",
      "change user name 0.01\n",
      "translate 0.01\n",
      "plug type 0.01\n",
      "balance 0.01\n",
      "reminder 0.01\n",
      "mpg 0.01\n",
      "w2 0.01\n",
      "text 0.01\n",
      "order status 0.01\n",
      "freeze account 0.01\n",
      "change speed 0.01\n",
      "share location 0.01\n",
      "change ai name 0.01\n",
      "user name 0.01\n",
      "order 0.01\n",
      "cancel reservation 0.01\n",
      "routing 0.01\n",
      "replacement card duration 0.01\n",
      "current location 0.01\n",
      "change volume 0.0\n",
      "definition 0.0\n",
      "repeat 0.0\n",
      "application status 0.0\n",
      "damaged card 0.0\n",
      "min payment 0.0\n",
      "alarm 0.0\n",
      "apr 0.0\n",
      "yes 0.0\n",
      "uber 0.0\n",
      "make call 0.0\n",
      "jump start 0.0\n",
      "timer 0.0\n",
      "time 0.0\n",
      "whisper mode 0.0\n",
      "pin change 0.0\n",
      "gas type 0.0\n",
      "rewards balance 0.0\n",
      "timezone 0.0\n",
      "new card 0.0\n",
      "tell joke 0.0\n",
      "date 0.0\n",
      "transactions 0.0\n",
      "thank you 0.0\n",
      "last maintenance 0.0\n",
      "what song 0.0\n",
      "travel alert 0.0\n",
      "spelling 0.0\n",
      "meaning of life 0.0\n",
      "spending history 0.0\n",
      "ingredient substitution 0.0\n",
      "travel suggestion 0.0\n",
      "expiration date 0.0\n",
      "flip coin 0.0\n",
      "smart home 0.0\n",
      "direct deposit 0.0\n",
      "greeting 0.0\n",
      "gas 0.0\n",
      "how busy 0.0\n",
      "income 0.0\n",
      "credit limit 0.0\n",
      "meal suggestion 0.0\n",
      "calendar 0.0\n",
      "credit limit change 0.0\n",
      "reminder update 0.0\n",
      "what are your hobbies 0.0\n",
      "international fees 0.0\n",
      "bill due 0.0\n",
      "fun fact 0.0\n",
      "cook time 0.0\n",
      "directions 0.0\n",
      "calculator 0.0\n",
      "travel notification 0.0\n",
      "exchange rate 0.0\n",
      "do you have pets 0.0\n",
      "order checks 0.0\n",
      "carry on 0.0\n",
      "measurement conversion 0.0\n",
      "calendar update 0.0\n",
      "update playlist 0.0\n",
      "where are you from 0.0\n",
      "ingredients list 0.0\n",
      "book hotel 0.0\n",
      "schedule meeting 0.0\n",
      "calories 0.0\n",
      "schedule maintenance 0.0\n",
      "book flight 0.0\n",
      "redeem rewards 0.0\n",
      "next song 0.0\n",
      "todo list 0.0\n",
      "bill balance 0.0\n",
      "who do you work for 0.0\n",
      "are you a bot 0.0\n",
      "roll dice 0.0\n",
      "payday 0.0\n",
      "pay bill 0.0\n",
      "report fraud 0.0\n",
      "restaurant suggestion 0.0\n",
      "tire change 0.0\n",
      "tire pressure 0.0\n",
      "recipe 0.0\n",
      "interest rate 0.0\n",
      "todo list update 0.0\n",
      "flight status 0.0\n",
      "weather 0.0\n",
      "rollover 401k 0.0\n",
      "report lost card 0.0\n",
      "insurance change 0.0\n",
      "traffic 0.0\n",
      "international visa 0.0\n",
      "credit score 0.0\n",
      "improve credit score 0.0\n",
      "oil change when 0.0\n",
      "what is your name 0.0\n",
      "oil change how 0.0\n",
      "meeting schedule 0.0\n",
      "lost luggage 0.0\n",
      "next holiday 0.0\n",
      "car rental 0.0\n",
      "food last 0.0\n",
      "insurance 0.0\n",
      "play music 0.0\n",
      "restaurant reviews 0.0\n",
      "restaurant reservation 0.0\n",
      "who made you 0.0\n",
      "how old are you 0.0\n",
      "shopping list 0.0\n",
      "vaccines 0.0\n",
      "shopping list update 0.0\n",
      "nutrition info 0.0\n",
      "taxes 0.0\n"
     ]
    }
   ],
   "source": [
    "for l, s in zip(res['labels'], res['scores']):\n",
    "    print(l,round(s,2))"
   ]
  },
  {
   "cell_type": "code",
   "execution_count": 147,
   "metadata": {},
   "outputs": [],
   "source": [
    "from snorkel.labeling import labeling_function\n",
    "\n",
    "ABSTAIN = -1\n",
    "\n",
    "@labeling_function()\n",
    "def r1(x):\n",
    "    pass\n",
    "\n",
    "@labeling_function()\n",
    "def r2(x):\n",
    "    pass\n",
    "\n"
   ]
  },
  {
   "cell_type": "code",
   "execution_count": 148,
   "metadata": {},
   "outputs": [
    {
     "name": "stderr",
     "output_type": "stream",
     "text": [
      "100%|██████████| 1600/1600 [00:00<00:00, 4043.30it/s]\n"
     ]
    }
   ],
   "source": [
    "lfs = [r1, r2, r3, r4, r5, r6, r7, r8,r9,r10, r11, r12, r13, r14, r15, r16, r17, r18]\n",
    "\n",
    "applier = PandasLFApplier(lfs=lfs)\n",
    "L_train = applier.apply(df=df_train)"
   ]
  },
  {
   "cell_type": "code",
   "execution_count": 149,
   "metadata": {},
   "outputs": [
    {
     "name": "stdout",
     "output_type": "stream",
     "text": [
      "Coverages:\n",
      "  r1: 0.50%\n",
      "  r2: 2.25%\n",
      "  r3: 99.25%\n",
      "  r4: 21.62%\n",
      "  r5: 0.19%\n",
      "  r6: 0.88%\n",
      "  r7: 0.81%\n",
      "  r8: 0.19%\n",
      "  r9: 0.00%\n",
      "  r10: 0.00%\n",
      "  r11: 0.00%\n",
      "  r12: 0.00%\n",
      "  r13: 0.00%\n",
      "  r14: 0.12%\n",
      "  r15: 0.00%\n",
      "  r16: 0.00%\n",
      "  r17: 0.00%\n",
      "  r18: 0.12%\n"
     ]
    }
   ],
   "source": [
    "coverages = (L_train != ABSTAIN).mean(axis=0)\n",
    "print(\"Coverages:\")\n",
    "for  cov, lf in zip(coverages, lfs):\n",
    "    print(\"  {}: {:.2f}%\".format(lf.name, 100*cov))"
   ]
  },
  {
   "cell_type": "code",
   "execution_count": 150,
   "metadata": {},
   "outputs": [
    {
     "data": {
      "text/html": [
       "<div>\n",
       "<style scoped>\n",
       "    .dataframe tbody tr th:only-of-type {\n",
       "        vertical-align: middle;\n",
       "    }\n",
       "\n",
       "    .dataframe tbody tr th {\n",
       "        vertical-align: top;\n",
       "    }\n",
       "\n",
       "    .dataframe thead th {\n",
       "        text-align: right;\n",
       "    }\n",
       "</style>\n",
       "<table border=\"1\" class=\"dataframe\">\n",
       "  <thead>\n",
       "    <tr style=\"text-align: right;\">\n",
       "      <th></th>\n",
       "      <th>j</th>\n",
       "      <th>Polarity</th>\n",
       "      <th>Coverage</th>\n",
       "      <th>Overlaps</th>\n",
       "      <th>Conflicts</th>\n",
       "    </tr>\n",
       "  </thead>\n",
       "  <tbody>\n",
       "    <tr>\n",
       "      <th>r1</th>\n",
       "      <td>0</td>\n",
       "      <td>[1]</td>\n",
       "      <td>0.005000</td>\n",
       "      <td>0.001875</td>\n",
       "      <td>0.000625</td>\n",
       "    </tr>\n",
       "    <tr>\n",
       "      <th>r2</th>\n",
       "      <td>1</td>\n",
       "      <td>[1]</td>\n",
       "      <td>0.022500</td>\n",
       "      <td>0.022500</td>\n",
       "      <td>0.021250</td>\n",
       "    </tr>\n",
       "    <tr>\n",
       "      <th>r3</th>\n",
       "      <td>2</td>\n",
       "      <td>[2]</td>\n",
       "      <td>0.992500</td>\n",
       "      <td>0.253125</td>\n",
       "      <td>0.021250</td>\n",
       "    </tr>\n",
       "    <tr>\n",
       "      <th>r4</th>\n",
       "      <td>3</td>\n",
       "      <td>[2]</td>\n",
       "      <td>0.216250</td>\n",
       "      <td>0.215625</td>\n",
       "      <td>0.003750</td>\n",
       "    </tr>\n",
       "    <tr>\n",
       "      <th>r5</th>\n",
       "      <td>4</td>\n",
       "      <td>[2]</td>\n",
       "      <td>0.001875</td>\n",
       "      <td>0.001875</td>\n",
       "      <td>0.000000</td>\n",
       "    </tr>\n",
       "    <tr>\n",
       "      <th>r6</th>\n",
       "      <td>5</td>\n",
       "      <td>[2]</td>\n",
       "      <td>0.008750</td>\n",
       "      <td>0.008750</td>\n",
       "      <td>0.000000</td>\n",
       "    </tr>\n",
       "    <tr>\n",
       "      <th>r7</th>\n",
       "      <td>6</td>\n",
       "      <td>[2]</td>\n",
       "      <td>0.008125</td>\n",
       "      <td>0.008125</td>\n",
       "      <td>0.000625</td>\n",
       "    </tr>\n",
       "    <tr>\n",
       "      <th>r8</th>\n",
       "      <td>7</td>\n",
       "      <td>[2]</td>\n",
       "      <td>0.001875</td>\n",
       "      <td>0.001875</td>\n",
       "      <td>0.000000</td>\n",
       "    </tr>\n",
       "    <tr>\n",
       "      <th>r9</th>\n",
       "      <td>8</td>\n",
       "      <td>[]</td>\n",
       "      <td>0.000000</td>\n",
       "      <td>0.000000</td>\n",
       "      <td>0.000000</td>\n",
       "    </tr>\n",
       "    <tr>\n",
       "      <th>r10</th>\n",
       "      <td>9</td>\n",
       "      <td>[]</td>\n",
       "      <td>0.000000</td>\n",
       "      <td>0.000000</td>\n",
       "      <td>0.000000</td>\n",
       "    </tr>\n",
       "    <tr>\n",
       "      <th>r11</th>\n",
       "      <td>10</td>\n",
       "      <td>[]</td>\n",
       "      <td>0.000000</td>\n",
       "      <td>0.000000</td>\n",
       "      <td>0.000000</td>\n",
       "    </tr>\n",
       "    <tr>\n",
       "      <th>r12</th>\n",
       "      <td>11</td>\n",
       "      <td>[]</td>\n",
       "      <td>0.000000</td>\n",
       "      <td>0.000000</td>\n",
       "      <td>0.000000</td>\n",
       "    </tr>\n",
       "    <tr>\n",
       "      <th>r13</th>\n",
       "      <td>12</td>\n",
       "      <td>[]</td>\n",
       "      <td>0.000000</td>\n",
       "      <td>0.000000</td>\n",
       "      <td>0.000000</td>\n",
       "    </tr>\n",
       "    <tr>\n",
       "      <th>r14</th>\n",
       "      <td>13</td>\n",
       "      <td>[0]</td>\n",
       "      <td>0.001250</td>\n",
       "      <td>0.001250</td>\n",
       "      <td>0.000000</td>\n",
       "    </tr>\n",
       "    <tr>\n",
       "      <th>r15</th>\n",
       "      <td>14</td>\n",
       "      <td>[]</td>\n",
       "      <td>0.000000</td>\n",
       "      <td>0.000000</td>\n",
       "      <td>0.000000</td>\n",
       "    </tr>\n",
       "    <tr>\n",
       "      <th>r16</th>\n",
       "      <td>15</td>\n",
       "      <td>[]</td>\n",
       "      <td>0.000000</td>\n",
       "      <td>0.000000</td>\n",
       "      <td>0.000000</td>\n",
       "    </tr>\n",
       "    <tr>\n",
       "      <th>r17</th>\n",
       "      <td>16</td>\n",
       "      <td>[]</td>\n",
       "      <td>0.000000</td>\n",
       "      <td>0.000000</td>\n",
       "      <td>0.000000</td>\n",
       "    </tr>\n",
       "    <tr>\n",
       "      <th>r18</th>\n",
       "      <td>17</td>\n",
       "      <td>[0]</td>\n",
       "      <td>0.001250</td>\n",
       "      <td>0.001250</td>\n",
       "      <td>0.000000</td>\n",
       "    </tr>\n",
       "  </tbody>\n",
       "</table>\n",
       "</div>"
      ],
      "text/plain": [
       "      j Polarity  Coverage  Overlaps  Conflicts\n",
       "r1    0      [1]  0.005000  0.001875   0.000625\n",
       "r2    1      [1]  0.022500  0.022500   0.021250\n",
       "r3    2      [2]  0.992500  0.253125   0.021250\n",
       "r4    3      [2]  0.216250  0.215625   0.003750\n",
       "r5    4      [2]  0.001875  0.001875   0.000000\n",
       "r6    5      [2]  0.008750  0.008750   0.000000\n",
       "r7    6      [2]  0.008125  0.008125   0.000625\n",
       "r8    7      [2]  0.001875  0.001875   0.000000\n",
       "r9    8       []  0.000000  0.000000   0.000000\n",
       "r10   9       []  0.000000  0.000000   0.000000\n",
       "r11  10       []  0.000000  0.000000   0.000000\n",
       "r12  11       []  0.000000  0.000000   0.000000\n",
       "r13  12       []  0.000000  0.000000   0.000000\n",
       "r14  13      [0]  0.001250  0.001250   0.000000\n",
       "r15  14       []  0.000000  0.000000   0.000000\n",
       "r16  15       []  0.000000  0.000000   0.000000\n",
       "r17  16       []  0.000000  0.000000   0.000000\n",
       "r18  17      [0]  0.001250  0.001250   0.000000"
      ]
     },
     "execution_count": 150,
     "metadata": {},
     "output_type": "execute_result"
    }
   ],
   "source": [
    "LFAnalysis(L=L_train, lfs=lfs).lf_summary()"
   ]
  },
  {
   "cell_type": "code",
   "execution_count": 151,
   "metadata": {},
   "outputs": [],
   "source": [
    "random_voter = RandomVoter(cardinality=3)\n",
    "preds_train = random_voter.predict(L=L_train)"
   ]
  },
  {
   "cell_type": "code",
   "execution_count": 152,
   "metadata": {},
   "outputs": [],
   "source": [
    "majority_model = MajorityLabelVoter(cardinality=3)\n",
    "preds_train = majority_model.predict(L=L_train)"
   ]
  },
  {
   "cell_type": "code",
   "execution_count": 153,
   "metadata": {},
   "outputs": [
    {
     "name": "stderr",
     "output_type": "stream",
     "text": [
      "INFO:root:Computing O...\n",
      "INFO:root:Estimating \\mu...\n",
      "  0%|          | 0/500 [00:00<?, ?epoch/s]INFO:root:[0 epochs]: TRAIN:[loss=0.632]\n",
      "INFO:root:[100 epochs]: TRAIN:[loss=0.001]\n",
      " 31%|███       | 155/500 [00:00<00:00, 1547.64epoch/s]INFO:root:[200 epochs]: TRAIN:[loss=0.001]\n",
      "INFO:root:[300 epochs]: TRAIN:[loss=0.000]\n",
      " 63%|██████▎   | 317/500 [00:00<00:00, 1566.89epoch/s]INFO:root:[400 epochs]: TRAIN:[loss=0.000]\n",
      "100%|██████████| 500/500 [00:00<00:00, 1534.59epoch/s]\n",
      "INFO:root:Finished Training\n"
     ]
    }
   ],
   "source": [
    "label_model = LabelModel(cardinality=3, verbose=True)\n",
    "label_model.fit(L_train=L_train, n_epochs=500, log_freq=100, seed=123)"
   ]
  },
  {
   "cell_type": "code",
   "execution_count": 154,
   "metadata": {},
   "outputs": [
    {
     "name": "stderr",
     "output_type": "stream",
     "text": [
      "100%|██████████| 800/800 [00:00<00:00, 3856.67it/s]\n"
     ]
    }
   ],
   "source": [
    "L_test = applier.apply(df=df_test)"
   ]
  },
  {
   "cell_type": "code",
   "execution_count": 155,
   "metadata": {},
   "outputs": [
    {
     "name": "stdout",
     "output_type": "stream",
     "text": [
      "Random Model Accuracy:    32.1%\n",
      "Majority Vote Accuracy:   34.0%\n",
      "Label Model Accuracy:     33.8%\n"
     ]
    }
   ],
   "source": [
    "random_model_acc = random_voter.score(L=L_test, Y=df_test['label_number'], tie_break_policy=\"random\")[\"accuracy\"]\n",
    "print(f\"{'Random Model Accuracy:':<25} {random_model_acc * 100:.1f}%\")\n",
    "\n",
    "majority_acc = majority_model.score(L=L_test, Y=df_test['label_number'], tie_break_policy=\"random\")[\"accuracy\"]\n",
    "print(f\"{'Majority Vote Accuracy:':<25} {majority_acc * 100:.1f}%\")\n",
    "\n",
    "label_model_acc = label_model.score(L=L_test, Y=df_test['label_number'], tie_break_policy=\"random\")[\"accuracy\"]\n",
    "print(f\"{'Label Model Accuracy:':<25} {label_model_acc * 100:.1f}%\")"
   ]
  },
  {
   "cell_type": "code",
   "execution_count": 156,
   "metadata": {},
   "outputs": [
    {
     "data": {
      "image/png": "[encoded data removed]",
      "text/plain": [
       "<Figure size 432x288 with 1 Axes>"
      ]
     },
     "metadata": {
      "needs_background": "light"
     },
     "output_type": "display_data"
    }
   ],
   "source": [
    "def plot_label_frequency(L):\n",
    "    plt.hist((L != ABSTAIN).sum(axis=1), density=True, bins=range(L.shape[1]))\n",
    "    plt.xlabel(\"Number of labels\")\n",
    "    plt.ylabel(\"Fraction of dataset\")\n",
    "    plt.show()\n",
    "\n",
    "\n",
    "plot_label_frequency(L_train)"
   ]
  },
  {
   "cell_type": "markdown",
   "metadata": {},
   "source": [
    "OBSERVATION:\n",
    " - Most of labels doesnot triggered\n",
    " - Label 1 has the highest coverage and effect"
   ]
  },
  {
   "cell_type": "code",
   "execution_count": 157,
   "metadata": {},
   "outputs": [
    {
     "data": {
      "image/png": "[encoded data removed]",
      "text/plain": [
       "<Figure size 432x288 with 1 Axes>"
      ]
     },
     "metadata": {
      "needs_background": "light"
     },
     "output_type": "display_data"
    },
    {
     "data": {
      "image/png": "[encoded data removed]",
      "text/plain": [
       "<Figure size 432x288 with 1 Axes>"
      ]
     },
     "metadata": {
      "needs_background": "light"
     },
     "output_type": "display_data"
    },
    {
     "data": {
      "image/png": "[encoded data removed]",
      "text/plain": [
       "<Figure size 432x288 with 1 Axes>"
      ]
     },
     "metadata": {
      "needs_background": "light"
     },
     "output_type": "display_data"
    }
   ],
   "source": [
    "\n",
    "def plot_probabilities_histogram(Y, col):\n",
    "    plt.hist(Y, bins=10)\n",
    "    plt.xlabel(\"Probability of \" + col)\n",
    "    plt.ylabel(\"Number of data points\")\n",
    "    plt.show()\n",
    "\n",
    "\n",
    "probs_train = label_model.predict_proba(L=L_train)\n",
    "plot_probabilities_histogram(probs_train[:, Critical], 'Critical')\n",
    "plot_probabilities_histogram(probs_train[:, Non_Critical], 'Non_Critical')\n",
    "plot_probabilities_histogram(probs_train[:, Inconclusive], 'Inconclusive')"
   ]
  },
  {
   "cell_type": "code",
   "execution_count": null,
   "metadata": {},
   "outputs": [],
   "source": [
    "from snorkel.labeling import filter_unlabeled_dataframe\n",
    "\n",
    "df_train_filtered, probs_train_filtered = filter_unlabeled_dataframe(\n",
    "    X=df_train, y=probs_train, L=L_train\n",
    ")\n",
    "df_train_filtered[['text','label', 'label1','label2']]"
   ]
  },
  {
   "cell_type": "code",
   "execution_count": 167,
   "metadata": {},
   "outputs": [
    {
     "name": "stderr",
     "output_type": "stream",
     "text": [
      "/Users/tayfun.tuna/opt/anaconda3/envs/astra/lib/python3.6/site-packages/pandas/core/series.py:4535: SettingWithCopyWarning: \n",
      "A value is trying to be set on a copy of a slice from a DataFrame\n",
      "\n",
      "See the caveats in the documentation: https://pandas.pydata.org/pandas-docs/stable/user_guide/indexing.html#returning-a-view-versus-a-copy\n",
      "  downcast=downcast,\n"
     ]
    },
    {
     "data": {
      "text/plain": [
       "<AxesSubplot:>"
      ]
     },
     "execution_count": 167,
     "metadata": {},
     "output_type": "execute_result"
    },
    {
     "data": {
      "image/png": "[encoded data removed]",
      "text/plain": [
       "<Figure size 432x288 with 1 Axes>"
      ]
     },
     "metadata": {
      "needs_background": "light"
     },
     "output_type": "display_data"
    }
   ],
   "source": [
    "df_train_filtered['label1'].fillna('no-label',inplace=True)\n",
    "df_train_filtered['label2'].fillna('no-label',inplace=True)\n",
    "\n",
    "df_train_filtered[['text','label', 'label1','label2']][df_train_filtered['label1']=='no-label']['label'].hist()"
   ]
  },
  {
   "cell_type": "code",
   "execution_count": 159,
   "metadata": {
    "scrolled": true
   },
   "outputs": [
    {
     "data": {
      "image/png": "[encoded data removed]",
      "text/plain": [
       "<Figure size 432x288 with 1 Axes>"
      ]
     },
     "metadata": {
      "needs_background": "light"
     },
     "output_type": "display_data"
    },
    {
     "data": {
      "image/png": "[encoded data removed]",
      "text/plain": [
       "<Figure size 432x288 with 1 Axes>"
      ]
     },
     "metadata": {
      "needs_background": "light"
     },
     "output_type": "display_data"
    },
    {
     "data": {
      "image/png": "[encoded data removed]",
      "text/plain": [
       "<Figure size 432x288 with 1 Axes>"
      ]
     },
     "metadata": {
      "needs_background": "light"
     },
     "output_type": "display_data"
    }
   ],
   "source": [
    "probs_train = label_model.predict_proba(L=L_test)\n",
    "plot_probabilities_histogram(probs_train[:, Critical], 'Critical')\n",
    "plot_probabilities_histogram(probs_train[:, Non_Critical], 'Non_Critical')\n",
    "plot_probabilities_histogram(probs_train[:, Inconclusive], 'Inconclusive')"
   ]
  },
  {
   "cell_type": "code",
   "execution_count": 180,
   "metadata": {},
   "outputs": [],
   "source": [
    "from sklearn.feature_extraction.text import CountVectorizer\n",
    "\n",
    "vectorizer = CountVectorizer(ngram_range=(1, 3))\n",
    "X_train = vectorizer.fit_transform(df_train_filtered.text.tolist())\n",
    "X_test = vectorizer.transform(df_test.text.tolist())"
   ]
  },
  {
   "cell_type": "code",
   "execution_count": 181,
   "metadata": {},
   "outputs": [],
   "source": [
    "from snorkel.utils import probs_to_preds\n",
    "\n",
    "preds_train_filtered = probs_to_preds(probs=probs_train_filtered)\n"
   ]
  },
  {
   "cell_type": "code",
   "execution_count": 182,
   "metadata": {},
   "outputs": [
    {
     "name": "stderr",
     "output_type": "stream",
     "text": [
      "/Users/tayfun.tuna/opt/anaconda3/envs/astra/lib/python3.6/site-packages/sklearn/linear_model/logistic.py:469: FutureWarning: Default multi_class will be changed to 'auto' in 0.22. Specify the multi_class option to silence this warning.\n",
      "  \"this warning.\", FutureWarning)\n"
     ]
    },
    {
     "data": {
      "text/plain": [
       "LogisticRegression(C=1, class_weight=None, dual=False, fit_intercept=True,\n",
       "                   intercept_scaling=1, l1_ratio=None, max_iter=100,\n",
       "                   multi_class='warn', n_jobs=None, penalty='l2',\n",
       "                   random_state=None, solver='liblinear', tol=0.0001, verbose=0,\n",
       "                   warm_start=False)"
      ]
     },
     "execution_count": 182,
     "metadata": {},
     "output_type": "execute_result"
    }
   ],
   "source": [
    "from sklearn.linear_model import LogisticRegression\n",
    "\n",
    "sklearn_model = LogisticRegression(C=1, solver=\"liblinear\")\n",
    "sklearn_model.fit(X=X_train, y=preds_train_filtered)"
   ]
  },
  {
   "cell_type": "code",
   "execution_count": 183,
   "metadata": {},
   "outputs": [
    {
     "data": {
      "text/plain": [
       "((1599, 152925), (1599,))"
      ]
     },
     "execution_count": 183,
     "metadata": {},
     "output_type": "execute_result"
    }
   ],
   "source": [
    "X_train.shape, preds_train_filtered.shape"
   ]
  },
  {
   "cell_type": "code",
   "execution_count": null,
   "metadata": {},
   "outputs": [],
   "source": [
    "df_test"
   ]
  },
  {
   "cell_type": "code",
   "execution_count": null,
   "metadata": {},
   "outputs": [],
   "source": [
    "print(f\"Test Accuracy: {sklearn_model.score(X=X_test, y=df_test['label_number'].values) * 100:.3f}%\")\n"
   ]
  },
  {
   "cell_type": "code",
   "execution_count": 197,
   "metadata": {},
   "outputs": [],
   "source": [
    "from sklearn.metrics import classification_report, roc_auc_score, precision_recall_curve, auc\n",
    "\n",
    "def clf_metric_AImp(y_test,y_pred, y_pred_prob, T_num):\n",
    "    res = pd.DataFrame(classification_report(y_test, y_pred, output_dict=True)).transpose()\n",
    "    roc_list = []\n",
    "    occ_list = []\n",
    "    prc_list = []\n",
    "    tgt_list = []\n",
    "    igr = 0\n",
    "    for tgt in range(T_num):\n",
    "        y_test2 = [1 if i == tgt else 0 for i in y_test]\n",
    "        y_pred2 = [1 if i == tgt else 0 for i in y_pred]\n",
    "        y_pred_prob2 = [i[tgt] for i in y_pred_prob]\n",
    "        try:\n",
    "            roc_list.append(roc_auc_score(y_test2, y_pred_prob2))\n",
    "            occ_list.append((y_test == tgt).sum())\n",
    "            precision, recall, thresholds = precision_recall_curve(y_test2, y_pred_prob2)\n",
    "            prc_list.append(auc(recall, precision))\n",
    "            tgt_list.append(str(tgt))\n",
    "        except ValueError:\n",
    "            print(\"Only one class present in y_test2. Ignoring this class\")\n",
    "            igr = igr + 1\n",
    "    \n",
    "    roc_macro = np.average(roc_list)\n",
    "    roc_weighted = np.average(roc_list, weights=occ_list)\n",
    "    prc_macro = np.average(prc_list)\n",
    "    prc_weighted = np.average(prc_list, weights=occ_list)\n",
    "    \n",
    "    df_roc_prc = pd.DataFrame(list(zip(roc_list, prc_list)),index = tgt_list,\n",
    "               columns =['AUROC', 'AUPRC'])\n",
    "    df_roc_prc.loc['accuracy'] = [None, None]\n",
    "    df_roc_prc.loc['macro avg'] = [roc_macro, prc_macro]\n",
    "    df_roc_prc.loc['weighted avg'] = [roc_weighted, prc_weighted]\n",
    "\n",
    "    res = pd.concat([res, df_roc_prc], axis=1)\n",
    "    res.at[\"accuracy\",\"precision\"] = None\n",
    "    res.at[\"accuracy\",\"recall\"] = None\n",
    "    res.at[\"accuracy\",\"support\"] = max(res.support)\n",
    "    res = res[res.support != 0]\n",
    "    return res, igr\n"
   ]
  },
  {
   "cell_type": "code",
   "execution_count": 198,
   "metadata": {},
   "outputs": [
    {
     "data": {
      "text/plain": [
       "array([[3.12862002e-05, 5.38137717e-05, 9.99914900e-01],\n",
       "       [1.78566820e-05, 4.62629446e-04, 9.99519514e-01],\n",
       "       [8.48665677e-04, 1.63651089e-03, 9.97514823e-01],\n",
       "       ...,\n",
       "       [1.80444938e-04, 2.85580016e-02, 9.71261553e-01],\n",
       "       [1.99933176e-07, 1.49158935e-03, 9.98508211e-01],\n",
       "       [5.51724263e-06, 4.60784422e-05, 9.99948404e-01]])"
      ]
     },
     "execution_count": 198,
     "metadata": {},
     "output_type": "execute_result"
    }
   ],
   "source": [
    "sklearn_model.predict_proba(X_test)"
   ]
  },
  {
   "cell_type": "code",
   "execution_count": 199,
   "metadata": {},
   "outputs": [
    {
     "name": "stderr",
     "output_type": "stream",
     "text": [
      "/Users/tayfun.tuna/opt/anaconda3/envs/astra/lib/python3.6/site-packages/sklearn/metrics/classification.py:1437: UndefinedMetricWarning: Precision and F-score are ill-defined and being set to 0.0 in labels with no predicted samples.\n",
      "  'precision', 'predicted', average, warn_for)\n"
     ]
    },
    {
     "data": {
      "text/html": [
       "<div>\n",
       "<style scoped>\n",
       "    .dataframe tbody tr th:only-of-type {\n",
       "        vertical-align: middle;\n",
       "    }\n",
       "\n",
       "    .dataframe tbody tr th {\n",
       "        vertical-align: top;\n",
       "    }\n",
       "\n",
       "    .dataframe thead th {\n",
       "        text-align: right;\n",
       "    }\n",
       "</style>\n",
       "<table border=\"1\" class=\"dataframe\">\n",
       "  <thead>\n",
       "    <tr style=\"text-align: right;\">\n",
       "      <th></th>\n",
       "      <th>precision</th>\n",
       "      <th>recall</th>\n",
       "      <th>f1-score</th>\n",
       "      <th>support</th>\n",
       "      <th>AUROC</th>\n",
       "      <th>AUPRC</th>\n",
       "    </tr>\n",
       "  </thead>\n",
       "  <tbody>\n",
       "    <tr>\n",
       "      <th>0</th>\n",
       "      <td>0.000000</td>\n",
       "      <td>0.000000</td>\n",
       "      <td>0.000000</td>\n",
       "      <td>402.0</td>\n",
       "      <td>0.552851</td>\n",
       "      <td>0.553673</td>\n",
       "    </tr>\n",
       "    <tr>\n",
       "      <th>1</th>\n",
       "      <td>0.250000</td>\n",
       "      <td>0.008065</td>\n",
       "      <td>0.015625</td>\n",
       "      <td>124.0</td>\n",
       "      <td>0.483143</td>\n",
       "      <td>0.153164</td>\n",
       "    </tr>\n",
       "    <tr>\n",
       "      <th>2</th>\n",
       "      <td>0.341709</td>\n",
       "      <td>0.992701</td>\n",
       "      <td>0.508411</td>\n",
       "      <td>274.0</td>\n",
       "      <td>0.570342</td>\n",
       "      <td>0.397587</td>\n",
       "    </tr>\n",
       "    <tr>\n",
       "      <th>accuracy</th>\n",
       "      <td>NaN</td>\n",
       "      <td>NaN</td>\n",
       "      <td>0.341250</td>\n",
       "      <td>800.0</td>\n",
       "      <td>NaN</td>\n",
       "      <td>NaN</td>\n",
       "    </tr>\n",
       "    <tr>\n",
       "      <th>macro avg</th>\n",
       "      <td>0.197236</td>\n",
       "      <td>0.333588</td>\n",
       "      <td>0.174679</td>\n",
       "      <td>800.0</td>\n",
       "      <td>0.535446</td>\n",
       "      <td>0.368141</td>\n",
       "    </tr>\n",
       "    <tr>\n",
       "      <th>weighted avg</th>\n",
       "      <td>0.155785</td>\n",
       "      <td>0.341250</td>\n",
       "      <td>0.176553</td>\n",
       "      <td>800.0</td>\n",
       "      <td>0.548037</td>\n",
       "      <td>0.438135</td>\n",
       "    </tr>\n",
       "  </tbody>\n",
       "</table>\n",
       "</div>"
      ],
      "text/plain": [
       "              precision    recall  f1-score  support     AUROC     AUPRC\n",
       "0              0.000000  0.000000  0.000000    402.0  0.552851  0.553673\n",
       "1              0.250000  0.008065  0.015625    124.0  0.483143  0.153164\n",
       "2              0.341709  0.992701  0.508411    274.0  0.570342  0.397587\n",
       "accuracy            NaN       NaN  0.341250    800.0       NaN       NaN\n",
       "macro avg      0.197236  0.333588  0.174679    800.0  0.535446  0.368141\n",
       "weighted avg   0.155785  0.341250  0.176553    800.0  0.548037  0.438135"
      ]
     },
     "execution_count": 199,
     "metadata": {},
     "output_type": "execute_result"
    }
   ],
   "source": [
    "T_num = 3 #Number of classes\n",
    "y_pred_prob = sklearn_model.predict_proba(X_test)\n",
    "y_test = df_test['label_number'].values\n",
    "y_pred = sklearn_model.predict(X_test)\n",
    "res, igr = clf_metric_AImp(y_test,y_pred, y_pred_prob, T_num)\n",
    "res"
   ]
  },
  {
   "cell_type": "code",
   "execution_count": 88,
   "metadata": {},
   "outputs": [],
   "source": [
    "import random\n",
    "\n",
    "import nltk\n",
    "from nltk.corpus import wordnet as wn\n",
    "\n",
    "from snorkel.augmentation import transformation_function\n",
    "\n",
    "nltk.download(\"wordnet\", quiet=True)\n",
    "\n",
    "\n",
    "def get_synonyms(word):\n",
    "    \"\"\"Get the synonyms of word from Wordnet.\"\"\"\n",
    "    lemmas = set().union(*[s.lemmas() for s in wn.synsets(word)])\n",
    "    return list(set(l.name().lower().replace(\"_\", \" \") for l in lemmas) - {word})\n",
    "\n",
    "\n",
    "@transformation_function()\n",
    "def tf_replace_word_with_synonym(x):\n",
    "    \"\"\"Try to replace a random word with a synonym.\"\"\"\n",
    "    words = x.text.lower().split()\n",
    "    idx = random.choice(range(len(words)))\n",
    "    synonyms = get_synonyms(words[idx])\n",
    "    if len(synonyms) > 0:\n",
    "        x.text = \" \".join(words[:idx] + [synonyms[0]] + words[idx + 1 :])\n",
    "        return x"
   ]
  },
  {
   "cell_type": "code",
   "execution_count": 89,
   "metadata": {},
   "outputs": [
    {
     "name": "stderr",
     "output_type": "stream",
     "text": [
      "\n",
      "  0%|          | 0/4554 [00:00<?, ?it/s]\u001b[A\n",
      " 21%|██▏       | 978/4554 [00:00<00:00, 9772.88it/s]\u001b[A\n",
      " 45%|████▌     | 2067/4554 [00:00<00:00, 10082.43it/s]\u001b[A\n",
      " 70%|███████   | 3195/4554 [00:00<00:00, 10413.97it/s]\u001b[A\n",
      "100%|██████████| 4554/4554 [00:00<00:00, 10683.32it/s]\u001b[A\n"
     ]
    }
   ],
   "source": [
    "from snorkel.augmentation import ApplyOnePolicy, PandasTFApplier\n",
    "\n",
    "tf_policy = ApplyOnePolicy(n_per_original=0, keep_original=True)\n",
    "tf_applier = PandasTFApplier([tf_replace_word_with_synonym], tf_policy)\n",
    "df_train_augmented = tf_applier.apply(df_train2)"
   ]
  },
  {
   "cell_type": "code",
   "execution_count": 90,
   "metadata": {},
   "outputs": [
    {
     "data": {
      "text/plain": [
       "(4554, 3)"
      ]
     },
     "execution_count": 90,
     "metadata": {},
     "output_type": "execute_result"
    }
   ],
   "source": [
    "df_train_augmented.shape"
   ]
  },
  {
   "cell_type": "code",
   "execution_count": null,
   "metadata": {},
   "outputs": [],
   "source": [
    "df_train_augmented.head()"
   ]
  },
  {
   "cell_type": "code",
   "execution_count": 54,
   "metadata": {},
   "outputs": [],
   "source": [
    "#GUSE embedding for classification model"
   ]
  },
  {
   "cell_type": "code",
   "execution_count": 92,
   "metadata": {},
   "outputs": [],
   "source": [
    "embed = hub.load(\"https://tfhub.dev/google/universal-sentence-encoder-large/5\")"
   ]
  },
  {
   "cell_type": "code",
   "execution_count": 93,
   "metadata": {},
   "outputs": [
    {
     "name": "stdout",
     "output_type": "stream",
     "text": [
      "CPU times: user 2min 19s, sys: 1min 7s, total: 3min 27s\n",
      "Wall time: 54.2 s\n"
     ]
    },
    {
     "data": {
      "text/html": [
       "<div>\n",
       "<style scoped>\n",
       "    .dataframe tbody tr th:only-of-type {\n",
       "        vertical-align: middle;\n",
       "    }\n",
       "\n",
       "    .dataframe tbody tr th {\n",
       "        vertical-align: top;\n",
       "    }\n",
       "\n",
       "    .dataframe thead th {\n",
       "        text-align: right;\n",
       "    }\n",
       "</style>\n",
       "<table border=\"1\" class=\"dataframe\">\n",
       "  <thead>\n",
       "    <tr style=\"text-align: right;\">\n",
       "      <th></th>\n",
       "      <th>vec0</th>\n",
       "      <th>vec1</th>\n",
       "      <th>vec2</th>\n",
       "      <th>vec3</th>\n",
       "      <th>vec4</th>\n",
       "      <th>vec5</th>\n",
       "      <th>vec6</th>\n",
       "      <th>vec7</th>\n",
       "      <th>vec8</th>\n",
       "      <th>vec9</th>\n",
       "      <th>...</th>\n",
       "      <th>vec504</th>\n",
       "      <th>vec505</th>\n",
       "      <th>vec506</th>\n",
       "      <th>vec507</th>\n",
       "      <th>vec508</th>\n",
       "      <th>vec509</th>\n",
       "      <th>vec510</th>\n",
       "      <th>vec511</th>\n",
       "      <th>sys_id</th>\n",
       "      <th>label</th>\n",
       "    </tr>\n",
       "  </thead>\n",
       "  <tbody>\n",
       "    <tr>\n",
       "      <th>0</th>\n",
       "      <td>-0.059866</td>\n",
       "      <td>-0.001436</td>\n",
       "      <td>-0.109919</td>\n",
       "      <td>-0.095510</td>\n",
       "      <td>0.074394</td>\n",
       "      <td>-0.025056</td>\n",
       "      <td>0.085519</td>\n",
       "      <td>-0.034903</td>\n",
       "      <td>0.045007</td>\n",
       "      <td>0.064680</td>\n",
       "      <td>...</td>\n",
       "      <td>0.103880</td>\n",
       "      <td>-0.006976</td>\n",
       "      <td>0.028728</td>\n",
       "      <td>0.021821</td>\n",
       "      <td>-0.081722</td>\n",
       "      <td>0.038529</td>\n",
       "      <td>0.065333</td>\n",
       "      <td>0.031073</td>\n",
       "      <td>2148</td>\n",
       "      <td>0</td>\n",
       "    </tr>\n",
       "    <tr>\n",
       "      <th>1</th>\n",
       "      <td>-0.027004</td>\n",
       "      <td>0.013067</td>\n",
       "      <td>-0.085010</td>\n",
       "      <td>-0.033053</td>\n",
       "      <td>0.027256</td>\n",
       "      <td>0.016147</td>\n",
       "      <td>0.071584</td>\n",
       "      <td>-0.003178</td>\n",
       "      <td>0.067493</td>\n",
       "      <td>0.012164</td>\n",
       "      <td>...</td>\n",
       "      <td>0.096953</td>\n",
       "      <td>0.048307</td>\n",
       "      <td>-0.024828</td>\n",
       "      <td>-0.034587</td>\n",
       "      <td>-0.039312</td>\n",
       "      <td>0.090378</td>\n",
       "      <td>-0.013480</td>\n",
       "      <td>0.001796</td>\n",
       "      <td>1911</td>\n",
       "      <td>0</td>\n",
       "    </tr>\n",
       "    <tr>\n",
       "      <th>2</th>\n",
       "      <td>0.021272</td>\n",
       "      <td>0.033173</td>\n",
       "      <td>0.011312</td>\n",
       "      <td>0.024171</td>\n",
       "      <td>0.078843</td>\n",
       "      <td>0.010647</td>\n",
       "      <td>0.041389</td>\n",
       "      <td>0.009457</td>\n",
       "      <td>-0.014883</td>\n",
       "      <td>0.036849</td>\n",
       "      <td>...</td>\n",
       "      <td>0.075960</td>\n",
       "      <td>-0.075504</td>\n",
       "      <td>0.019888</td>\n",
       "      <td>-0.041388</td>\n",
       "      <td>-0.002503</td>\n",
       "      <td>0.004291</td>\n",
       "      <td>0.012759</td>\n",
       "      <td>0.037707</td>\n",
       "      <td>8783</td>\n",
       "      <td>1</td>\n",
       "    </tr>\n",
       "    <tr>\n",
       "      <th>3</th>\n",
       "      <td>-0.015789</td>\n",
       "      <td>0.028990</td>\n",
       "      <td>-0.001349</td>\n",
       "      <td>-0.052206</td>\n",
       "      <td>0.054239</td>\n",
       "      <td>-0.048980</td>\n",
       "      <td>-0.022582</td>\n",
       "      <td>0.104886</td>\n",
       "      <td>-0.003501</td>\n",
       "      <td>0.056325</td>\n",
       "      <td>...</td>\n",
       "      <td>0.054130</td>\n",
       "      <td>-0.028953</td>\n",
       "      <td>0.085035</td>\n",
       "      <td>0.059622</td>\n",
       "      <td>-0.003623</td>\n",
       "      <td>0.022781</td>\n",
       "      <td>0.070689</td>\n",
       "      <td>-0.022480</td>\n",
       "      <td>9409</td>\n",
       "      <td>0</td>\n",
       "    </tr>\n",
       "    <tr>\n",
       "      <th>4</th>\n",
       "      <td>-0.001484</td>\n",
       "      <td>0.017850</td>\n",
       "      <td>0.007739</td>\n",
       "      <td>0.077527</td>\n",
       "      <td>0.041264</td>\n",
       "      <td>-0.065037</td>\n",
       "      <td>0.064227</td>\n",
       "      <td>0.000619</td>\n",
       "      <td>-0.072233</td>\n",
       "      <td>0.107032</td>\n",
       "      <td>...</td>\n",
       "      <td>0.065416</td>\n",
       "      <td>-0.024670</td>\n",
       "      <td>-0.045834</td>\n",
       "      <td>0.094015</td>\n",
       "      <td>0.011115</td>\n",
       "      <td>0.012767</td>\n",
       "      <td>-0.072835</td>\n",
       "      <td>0.016259</td>\n",
       "      <td>9352</td>\n",
       "      <td>0</td>\n",
       "    </tr>\n",
       "  </tbody>\n",
       "</table>\n",
       "<p>5 rows × 514 columns</p>\n",
       "</div>"
      ],
      "text/plain": [
       "       vec0      vec1      vec2      vec3      vec4      vec5      vec6  \\\n",
       "0 -0.059866 -0.001436 -0.109919 -0.095510  0.074394 -0.025056  0.085519   \n",
       "1 -0.027004  0.013067 -0.085010 -0.033053  0.027256  0.016147  0.071584   \n",
       "2  0.021272  0.033173  0.011312  0.024171  0.078843  0.010647  0.041389   \n",
       "3 -0.015789  0.028990 -0.001349 -0.052206  0.054239 -0.048980 -0.022582   \n",
       "4 -0.001484  0.017850  0.007739  0.077527  0.041264 -0.065037  0.064227   \n",
       "\n",
       "       vec7      vec8      vec9  ...    vec504    vec505    vec506    vec507  \\\n",
       "0 -0.034903  0.045007  0.064680  ...  0.103880 -0.006976  0.028728  0.021821   \n",
       "1 -0.003178  0.067493  0.012164  ...  0.096953  0.048307 -0.024828 -0.034587   \n",
       "2  0.009457 -0.014883  0.036849  ...  0.075960 -0.075504  0.019888 -0.041388   \n",
       "3  0.104886 -0.003501  0.056325  ...  0.054130 -0.028953  0.085035  0.059622   \n",
       "4  0.000619 -0.072233  0.107032  ...  0.065416 -0.024670 -0.045834  0.094015   \n",
       "\n",
       "     vec508    vec509    vec510    vec511  sys_id  label  \n",
       "0 -0.081722  0.038529  0.065333  0.031073    2148      0  \n",
       "1 -0.039312  0.090378 -0.013480  0.001796    1911      0  \n",
       "2 -0.002503  0.004291  0.012759  0.037707    8783      1  \n",
       "3 -0.003623  0.022781  0.070689 -0.022480    9409      0  \n",
       "4  0.011115  0.012767 -0.072835  0.016259    9352      0  \n",
       "\n",
       "[5 rows x 514 columns]"
      ]
     },
     "execution_count": 93,
     "metadata": {},
     "output_type": "execute_result"
    }
   ],
   "source": [
    "%%time\n",
    "tr_embed = []\n",
    "\n",
    "i = 0\n",
    "while(i < df_train_augmented.shape[0]-10):\n",
    "    tr_embed.append(embed(df_train_augmented.text[i:i+10]).tolist())\n",
    "    i+= 10\n",
    "    #print(i)\n",
    "else:\n",
    "    tr_embed.append(embed(df_train_augmented.text[i:]).tolist())\n",
    "\n",
    "tr_embed2 = []\n",
    "for x in tr_embed:\n",
    "    for y in x:\n",
    "        tr_embed2.append(y)\n",
    "\n",
    "        \n",
    "df_emb = pd.DataFrame(tr_embed2, columns = [\"vec\" + str(i) for i in range(512)])\n",
    "\n",
    "temp =  df_train_augmented[[\"sys_id\",\"label\"]].copy()\n",
    "temp = temp.reset_index(drop=True)\n",
    "\n",
    "df_emb = pd.concat([df_emb, temp], axis=1)\n",
    "df_emb.head()"
   ]
  },
  {
   "cell_type": "code",
   "execution_count": 94,
   "metadata": {},
   "outputs": [],
   "source": [
    "x_train, x_test, y_train, y_test = train_test_split(df_emb[[\"vec\" + str(i) for i in range(512)]  ], \n",
    "                                                    df_emb.label, \n",
    "                                                    test_size=0.2,  \n",
    "                                                    random_state=1,\n",
    "                                                    stratify = df_emb.label)"
   ]
  },
  {
   "cell_type": "code",
   "execution_count": 95,
   "metadata": {},
   "outputs": [
    {
     "name": "stdout",
     "output_type": "stream",
     "text": [
      "Epoch 1/1000\n",
      "37/37 [==============================] - 1s 6ms/step - loss: 0.6750 - accuracy: 0.6865 - val_loss: 0.6502 - val_accuracy: 0.8035\n",
      "Epoch 2/1000\n",
      "37/37 [==============================] - 0s 3ms/step - loss: 0.6346 - accuracy: 0.8007 - val_loss: 0.6128 - val_accuracy: 0.8244\n",
      "Epoch 3/1000\n",
      "37/37 [==============================] - 0s 3ms/step - loss: 0.6005 - accuracy: 0.8240 - val_loss: 0.5807 - val_accuracy: 0.8397\n",
      "Epoch 4/1000\n",
      "37/37 [==============================] - 0s 3ms/step - loss: 0.5709 - accuracy: 0.8435 - val_loss: 0.5526 - val_accuracy: 0.8474\n",
      "Epoch 5/1000\n",
      "37/37 [==============================] - 0s 3ms/step - loss: 0.5448 - accuracy: 0.8501 - val_loss: 0.5280 - val_accuracy: 0.8573\n",
      "Epoch 6/1000\n",
      "37/37 [==============================] - 0s 3ms/step - loss: 0.5219 - accuracy: 0.8526 - val_loss: 0.5061 - val_accuracy: 0.8650\n",
      "Epoch 7/1000\n",
      "37/37 [==============================] - 0s 3ms/step - loss: 0.5015 - accuracy: 0.8553 - val_loss: 0.4869 - val_accuracy: 0.8672\n",
      "Epoch 8/1000\n",
      "37/37 [==============================] - 0s 3ms/step - loss: 0.4834 - accuracy: 0.8606 - val_loss: 0.4700 - val_accuracy: 0.8705\n",
      "Epoch 9/1000\n",
      "37/37 [==============================] - 0s 3ms/step - loss: 0.4674 - accuracy: 0.8619 - val_loss: 0.4547 - val_accuracy: 0.8716\n",
      "Epoch 10/1000\n",
      "37/37 [==============================] - 0s 3ms/step - loss: 0.4531 - accuracy: 0.8628 - val_loss: 0.4412 - val_accuracy: 0.8705\n",
      "Epoch 11/1000\n",
      "37/37 [==============================] - 0s 3ms/step - loss: 0.4403 - accuracy: 0.8641 - val_loss: 0.4289 - val_accuracy: 0.8716\n",
      "Epoch 12/1000\n",
      "37/37 [==============================] - 0s 3ms/step - loss: 0.4287 - accuracy: 0.8652 - val_loss: 0.4179 - val_accuracy: 0.8716\n",
      "Epoch 13/1000\n",
      "37/37 [==============================] - 0s 3ms/step - loss: 0.4183 - accuracy: 0.8663 - val_loss: 0.4081 - val_accuracy: 0.8716\n",
      "Epoch 14/1000\n",
      "37/37 [==============================] - 0s 3ms/step - loss: 0.4090 - accuracy: 0.8680 - val_loss: 0.3992 - val_accuracy: 0.8727\n",
      "Epoch 15/1000\n",
      "37/37 [==============================] - 0s 3ms/step - loss: 0.4003 - accuracy: 0.8680 - val_loss: 0.3910 - val_accuracy: 0.8727\n",
      "Epoch 16/1000\n",
      "37/37 [==============================] - 0s 3ms/step - loss: 0.3925 - accuracy: 0.8691 - val_loss: 0.3834 - val_accuracy: 0.8760\n",
      "Epoch 17/1000\n",
      "37/37 [==============================] - 0s 3ms/step - loss: 0.3853 - accuracy: 0.8713 - val_loss: 0.3766 - val_accuracy: 0.8760\n",
      "Epoch 18/1000\n",
      "37/37 [==============================] - 0s 3ms/step - loss: 0.3788 - accuracy: 0.8718 - val_loss: 0.3703 - val_accuracy: 0.8760\n",
      "Epoch 19/1000\n",
      "37/37 [==============================] - 0s 3ms/step - loss: 0.3727 - accuracy: 0.8732 - val_loss: 0.3645 - val_accuracy: 0.8771\n",
      "Epoch 20/1000\n",
      "37/37 [==============================] - 0s 3ms/step - loss: 0.3671 - accuracy: 0.8743 - val_loss: 0.3591 - val_accuracy: 0.8771\n",
      "Epoch 21/1000\n",
      "37/37 [==============================] - 0s 3ms/step - loss: 0.3619 - accuracy: 0.8748 - val_loss: 0.3541 - val_accuracy: 0.8782\n",
      "Epoch 22/1000\n",
      "37/37 [==============================] - 0s 2ms/step - loss: 0.3570 - accuracy: 0.8759 - val_loss: 0.3496 - val_accuracy: 0.8782\n",
      "Epoch 23/1000\n",
      "37/37 [==============================] - 0s 3ms/step - loss: 0.3526 - accuracy: 0.8762 - val_loss: 0.3452 - val_accuracy: 0.8782\n",
      "Epoch 24/1000\n",
      "37/37 [==============================] - 0s 3ms/step - loss: 0.3484 - accuracy: 0.8767 - val_loss: 0.3412 - val_accuracy: 0.8782\n",
      "Epoch 25/1000\n",
      "37/37 [==============================] - 0s 3ms/step - loss: 0.3444 - accuracy: 0.8776 - val_loss: 0.3374 - val_accuracy: 0.8814\n",
      "Epoch 26/1000\n",
      "37/37 [==============================] - 0s 2ms/step - loss: 0.3407 - accuracy: 0.8781 - val_loss: 0.3339 - val_accuracy: 0.8825\n",
      "Epoch 27/1000\n",
      "37/37 [==============================] - 0s 3ms/step - loss: 0.3373 - accuracy: 0.8784 - val_loss: 0.3306 - val_accuracy: 0.8825\n",
      "Epoch 28/1000\n",
      "37/37 [==============================] - 0s 3ms/step - loss: 0.3340 - accuracy: 0.8795 - val_loss: 0.3274 - val_accuracy: 0.8825\n",
      "Epoch 29/1000\n",
      "37/37 [==============================] - 0s 3ms/step - loss: 0.3309 - accuracy: 0.8795 - val_loss: 0.3245 - val_accuracy: 0.8858\n",
      "Epoch 30/1000\n",
      "37/37 [==============================] - 0s 3ms/step - loss: 0.3280 - accuracy: 0.8806 - val_loss: 0.3217 - val_accuracy: 0.8869\n",
      "Epoch 31/1000\n",
      "37/37 [==============================] - 0s 3ms/step - loss: 0.3252 - accuracy: 0.8828 - val_loss: 0.3191 - val_accuracy: 0.8869\n",
      "Epoch 32/1000\n",
      "37/37 [==============================] - 0s 3ms/step - loss: 0.3226 - accuracy: 0.8833 - val_loss: 0.3165 - val_accuracy: 0.8869\n",
      "Epoch 33/1000\n",
      "37/37 [==============================] - 0s 3ms/step - loss: 0.3201 - accuracy: 0.8833 - val_loss: 0.3140 - val_accuracy: 0.8858\n",
      "Epoch 34/1000\n",
      "37/37 [==============================] - 0s 3ms/step - loss: 0.3177 - accuracy: 0.8847 - val_loss: 0.3118 - val_accuracy: 0.8869\n",
      "Epoch 35/1000\n",
      "37/37 [==============================] - 0s 3ms/step - loss: 0.3155 - accuracy: 0.8855 - val_loss: 0.3097 - val_accuracy: 0.8858\n",
      "Epoch 36/1000\n",
      "37/37 [==============================] - 0s 3ms/step - loss: 0.3133 - accuracy: 0.8844 - val_loss: 0.3076 - val_accuracy: 0.8858\n",
      "Epoch 37/1000\n",
      "37/37 [==============================] - 0s 3ms/step - loss: 0.3112 - accuracy: 0.8847 - val_loss: 0.3057 - val_accuracy: 0.8891\n",
      "Epoch 38/1000\n",
      "37/37 [==============================] - 0s 2ms/step - loss: 0.3092 - accuracy: 0.8850 - val_loss: 0.3037 - val_accuracy: 0.8902\n",
      "Epoch 39/1000\n",
      "37/37 [==============================] - 0s 3ms/step - loss: 0.3073 - accuracy: 0.8855 - val_loss: 0.3019 - val_accuracy: 0.8891\n",
      "Epoch 40/1000\n",
      "37/37 [==============================] - 0s 3ms/step - loss: 0.3054 - accuracy: 0.8858 - val_loss: 0.3001 - val_accuracy: 0.8902\n",
      "Epoch 41/1000\n",
      "37/37 [==============================] - 0s 3ms/step - loss: 0.3036 - accuracy: 0.8864 - val_loss: 0.2985 - val_accuracy: 0.8902\n",
      "Epoch 42/1000\n",
      "37/37 [==============================] - 0s 3ms/step - loss: 0.3019 - accuracy: 0.8869 - val_loss: 0.2968 - val_accuracy: 0.8902\n",
      "Epoch 43/1000\n",
      "37/37 [==============================] - 0s 2ms/step - loss: 0.3003 - accuracy: 0.8877 - val_loss: 0.2953 - val_accuracy: 0.8902\n",
      "Epoch 44/1000\n",
      "37/37 [==============================] - 0s 2ms/step - loss: 0.2987 - accuracy: 0.8880 - val_loss: 0.2938 - val_accuracy: 0.8902\n",
      "Epoch 45/1000\n",
      "37/37 [==============================] - 0s 3ms/step - loss: 0.2971 - accuracy: 0.8875 - val_loss: 0.2924 - val_accuracy: 0.8902\n",
      "Epoch 46/1000\n",
      "37/37 [==============================] - 0s 3ms/step - loss: 0.2956 - accuracy: 0.8886 - val_loss: 0.2909 - val_accuracy: 0.8902\n",
      "Epoch 47/1000\n",
      "37/37 [==============================] - 0s 2ms/step - loss: 0.2942 - accuracy: 0.8888 - val_loss: 0.2896 - val_accuracy: 0.8902\n",
      "Epoch 48/1000\n",
      "37/37 [==============================] - 0s 3ms/step - loss: 0.2928 - accuracy: 0.8897 - val_loss: 0.2883 - val_accuracy: 0.8913\n",
      "Epoch 49/1000\n",
      "37/37 [==============================] - 0s 3ms/step - loss: 0.2914 - accuracy: 0.8905 - val_loss: 0.2871 - val_accuracy: 0.8935\n",
      "Epoch 50/1000\n",
      "37/37 [==============================] - 0s 3ms/step - loss: 0.2901 - accuracy: 0.8910 - val_loss: 0.2858 - val_accuracy: 0.8957\n",
      "Epoch 51/1000\n",
      "37/37 [==============================] - 0s 3ms/step - loss: 0.2888 - accuracy: 0.8910 - val_loss: 0.2846 - val_accuracy: 0.8957\n",
      "Epoch 52/1000\n",
      "37/37 [==============================] - 0s 2ms/step - loss: 0.2875 - accuracy: 0.8924 - val_loss: 0.2836 - val_accuracy: 0.8957\n",
      "Epoch 53/1000\n",
      "37/37 [==============================] - 0s 3ms/step - loss: 0.2863 - accuracy: 0.8924 - val_loss: 0.2824 - val_accuracy: 0.8957\n",
      "Epoch 54/1000\n",
      "37/37 [==============================] - 0s 2ms/step - loss: 0.2852 - accuracy: 0.8927 - val_loss: 0.2814 - val_accuracy: 0.8946\n",
      "Epoch 55/1000\n",
      "37/37 [==============================] - 0s 2ms/step - loss: 0.2840 - accuracy: 0.8929 - val_loss: 0.2802 - val_accuracy: 0.8957\n",
      "Epoch 56/1000\n",
      "37/37 [==============================] - 0s 3ms/step - loss: 0.2828 - accuracy: 0.8932 - val_loss: 0.2792 - val_accuracy: 0.8968\n",
      "Epoch 57/1000\n",
      "37/37 [==============================] - 0s 3ms/step - loss: 0.2817 - accuracy: 0.8935 - val_loss: 0.2781 - val_accuracy: 0.8957\n",
      "Epoch 58/1000\n",
      "37/37 [==============================] - 0s 2ms/step - loss: 0.2807 - accuracy: 0.8935 - val_loss: 0.2771 - val_accuracy: 0.8979\n",
      "Epoch 59/1000\n",
      "37/37 [==============================] - 0s 2ms/step - loss: 0.2795 - accuracy: 0.8938 - val_loss: 0.2763 - val_accuracy: 0.8968\n",
      "Epoch 60/1000\n",
      "37/37 [==============================] - 0s 2ms/step - loss: 0.2785 - accuracy: 0.8935 - val_loss: 0.2753 - val_accuracy: 0.8990\n",
      "Epoch 61/1000\n",
      "37/37 [==============================] - 0s 2ms/step - loss: 0.2775 - accuracy: 0.8943 - val_loss: 0.2745 - val_accuracy: 0.9001\n",
      "Epoch 62/1000\n",
      "37/37 [==============================] - 0s 2ms/step - loss: 0.2765 - accuracy: 0.8951 - val_loss: 0.2735 - val_accuracy: 0.9001\n",
      "Epoch 63/1000\n",
      "37/37 [==============================] - 0s 2ms/step - loss: 0.2756 - accuracy: 0.8960 - val_loss: 0.2727 - val_accuracy: 0.9023\n",
      "Epoch 64/1000\n",
      "37/37 [==============================] - 0s 3ms/step - loss: 0.2746 - accuracy: 0.8965 - val_loss: 0.2719 - val_accuracy: 0.9023\n",
      "Epoch 65/1000\n",
      "37/37 [==============================] - 0s 3ms/step - loss: 0.2737 - accuracy: 0.8962 - val_loss: 0.2710 - val_accuracy: 0.9023\n",
      "Epoch 66/1000\n",
      "37/37 [==============================] - 0s 2ms/step - loss: 0.2727 - accuracy: 0.8965 - val_loss: 0.2704 - val_accuracy: 0.9034\n",
      "Epoch 67/1000\n",
      "37/37 [==============================] - 0s 2ms/step - loss: 0.2718 - accuracy: 0.8976 - val_loss: 0.2696 - val_accuracy: 0.9034\n",
      "Epoch 68/1000\n",
      "37/37 [==============================] - 0s 2ms/step - loss: 0.2710 - accuracy: 0.8979 - val_loss: 0.2688 - val_accuracy: 0.9045\n",
      "Epoch 69/1000\n",
      "37/37 [==============================] - 0s 2ms/step - loss: 0.2701 - accuracy: 0.8979 - val_loss: 0.2679 - val_accuracy: 0.9045\n",
      "Epoch 70/1000\n",
      "37/37 [==============================] - 0s 2ms/step - loss: 0.2692 - accuracy: 0.8990 - val_loss: 0.2673 - val_accuracy: 0.9045\n",
      "Epoch 71/1000\n",
      "37/37 [==============================] - 0s 2ms/step - loss: 0.2684 - accuracy: 0.8990 - val_loss: 0.2665 - val_accuracy: 0.9045\n",
      "Epoch 72/1000\n",
      "37/37 [==============================] - 0s 2ms/step - loss: 0.2676 - accuracy: 0.8993 - val_loss: 0.2659 - val_accuracy: 0.9056\n",
      "Epoch 73/1000\n",
      "37/37 [==============================] - 0s 2ms/step - loss: 0.2668 - accuracy: 0.8993 - val_loss: 0.2652 - val_accuracy: 0.9067\n",
      "Epoch 74/1000\n",
      "37/37 [==============================] - 0s 2ms/step - loss: 0.2660 - accuracy: 0.8995 - val_loss: 0.2646 - val_accuracy: 0.9089\n",
      "Epoch 75/1000\n",
      "37/37 [==============================] - 0s 2ms/step - loss: 0.2652 - accuracy: 0.9004 - val_loss: 0.2639 - val_accuracy: 0.9056\n",
      "Epoch 76/1000\n",
      "37/37 [==============================] - 0s 2ms/step - loss: 0.2644 - accuracy: 0.9012 - val_loss: 0.2633 - val_accuracy: 0.9089\n",
      "Epoch 77/1000\n",
      "37/37 [==============================] - 0s 2ms/step - loss: 0.2637 - accuracy: 0.9012 - val_loss: 0.2627 - val_accuracy: 0.9089\n",
      "Epoch 78/1000\n",
      "37/37 [==============================] - 0s 2ms/step - loss: 0.2629 - accuracy: 0.9023 - val_loss: 0.2620 - val_accuracy: 0.9078\n",
      "Epoch 79/1000\n",
      "37/37 [==============================] - 0s 2ms/step - loss: 0.2622 - accuracy: 0.9031 - val_loss: 0.2614 - val_accuracy: 0.9089\n",
      "Epoch 80/1000\n",
      "37/37 [==============================] - 0s 2ms/step - loss: 0.2615 - accuracy: 0.9034 - val_loss: 0.2608 - val_accuracy: 0.9089\n",
      "Epoch 81/1000\n",
      "37/37 [==============================] - 0s 2ms/step - loss: 0.2607 - accuracy: 0.9034 - val_loss: 0.2602 - val_accuracy: 0.9100\n",
      "Epoch 82/1000\n",
      "37/37 [==============================] - 0s 2ms/step - loss: 0.2600 - accuracy: 0.9039 - val_loss: 0.2596 - val_accuracy: 0.9100\n",
      "Epoch 83/1000\n",
      "37/37 [==============================] - 0s 2ms/step - loss: 0.2594 - accuracy: 0.9039 - val_loss: 0.2591 - val_accuracy: 0.9100\n",
      "Epoch 84/1000\n",
      "37/37 [==============================] - 0s 2ms/step - loss: 0.2587 - accuracy: 0.9047 - val_loss: 0.2585 - val_accuracy: 0.9100\n",
      "Epoch 85/1000\n",
      "37/37 [==============================] - 0s 2ms/step - loss: 0.2580 - accuracy: 0.9056 - val_loss: 0.2581 - val_accuracy: 0.9100\n",
      "Epoch 86/1000\n",
      "37/37 [==============================] - 0s 2ms/step - loss: 0.2574 - accuracy: 0.9050 - val_loss: 0.2575 - val_accuracy: 0.9100\n",
      "Epoch 87/1000\n",
      "37/37 [==============================] - 0s 2ms/step - loss: 0.2567 - accuracy: 0.9058 - val_loss: 0.2570 - val_accuracy: 0.9111\n",
      "Epoch 88/1000\n",
      "37/37 [==============================] - 0s 2ms/step - loss: 0.2560 - accuracy: 0.9061 - val_loss: 0.2566 - val_accuracy: 0.9111\n",
      "Epoch 89/1000\n",
      "37/37 [==============================] - 0s 2ms/step - loss: 0.2554 - accuracy: 0.9058 - val_loss: 0.2560 - val_accuracy: 0.9122\n",
      "Epoch 90/1000\n",
      "37/37 [==============================] - 0s 2ms/step - loss: 0.2548 - accuracy: 0.9067 - val_loss: 0.2555 - val_accuracy: 0.9133\n",
      "Epoch 91/1000\n",
      "37/37 [==============================] - 0s 2ms/step - loss: 0.2542 - accuracy: 0.9069 - val_loss: 0.2550 - val_accuracy: 0.9133\n",
      "Epoch 92/1000\n",
      "37/37 [==============================] - 0s 2ms/step - loss: 0.2535 - accuracy: 0.9067 - val_loss: 0.2546 - val_accuracy: 0.9122\n",
      "Epoch 93/1000\n",
      "37/37 [==============================] - 0s 2ms/step - loss: 0.2530 - accuracy: 0.9069 - val_loss: 0.2541 - val_accuracy: 0.9122\n",
      "Epoch 94/1000\n",
      "37/37 [==============================] - 0s 2ms/step - loss: 0.2523 - accuracy: 0.9080 - val_loss: 0.2536 - val_accuracy: 0.9122\n",
      "Epoch 95/1000\n",
      "37/37 [==============================] - 0s 2ms/step - loss: 0.2518 - accuracy: 0.9078 - val_loss: 0.2532 - val_accuracy: 0.9122\n",
      "Epoch 96/1000\n",
      "37/37 [==============================] - 0s 2ms/step - loss: 0.2512 - accuracy: 0.9078 - val_loss: 0.2527 - val_accuracy: 0.9133\n",
      "Epoch 97/1000\n",
      "37/37 [==============================] - 0s 2ms/step - loss: 0.2506 - accuracy: 0.9080 - val_loss: 0.2523 - val_accuracy: 0.9122\n",
      "Epoch 98/1000\n",
      "37/37 [==============================] - 0s 2ms/step - loss: 0.2500 - accuracy: 0.9083 - val_loss: 0.2519 - val_accuracy: 0.9122\n",
      "Epoch 99/1000\n",
      "37/37 [==============================] - 0s 2ms/step - loss: 0.2495 - accuracy: 0.9086 - val_loss: 0.2515 - val_accuracy: 0.9122\n",
      "Epoch 100/1000\n",
      "37/37 [==============================] - 0s 2ms/step - loss: 0.2489 - accuracy: 0.9091 - val_loss: 0.2510 - val_accuracy: 0.9122\n",
      "Epoch 101/1000\n",
      "37/37 [==============================] - 0s 2ms/step - loss: 0.2483 - accuracy: 0.9094 - val_loss: 0.2506 - val_accuracy: 0.9133\n",
      "Epoch 102/1000\n",
      "37/37 [==============================] - 0s 2ms/step - loss: 0.2478 - accuracy: 0.9094 - val_loss: 0.2502 - val_accuracy: 0.9133\n",
      "Epoch 103/1000\n",
      "37/37 [==============================] - 0s 2ms/step - loss: 0.2473 - accuracy: 0.9089 - val_loss: 0.2499 - val_accuracy: 0.9133\n",
      "Epoch 104/1000\n",
      "37/37 [==============================] - 0s 2ms/step - loss: 0.2468 - accuracy: 0.9091 - val_loss: 0.2494 - val_accuracy: 0.9133\n",
      "Epoch 105/1000\n",
      "37/37 [==============================] - 0s 2ms/step - loss: 0.2463 - accuracy: 0.9097 - val_loss: 0.2490 - val_accuracy: 0.9133\n",
      "Epoch 106/1000\n",
      "37/37 [==============================] - 0s 2ms/step - loss: 0.2457 - accuracy: 0.9105 - val_loss: 0.2487 - val_accuracy: 0.9133\n",
      "Epoch 107/1000\n",
      "37/37 [==============================] - 0s 2ms/step - loss: 0.2452 - accuracy: 0.9108 - val_loss: 0.2483 - val_accuracy: 0.9133\n",
      "Epoch 108/1000\n",
      "37/37 [==============================] - 0s 2ms/step - loss: 0.2447 - accuracy: 0.9100 - val_loss: 0.2479 - val_accuracy: 0.9133\n",
      "Epoch 109/1000\n",
      "37/37 [==============================] - 0s 2ms/step - loss: 0.2442 - accuracy: 0.9108 - val_loss: 0.2476 - val_accuracy: 0.9133\n",
      "Epoch 110/1000\n",
      "37/37 [==============================] - 0s 2ms/step - loss: 0.2437 - accuracy: 0.9111 - val_loss: 0.2472 - val_accuracy: 0.9133\n",
      "Epoch 111/1000\n",
      "37/37 [==============================] - 0s 2ms/step - loss: 0.2432 - accuracy: 0.9108 - val_loss: 0.2468 - val_accuracy: 0.9133\n",
      "Epoch 112/1000\n",
      "37/37 [==============================] - 0s 2ms/step - loss: 0.2427 - accuracy: 0.9113 - val_loss: 0.2465 - val_accuracy: 0.9144\n",
      "Epoch 113/1000\n",
      "37/37 [==============================] - 0s 2ms/step - loss: 0.2422 - accuracy: 0.9122 - val_loss: 0.2463 - val_accuracy: 0.9144\n",
      "Epoch 114/1000\n",
      "37/37 [==============================] - 0s 2ms/step - loss: 0.2418 - accuracy: 0.9130 - val_loss: 0.2459 - val_accuracy: 0.9144\n",
      "Epoch 115/1000\n"
     ]
    },
    {
     "name": "stdout",
     "output_type": "stream",
     "text": [
      "37/37 [==============================] - 0s 3ms/step - loss: 0.2413 - accuracy: 0.9122 - val_loss: 0.2455 - val_accuracy: 0.9144\n",
      "Epoch 116/1000\n",
      "37/37 [==============================] - 0s 2ms/step - loss: 0.2408 - accuracy: 0.9124 - val_loss: 0.2453 - val_accuracy: 0.9144\n",
      "Epoch 117/1000\n",
      "37/37 [==============================] - 0s 2ms/step - loss: 0.2404 - accuracy: 0.9130 - val_loss: 0.2449 - val_accuracy: 0.9144\n",
      "Epoch 118/1000\n",
      "37/37 [==============================] - 0s 2ms/step - loss: 0.2399 - accuracy: 0.9127 - val_loss: 0.2445 - val_accuracy: 0.9144\n",
      "Epoch 119/1000\n",
      "37/37 [==============================] - 0s 2ms/step - loss: 0.2394 - accuracy: 0.9130 - val_loss: 0.2442 - val_accuracy: 0.9144\n",
      "Epoch 120/1000\n",
      "37/37 [==============================] - 0s 2ms/step - loss: 0.2390 - accuracy: 0.9133 - val_loss: 0.2439 - val_accuracy: 0.9144\n",
      "Epoch 121/1000\n",
      "37/37 [==============================] - 0s 2ms/step - loss: 0.2385 - accuracy: 0.9135 - val_loss: 0.2436 - val_accuracy: 0.9144\n",
      "Epoch 122/1000\n",
      "37/37 [==============================] - 0s 2ms/step - loss: 0.2381 - accuracy: 0.9138 - val_loss: 0.2433 - val_accuracy: 0.9144\n",
      "Epoch 123/1000\n",
      "37/37 [==============================] - 0s 2ms/step - loss: 0.2377 - accuracy: 0.9138 - val_loss: 0.2431 - val_accuracy: 0.9155\n",
      "Epoch 124/1000\n",
      "37/37 [==============================] - 0s 2ms/step - loss: 0.2373 - accuracy: 0.9135 - val_loss: 0.2428 - val_accuracy: 0.9155\n",
      "Epoch 125/1000\n",
      "37/37 [==============================] - 0s 2ms/step - loss: 0.2368 - accuracy: 0.9138 - val_loss: 0.2425 - val_accuracy: 0.9155\n",
      "Epoch 126/1000\n",
      "37/37 [==============================] - 0s 2ms/step - loss: 0.2364 - accuracy: 0.9144 - val_loss: 0.2422 - val_accuracy: 0.9166\n",
      "Epoch 127/1000\n",
      "37/37 [==============================] - 0s 2ms/step - loss: 0.2359 - accuracy: 0.9146 - val_loss: 0.2419 - val_accuracy: 0.9177\n",
      "Epoch 128/1000\n",
      "37/37 [==============================] - 0s 2ms/step - loss: 0.2356 - accuracy: 0.9152 - val_loss: 0.2417 - val_accuracy: 0.9166\n",
      "Epoch 129/1000\n",
      "37/37 [==============================] - 0s 2ms/step - loss: 0.2351 - accuracy: 0.9155 - val_loss: 0.2413 - val_accuracy: 0.9177\n",
      "Epoch 130/1000\n",
      "37/37 [==============================] - 0s 2ms/step - loss: 0.2347 - accuracy: 0.9160 - val_loss: 0.2411 - val_accuracy: 0.9177\n",
      "Epoch 131/1000\n",
      "37/37 [==============================] - 0s 2ms/step - loss: 0.2343 - accuracy: 0.9163 - val_loss: 0.2409 - val_accuracy: 0.9177\n",
      "Epoch 132/1000\n",
      "37/37 [==============================] - 0s 2ms/step - loss: 0.2339 - accuracy: 0.9166 - val_loss: 0.2406 - val_accuracy: 0.9177\n",
      "Epoch 133/1000\n",
      "37/37 [==============================] - 0s 2ms/step - loss: 0.2335 - accuracy: 0.9171 - val_loss: 0.2404 - val_accuracy: 0.9177\n",
      "Epoch 134/1000\n",
      "37/37 [==============================] - 0s 2ms/step - loss: 0.2331 - accuracy: 0.9171 - val_loss: 0.2401 - val_accuracy: 0.9177\n",
      "Epoch 135/1000\n",
      "37/37 [==============================] - 0s 2ms/step - loss: 0.2327 - accuracy: 0.9177 - val_loss: 0.2398 - val_accuracy: 0.9177\n",
      "Epoch 136/1000\n",
      "37/37 [==============================] - 0s 2ms/step - loss: 0.2323 - accuracy: 0.9177 - val_loss: 0.2395 - val_accuracy: 0.9177\n",
      "Epoch 137/1000\n",
      "37/37 [==============================] - 0s 2ms/step - loss: 0.2319 - accuracy: 0.9177 - val_loss: 0.2393 - val_accuracy: 0.9188\n",
      "Epoch 138/1000\n",
      "37/37 [==============================] - 0s 2ms/step - loss: 0.2316 - accuracy: 0.9174 - val_loss: 0.2391 - val_accuracy: 0.9188\n",
      "Epoch 139/1000\n",
      "37/37 [==============================] - 0s 2ms/step - loss: 0.2312 - accuracy: 0.9179 - val_loss: 0.2388 - val_accuracy: 0.9188\n",
      "Epoch 140/1000\n",
      "37/37 [==============================] - 0s 3ms/step - loss: 0.2308 - accuracy: 0.9179 - val_loss: 0.2386 - val_accuracy: 0.9188\n",
      "Epoch 141/1000\n",
      "37/37 [==============================] - 0s 3ms/step - loss: 0.2305 - accuracy: 0.9179 - val_loss: 0.2384 - val_accuracy: 0.9188\n",
      "Epoch 142/1000\n",
      "37/37 [==============================] - 0s 2ms/step - loss: 0.2301 - accuracy: 0.9185 - val_loss: 0.2381 - val_accuracy: 0.9188\n",
      "Epoch 143/1000\n",
      "37/37 [==============================] - 0s 3ms/step - loss: 0.2297 - accuracy: 0.9185 - val_loss: 0.2380 - val_accuracy: 0.9188\n",
      "Epoch 144/1000\n",
      "37/37 [==============================] - 0s 2ms/step - loss: 0.2294 - accuracy: 0.9187 - val_loss: 0.2377 - val_accuracy: 0.9188\n",
      "Epoch 145/1000\n",
      "37/37 [==============================] - 0s 2ms/step - loss: 0.2290 - accuracy: 0.9185 - val_loss: 0.2375 - val_accuracy: 0.9188\n",
      "Epoch 146/1000\n",
      "37/37 [==============================] - 0s 2ms/step - loss: 0.2286 - accuracy: 0.9182 - val_loss: 0.2373 - val_accuracy: 0.9177\n",
      "Epoch 147/1000\n",
      "37/37 [==============================] - 0s 2ms/step - loss: 0.2283 - accuracy: 0.9185 - val_loss: 0.2371 - val_accuracy: 0.9177\n",
      "Epoch 148/1000\n",
      "37/37 [==============================] - 0s 2ms/step - loss: 0.2279 - accuracy: 0.9187 - val_loss: 0.2368 - val_accuracy: 0.9177\n",
      "Epoch 149/1000\n",
      "37/37 [==============================] - 0s 2ms/step - loss: 0.2276 - accuracy: 0.9185 - val_loss: 0.2367 - val_accuracy: 0.9155\n",
      "Epoch 150/1000\n",
      "37/37 [==============================] - 0s 2ms/step - loss: 0.2272 - accuracy: 0.9187 - val_loss: 0.2364 - val_accuracy: 0.9155\n",
      "Epoch 151/1000\n",
      "37/37 [==============================] - 0s 2ms/step - loss: 0.2269 - accuracy: 0.9187 - val_loss: 0.2363 - val_accuracy: 0.9166\n",
      "Epoch 152/1000\n",
      "37/37 [==============================] - 0s 2ms/step - loss: 0.2266 - accuracy: 0.9185 - val_loss: 0.2360 - val_accuracy: 0.9155\n",
      "Epoch 153/1000\n",
      "37/37 [==============================] - 0s 2ms/step - loss: 0.2263 - accuracy: 0.9185 - val_loss: 0.2359 - val_accuracy: 0.9155\n",
      "Epoch 154/1000\n",
      "37/37 [==============================] - 0s 2ms/step - loss: 0.2259 - accuracy: 0.9182 - val_loss: 0.2357 - val_accuracy: 0.9155\n",
      "Epoch 155/1000\n",
      "37/37 [==============================] - 0s 2ms/step - loss: 0.2256 - accuracy: 0.9185 - val_loss: 0.2354 - val_accuracy: 0.9155\n",
      "Epoch 156/1000\n",
      "37/37 [==============================] - 0s 2ms/step - loss: 0.2253 - accuracy: 0.9182 - val_loss: 0.2352 - val_accuracy: 0.9155\n",
      "Epoch 157/1000\n",
      "37/37 [==============================] - 0s 2ms/step - loss: 0.2249 - accuracy: 0.9185 - val_loss: 0.2351 - val_accuracy: 0.9155\n",
      "Epoch 158/1000\n",
      "37/37 [==============================] - 0s 3ms/step - loss: 0.2246 - accuracy: 0.9185 - val_loss: 0.2348 - val_accuracy: 0.9155\n",
      "Epoch 159/1000\n",
      "37/37 [==============================] - 0s 3ms/step - loss: 0.2243 - accuracy: 0.9187 - val_loss: 0.2347 - val_accuracy: 0.9155\n",
      "Epoch 160/1000\n",
      "37/37 [==============================] - 0s 3ms/step - loss: 0.2240 - accuracy: 0.9187 - val_loss: 0.2345 - val_accuracy: 0.9155\n",
      "Epoch 161/1000\n",
      "37/37 [==============================] - 0s 3ms/step - loss: 0.2236 - accuracy: 0.9190 - val_loss: 0.2344 - val_accuracy: 0.9155\n",
      "Epoch 162/1000\n",
      "37/37 [==============================] - 0s 3ms/step - loss: 0.2233 - accuracy: 0.9190 - val_loss: 0.2342 - val_accuracy: 0.9155\n",
      "Epoch 163/1000\n",
      "37/37 [==============================] - 0s 2ms/step - loss: 0.2231 - accuracy: 0.9190 - val_loss: 0.2341 - val_accuracy: 0.9144\n",
      "Epoch 164/1000\n",
      "37/37 [==============================] - 0s 2ms/step - loss: 0.2227 - accuracy: 0.9193 - val_loss: 0.2337 - val_accuracy: 0.9166\n",
      "Epoch 165/1000\n",
      "37/37 [==============================] - 0s 2ms/step - loss: 0.2224 - accuracy: 0.9198 - val_loss: 0.2336 - val_accuracy: 0.9166\n",
      "Epoch 166/1000\n",
      "37/37 [==============================] - 0s 2ms/step - loss: 0.2221 - accuracy: 0.9198 - val_loss: 0.2335 - val_accuracy: 0.9166\n",
      "Epoch 167/1000\n",
      "37/37 [==============================] - 0s 2ms/step - loss: 0.2219 - accuracy: 0.9201 - val_loss: 0.2333 - val_accuracy: 0.9166\n",
      "Epoch 168/1000\n",
      "37/37 [==============================] - 0s 2ms/step - loss: 0.2215 - accuracy: 0.9198 - val_loss: 0.2332 - val_accuracy: 0.9155\n",
      "Epoch 169/1000\n",
      "37/37 [==============================] - 0s 2ms/step - loss: 0.2212 - accuracy: 0.9196 - val_loss: 0.2329 - val_accuracy: 0.9166\n",
      "Epoch 170/1000\n",
      "37/37 [==============================] - 0s 2ms/step - loss: 0.2209 - accuracy: 0.9207 - val_loss: 0.2327 - val_accuracy: 0.9177\n",
      "Epoch 171/1000\n",
      "37/37 [==============================] - 0s 2ms/step - loss: 0.2206 - accuracy: 0.9204 - val_loss: 0.2326 - val_accuracy: 0.9155\n"
     ]
    },
    {
     "name": "stdout",
     "output_type": "stream",
     "text": [
      "Epoch 172/1000\n",
      "37/37 [==============================] - 0s 2ms/step - loss: 0.2203 - accuracy: 0.9209 - val_loss: 0.2325 - val_accuracy: 0.9177\n",
      "Epoch 173/1000\n",
      "37/37 [==============================] - 0s 3ms/step - loss: 0.2200 - accuracy: 0.9207 - val_loss: 0.2323 - val_accuracy: 0.9166\n",
      "Epoch 174/1000\n",
      "37/37 [==============================] - 0s 2ms/step - loss: 0.2197 - accuracy: 0.9201 - val_loss: 0.2322 - val_accuracy: 0.9144\n",
      "Epoch 175/1000\n",
      "37/37 [==============================] - 0s 2ms/step - loss: 0.2195 - accuracy: 0.9207 - val_loss: 0.2320 - val_accuracy: 0.9177\n",
      "Epoch 176/1000\n",
      "37/37 [==============================] - 0s 2ms/step - loss: 0.2192 - accuracy: 0.9207 - val_loss: 0.2318 - val_accuracy: 0.9166\n",
      "Epoch 177/1000\n",
      "37/37 [==============================] - 0s 2ms/step - loss: 0.2189 - accuracy: 0.9207 - val_loss: 0.2317 - val_accuracy: 0.9144\n",
      "Epoch 178/1000\n",
      "37/37 [==============================] - 0s 2ms/step - loss: 0.2186 - accuracy: 0.9207 - val_loss: 0.2315 - val_accuracy: 0.9155\n",
      "Epoch 179/1000\n",
      "37/37 [==============================] - 0s 3ms/step - loss: 0.2183 - accuracy: 0.9207 - val_loss: 0.2314 - val_accuracy: 0.9155\n",
      "Epoch 180/1000\n",
      "37/37 [==============================] - 0s 2ms/step - loss: 0.2180 - accuracy: 0.9207 - val_loss: 0.2313 - val_accuracy: 0.9133\n",
      "Epoch 181/1000\n",
      "37/37 [==============================] - 0s 2ms/step - loss: 0.2178 - accuracy: 0.9209 - val_loss: 0.2311 - val_accuracy: 0.9133\n",
      "Epoch 182/1000\n",
      "37/37 [==============================] - 0s 2ms/step - loss: 0.2175 - accuracy: 0.9207 - val_loss: 0.2309 - val_accuracy: 0.9144\n",
      "Epoch 183/1000\n",
      "37/37 [==============================] - 0s 2ms/step - loss: 0.2172 - accuracy: 0.9207 - val_loss: 0.2308 - val_accuracy: 0.9155\n",
      "Epoch 184/1000\n",
      "37/37 [==============================] - 0s 2ms/step - loss: 0.2170 - accuracy: 0.9207 - val_loss: 0.2307 - val_accuracy: 0.9166\n",
      "Epoch 185/1000\n",
      "37/37 [==============================] - 0s 2ms/step - loss: 0.2167 - accuracy: 0.9207 - val_loss: 0.2305 - val_accuracy: 0.9177\n",
      "Epoch 186/1000\n",
      "37/37 [==============================] - 0s 2ms/step - loss: 0.2164 - accuracy: 0.9207 - val_loss: 0.2304 - val_accuracy: 0.9155\n",
      "Epoch 187/1000\n",
      "37/37 [==============================] - 0s 2ms/step - loss: 0.2161 - accuracy: 0.9209 - val_loss: 0.2302 - val_accuracy: 0.9166\n",
      "Epoch 188/1000\n",
      "37/37 [==============================] - 0s 2ms/step - loss: 0.2159 - accuracy: 0.9209 - val_loss: 0.2301 - val_accuracy: 0.9166\n",
      "Epoch 189/1000\n",
      "37/37 [==============================] - 0s 2ms/step - loss: 0.2156 - accuracy: 0.9209 - val_loss: 0.2299 - val_accuracy: 0.9166\n",
      "Epoch 190/1000\n",
      "37/37 [==============================] - 0s 2ms/step - loss: 0.2154 - accuracy: 0.9209 - val_loss: 0.2298 - val_accuracy: 0.9166\n",
      "Epoch 191/1000\n",
      "37/37 [==============================] - 0s 2ms/step - loss: 0.2151 - accuracy: 0.9209 - val_loss: 0.2296 - val_accuracy: 0.9166\n",
      "Epoch 192/1000\n",
      "37/37 [==============================] - 0s 2ms/step - loss: 0.2149 - accuracy: 0.9209 - val_loss: 0.2294 - val_accuracy: 0.9166\n",
      "Epoch 193/1000\n",
      "37/37 [==============================] - 0s 2ms/step - loss: 0.2146 - accuracy: 0.9209 - val_loss: 0.2294 - val_accuracy: 0.9166\n",
      "Epoch 194/1000\n",
      "37/37 [==============================] - 0s 2ms/step - loss: 0.2144 - accuracy: 0.9215 - val_loss: 0.2293 - val_accuracy: 0.9166\n",
      "Epoch 195/1000\n",
      "37/37 [==============================] - 0s 2ms/step - loss: 0.2141 - accuracy: 0.9209 - val_loss: 0.2291 - val_accuracy: 0.9155\n",
      "Epoch 196/1000\n",
      "37/37 [==============================] - 0s 2ms/step - loss: 0.2139 - accuracy: 0.9212 - val_loss: 0.2290 - val_accuracy: 0.9166\n",
      "Epoch 197/1000\n",
      "37/37 [==============================] - 0s 2ms/step - loss: 0.2136 - accuracy: 0.9218 - val_loss: 0.2289 - val_accuracy: 0.9166\n",
      "Epoch 198/1000\n",
      "37/37 [==============================] - 0s 2ms/step - loss: 0.2133 - accuracy: 0.9215 - val_loss: 0.2287 - val_accuracy: 0.9155\n",
      "Epoch 199/1000\n",
      "37/37 [==============================] - 0s 2ms/step - loss: 0.2131 - accuracy: 0.9215 - val_loss: 0.2286 - val_accuracy: 0.9155\n",
      "Epoch 200/1000\n",
      "37/37 [==============================] - 0s 2ms/step - loss: 0.2129 - accuracy: 0.9218 - val_loss: 0.2285 - val_accuracy: 0.9155\n",
      "Epoch 201/1000\n",
      "37/37 [==============================] - 0s 2ms/step - loss: 0.2127 - accuracy: 0.9223 - val_loss: 0.2284 - val_accuracy: 0.9155\n",
      "Epoch 202/1000\n",
      "37/37 [==============================] - 0s 2ms/step - loss: 0.2124 - accuracy: 0.9212 - val_loss: 0.2283 - val_accuracy: 0.9155\n",
      "Epoch 203/1000\n",
      "37/37 [==============================] - 0s 2ms/step - loss: 0.2121 - accuracy: 0.9218 - val_loss: 0.2282 - val_accuracy: 0.9166\n",
      "Epoch 204/1000\n",
      "37/37 [==============================] - 0s 2ms/step - loss: 0.2119 - accuracy: 0.9218 - val_loss: 0.2281 - val_accuracy: 0.9166\n",
      "Epoch 205/1000\n",
      "37/37 [==============================] - 0s 2ms/step - loss: 0.2117 - accuracy: 0.9220 - val_loss: 0.2280 - val_accuracy: 0.9166\n",
      "Epoch 206/1000\n",
      "37/37 [==============================] - 0s 2ms/step - loss: 0.2115 - accuracy: 0.9212 - val_loss: 0.2278 - val_accuracy: 0.9166\n",
      "Epoch 207/1000\n",
      "37/37 [==============================] - 0s 2ms/step - loss: 0.2112 - accuracy: 0.9220 - val_loss: 0.2277 - val_accuracy: 0.9166\n",
      "Epoch 208/1000\n",
      "37/37 [==============================] - 0s 2ms/step - loss: 0.2110 - accuracy: 0.9218 - val_loss: 0.2276 - val_accuracy: 0.9188\n",
      "Epoch 209/1000\n",
      "37/37 [==============================] - 0s 2ms/step - loss: 0.2107 - accuracy: 0.9223 - val_loss: 0.2275 - val_accuracy: 0.9144\n",
      "Epoch 210/1000\n",
      "37/37 [==============================] - 0s 2ms/step - loss: 0.2106 - accuracy: 0.9223 - val_loss: 0.2274 - val_accuracy: 0.9155\n",
      "Epoch 211/1000\n",
      "37/37 [==============================] - 0s 2ms/step - loss: 0.2103 - accuracy: 0.9223 - val_loss: 0.2273 - val_accuracy: 0.9155\n",
      "Epoch 212/1000\n",
      "37/37 [==============================] - 0s 2ms/step - loss: 0.2100 - accuracy: 0.9223 - val_loss: 0.2272 - val_accuracy: 0.9155\n",
      "Epoch 213/1000\n",
      "37/37 [==============================] - 0s 2ms/step - loss: 0.2098 - accuracy: 0.9220 - val_loss: 0.2271 - val_accuracy: 0.9155\n",
      "Epoch 214/1000\n",
      "37/37 [==============================] - 0s 2ms/step - loss: 0.2096 - accuracy: 0.9223 - val_loss: 0.2270 - val_accuracy: 0.9155\n",
      "Epoch 215/1000\n",
      "37/37 [==============================] - 0s 2ms/step - loss: 0.2094 - accuracy: 0.9223 - val_loss: 0.2268 - val_accuracy: 0.9166\n",
      "Epoch 216/1000\n",
      "37/37 [==============================] - 0s 2ms/step - loss: 0.2093 - accuracy: 0.9226 - val_loss: 0.2268 - val_accuracy: 0.9166\n",
      "Epoch 217/1000\n",
      "37/37 [==============================] - 0s 2ms/step - loss: 0.2090 - accuracy: 0.9223 - val_loss: 0.2267 - val_accuracy: 0.9166\n",
      "Epoch 218/1000\n",
      "37/37 [==============================] - 0s 2ms/step - loss: 0.2088 - accuracy: 0.9223 - val_loss: 0.2266 - val_accuracy: 0.9177\n",
      "Epoch 219/1000\n",
      "37/37 [==============================] - 0s 2ms/step - loss: 0.2085 - accuracy: 0.9220 - val_loss: 0.2265 - val_accuracy: 0.9166\n",
      "Epoch 220/1000\n",
      "37/37 [==============================] - 0s 2ms/step - loss: 0.2083 - accuracy: 0.9223 - val_loss: 0.2264 - val_accuracy: 0.9177\n",
      "Epoch 221/1000\n",
      "37/37 [==============================] - 0s 2ms/step - loss: 0.2081 - accuracy: 0.9226 - val_loss: 0.2262 - val_accuracy: 0.9177\n",
      "Epoch 222/1000\n",
      "37/37 [==============================] - 0s 2ms/step - loss: 0.2079 - accuracy: 0.9223 - val_loss: 0.2262 - val_accuracy: 0.9177\n",
      "Epoch 223/1000\n",
      "37/37 [==============================] - 0s 2ms/step - loss: 0.2077 - accuracy: 0.9223 - val_loss: 0.2261 - val_accuracy: 0.9188\n",
      "Epoch 224/1000\n",
      "37/37 [==============================] - 0s 2ms/step - loss: 0.2074 - accuracy: 0.9223 - val_loss: 0.2260 - val_accuracy: 0.9177\n",
      "Epoch 225/1000\n",
      "37/37 [==============================] - 0s 2ms/step - loss: 0.2072 - accuracy: 0.9223 - val_loss: 0.2260 - val_accuracy: 0.9188\n",
      "Epoch 226/1000\n",
      "37/37 [==============================] - 0s 2ms/step - loss: 0.2070 - accuracy: 0.9223 - val_loss: 0.2259 - val_accuracy: 0.9188\n",
      "Epoch 227/1000\n",
      "37/37 [==============================] - 0s 2ms/step - loss: 0.2069 - accuracy: 0.9223 - val_loss: 0.2258 - val_accuracy: 0.9188\n",
      "Epoch 228/1000\n",
      "37/37 [==============================] - 0s 2ms/step - loss: 0.2067 - accuracy: 0.9226 - val_loss: 0.2257 - val_accuracy: 0.9188\n"
     ]
    },
    {
     "name": "stdout",
     "output_type": "stream",
     "text": [
      "Epoch 229/1000\n",
      "37/37 [==============================] - 0s 2ms/step - loss: 0.2064 - accuracy: 0.9229 - val_loss: 0.2257 - val_accuracy: 0.9188\n",
      "Epoch 230/1000\n",
      "37/37 [==============================] - 0s 2ms/step - loss: 0.2062 - accuracy: 0.9226 - val_loss: 0.2256 - val_accuracy: 0.9188\n",
      "Epoch 231/1000\n",
      "37/37 [==============================] - 0s 2ms/step - loss: 0.2060 - accuracy: 0.9229 - val_loss: 0.2254 - val_accuracy: 0.9188\n",
      "Epoch 232/1000\n",
      "37/37 [==============================] - 0s 2ms/step - loss: 0.2058 - accuracy: 0.9229 - val_loss: 0.2254 - val_accuracy: 0.9188\n",
      "Epoch 233/1000\n",
      "37/37 [==============================] - 0s 2ms/step - loss: 0.2057 - accuracy: 0.9231 - val_loss: 0.2252 - val_accuracy: 0.9199\n",
      "Epoch 234/1000\n",
      "37/37 [==============================] - 0s 2ms/step - loss: 0.2054 - accuracy: 0.9226 - val_loss: 0.2251 - val_accuracy: 0.9188\n",
      "Epoch 235/1000\n",
      "37/37 [==============================] - 0s 2ms/step - loss: 0.2052 - accuracy: 0.9229 - val_loss: 0.2251 - val_accuracy: 0.9188\n",
      "Epoch 236/1000\n",
      "37/37 [==============================] - 0s 2ms/step - loss: 0.2051 - accuracy: 0.9223 - val_loss: 0.2249 - val_accuracy: 0.9188\n",
      "Epoch 237/1000\n",
      "37/37 [==============================] - 0s 2ms/step - loss: 0.2048 - accuracy: 0.9229 - val_loss: 0.2248 - val_accuracy: 0.9199\n",
      "Epoch 238/1000\n",
      "37/37 [==============================] - 0s 2ms/step - loss: 0.2046 - accuracy: 0.9231 - val_loss: 0.2247 - val_accuracy: 0.9199\n",
      "Epoch 239/1000\n",
      "37/37 [==============================] - 0s 2ms/step - loss: 0.2044 - accuracy: 0.9229 - val_loss: 0.2247 - val_accuracy: 0.9199\n",
      "Epoch 240/1000\n",
      "37/37 [==============================] - 0s 2ms/step - loss: 0.2043 - accuracy: 0.9231 - val_loss: 0.2246 - val_accuracy: 0.9199\n",
      "Epoch 241/1000\n",
      "37/37 [==============================] - 0s 2ms/step - loss: 0.2041 - accuracy: 0.9223 - val_loss: 0.2245 - val_accuracy: 0.9199\n",
      "Epoch 242/1000\n",
      "37/37 [==============================] - 0s 2ms/step - loss: 0.2039 - accuracy: 0.9229 - val_loss: 0.2245 - val_accuracy: 0.9188\n",
      "Epoch 243/1000\n",
      "37/37 [==============================] - 0s 2ms/step - loss: 0.2037 - accuracy: 0.9226 - val_loss: 0.2244 - val_accuracy: 0.9188\n",
      "Epoch 244/1000\n",
      "37/37 [==============================] - 0s 2ms/step - loss: 0.2035 - accuracy: 0.9229 - val_loss: 0.2243 - val_accuracy: 0.9199\n",
      "Epoch 245/1000\n",
      "37/37 [==============================] - 0s 2ms/step - loss: 0.2033 - accuracy: 0.9231 - val_loss: 0.2242 - val_accuracy: 0.9199\n",
      "Epoch 246/1000\n",
      "37/37 [==============================] - 0s 2ms/step - loss: 0.2031 - accuracy: 0.9234 - val_loss: 0.2241 - val_accuracy: 0.9199\n",
      "Epoch 247/1000\n",
      "37/37 [==============================] - 0s 2ms/step - loss: 0.2029 - accuracy: 0.9231 - val_loss: 0.2241 - val_accuracy: 0.9199\n",
      "Epoch 248/1000\n",
      "37/37 [==============================] - 0s 2ms/step - loss: 0.2028 - accuracy: 0.9237 - val_loss: 0.2240 - val_accuracy: 0.9199\n",
      "Epoch 249/1000\n",
      "37/37 [==============================] - 0s 2ms/step - loss: 0.2025 - accuracy: 0.9234 - val_loss: 0.2239 - val_accuracy: 0.9210\n",
      "Epoch 250/1000\n",
      "37/37 [==============================] - 0s 2ms/step - loss: 0.2024 - accuracy: 0.9231 - val_loss: 0.2239 - val_accuracy: 0.9210\n",
      "Epoch 251/1000\n",
      "37/37 [==============================] - 0s 2ms/step - loss: 0.2022 - accuracy: 0.9234 - val_loss: 0.2237 - val_accuracy: 0.9210\n",
      "Epoch 252/1000\n",
      "37/37 [==============================] - 0s 2ms/step - loss: 0.2020 - accuracy: 0.9231 - val_loss: 0.2237 - val_accuracy: 0.9210\n",
      "Epoch 253/1000\n",
      "37/37 [==============================] - 0s 2ms/step - loss: 0.2018 - accuracy: 0.9237 - val_loss: 0.2237 - val_accuracy: 0.9199\n",
      "Epoch 254/1000\n",
      "37/37 [==============================] - 0s 2ms/step - loss: 0.2016 - accuracy: 0.9240 - val_loss: 0.2236 - val_accuracy: 0.9188\n",
      "Epoch 255/1000\n",
      "37/37 [==============================] - 0s 2ms/step - loss: 0.2015 - accuracy: 0.9253 - val_loss: 0.2236 - val_accuracy: 0.9210\n",
      "Epoch 256/1000\n",
      "37/37 [==============================] - 0s 2ms/step - loss: 0.2013 - accuracy: 0.9248 - val_loss: 0.2235 - val_accuracy: 0.9199\n",
      "Epoch 257/1000\n",
      "37/37 [==============================] - 0s 2ms/step - loss: 0.2011 - accuracy: 0.9253 - val_loss: 0.2235 - val_accuracy: 0.9188\n",
      "Epoch 258/1000\n",
      "37/37 [==============================] - 0s 2ms/step - loss: 0.2010 - accuracy: 0.9248 - val_loss: 0.2235 - val_accuracy: 0.9199\n",
      "Epoch 259/1000\n",
      "37/37 [==============================] - 0s 2ms/step - loss: 0.2008 - accuracy: 0.9248 - val_loss: 0.2233 - val_accuracy: 0.9199\n",
      "Epoch 260/1000\n",
      "37/37 [==============================] - 0s 2ms/step - loss: 0.2006 - accuracy: 0.9256 - val_loss: 0.2233 - val_accuracy: 0.9199\n",
      "Epoch 261/1000\n",
      "37/37 [==============================] - 0s 2ms/step - loss: 0.2004 - accuracy: 0.9256 - val_loss: 0.2232 - val_accuracy: 0.9199\n",
      "Epoch 262/1000\n",
      "37/37 [==============================] - 0s 2ms/step - loss: 0.2002 - accuracy: 0.9264 - val_loss: 0.2232 - val_accuracy: 0.9199\n",
      "Epoch 263/1000\n",
      "37/37 [==============================] - 0s 2ms/step - loss: 0.2000 - accuracy: 0.9253 - val_loss: 0.2231 - val_accuracy: 0.9199\n",
      "Epoch 264/1000\n",
      "37/37 [==============================] - 0s 2ms/step - loss: 0.1999 - accuracy: 0.9262 - val_loss: 0.2230 - val_accuracy: 0.9199\n",
      "Epoch 265/1000\n",
      "37/37 [==============================] - 0s 2ms/step - loss: 0.1997 - accuracy: 0.9259 - val_loss: 0.2230 - val_accuracy: 0.9188\n",
      "Epoch 266/1000\n",
      "37/37 [==============================] - 0s 2ms/step - loss: 0.1995 - accuracy: 0.9259 - val_loss: 0.2230 - val_accuracy: 0.9188\n",
      "Epoch 267/1000\n",
      "37/37 [==============================] - 0s 2ms/step - loss: 0.1993 - accuracy: 0.9262 - val_loss: 0.2229 - val_accuracy: 0.9188\n",
      "Epoch 268/1000\n",
      "37/37 [==============================] - 0s 2ms/step - loss: 0.1992 - accuracy: 0.9264 - val_loss: 0.2229 - val_accuracy: 0.9188\n",
      "Epoch 269/1000\n",
      "37/37 [==============================] - 0s 2ms/step - loss: 0.1990 - accuracy: 0.9262 - val_loss: 0.2228 - val_accuracy: 0.9177\n",
      "Epoch 270/1000\n",
      "37/37 [==============================] - 0s 2ms/step - loss: 0.1989 - accuracy: 0.9264 - val_loss: 0.2227 - val_accuracy: 0.9177\n",
      "Epoch 271/1000\n",
      "37/37 [==============================] - 0s 2ms/step - loss: 0.1987 - accuracy: 0.9264 - val_loss: 0.2227 - val_accuracy: 0.9177\n",
      "Epoch 272/1000\n",
      "37/37 [==============================] - 0s 2ms/step - loss: 0.1985 - accuracy: 0.9267 - val_loss: 0.2226 - val_accuracy: 0.9177\n",
      "Epoch 273/1000\n",
      "37/37 [==============================] - 0s 2ms/step - loss: 0.1984 - accuracy: 0.9264 - val_loss: 0.2225 - val_accuracy: 0.9188\n",
      "Epoch 274/1000\n",
      "37/37 [==============================] - 0s 2ms/step - loss: 0.1982 - accuracy: 0.9264 - val_loss: 0.2225 - val_accuracy: 0.9188\n",
      "Epoch 275/1000\n",
      "37/37 [==============================] - 0s 2ms/step - loss: 0.1980 - accuracy: 0.9267 - val_loss: 0.2224 - val_accuracy: 0.9188\n",
      "Epoch 276/1000\n",
      "37/37 [==============================] - 0s 2ms/step - loss: 0.1979 - accuracy: 0.9267 - val_loss: 0.2224 - val_accuracy: 0.9188\n",
      "Epoch 277/1000\n",
      "37/37 [==============================] - 0s 2ms/step - loss: 0.1977 - accuracy: 0.9264 - val_loss: 0.2223 - val_accuracy: 0.9199\n",
      "Epoch 278/1000\n",
      "37/37 [==============================] - 0s 2ms/step - loss: 0.1975 - accuracy: 0.9267 - val_loss: 0.2222 - val_accuracy: 0.9188\n",
      "Epoch 279/1000\n",
      "37/37 [==============================] - 0s 2ms/step - loss: 0.1974 - accuracy: 0.9267 - val_loss: 0.2222 - val_accuracy: 0.9199\n",
      "Epoch 280/1000\n",
      "37/37 [==============================] - 0s 2ms/step - loss: 0.1972 - accuracy: 0.9264 - val_loss: 0.2222 - val_accuracy: 0.9199\n",
      "Epoch 281/1000\n",
      "37/37 [==============================] - 0s 2ms/step - loss: 0.1971 - accuracy: 0.9264 - val_loss: 0.2221 - val_accuracy: 0.9199\n",
      "Epoch 282/1000\n",
      "37/37 [==============================] - 0s 2ms/step - loss: 0.1970 - accuracy: 0.9267 - val_loss: 0.2220 - val_accuracy: 0.9199\n",
      "Epoch 283/1000\n",
      "37/37 [==============================] - 0s 2ms/step - loss: 0.1968 - accuracy: 0.9264 - val_loss: 0.2220 - val_accuracy: 0.9199\n",
      "Epoch 284/1000\n",
      "37/37 [==============================] - 0s 2ms/step - loss: 0.1966 - accuracy: 0.9267 - val_loss: 0.2219 - val_accuracy: 0.9199\n",
      "Epoch 285/1000\n",
      "37/37 [==============================] - 0s 2ms/step - loss: 0.1964 - accuracy: 0.9267 - val_loss: 0.2219 - val_accuracy: 0.9199\n"
     ]
    },
    {
     "name": "stdout",
     "output_type": "stream",
     "text": [
      "Epoch 286/1000\n",
      "37/37 [==============================] - 0s 2ms/step - loss: 0.1963 - accuracy: 0.9267 - val_loss: 0.2218 - val_accuracy: 0.9199\n",
      "Epoch 287/1000\n",
      "37/37 [==============================] - 0s 2ms/step - loss: 0.1962 - accuracy: 0.9264 - val_loss: 0.2219 - val_accuracy: 0.9199\n",
      "Epoch 288/1000\n",
      "37/37 [==============================] - 0s 2ms/step - loss: 0.1960 - accuracy: 0.9264 - val_loss: 0.2217 - val_accuracy: 0.9199\n",
      "Epoch 289/1000\n",
      "37/37 [==============================] - 0s 2ms/step - loss: 0.1958 - accuracy: 0.9264 - val_loss: 0.2217 - val_accuracy: 0.9199\n",
      "Epoch 290/1000\n",
      "37/37 [==============================] - 0s 2ms/step - loss: 0.1957 - accuracy: 0.9275 - val_loss: 0.2217 - val_accuracy: 0.9199\n",
      "Epoch 291/1000\n",
      "37/37 [==============================] - 0s 2ms/step - loss: 0.1955 - accuracy: 0.9270 - val_loss: 0.2216 - val_accuracy: 0.9199\n",
      "Epoch 292/1000\n",
      "37/37 [==============================] - 0s 2ms/step - loss: 0.1954 - accuracy: 0.9267 - val_loss: 0.2216 - val_accuracy: 0.9199\n",
      "Epoch 293/1000\n",
      "37/37 [==============================] - 0s 2ms/step - loss: 0.1952 - accuracy: 0.9270 - val_loss: 0.2215 - val_accuracy: 0.9199\n",
      "Epoch 294/1000\n",
      "37/37 [==============================] - 0s 2ms/step - loss: 0.1951 - accuracy: 0.9273 - val_loss: 0.2215 - val_accuracy: 0.9199\n",
      "Epoch 295/1000\n",
      "37/37 [==============================] - 0s 2ms/step - loss: 0.1949 - accuracy: 0.9267 - val_loss: 0.2215 - val_accuracy: 0.9199\n",
      "Epoch 296/1000\n",
      "37/37 [==============================] - 0s 2ms/step - loss: 0.1948 - accuracy: 0.9270 - val_loss: 0.2214 - val_accuracy: 0.9199\n",
      "Epoch 297/1000\n",
      "37/37 [==============================] - 0s 2ms/step - loss: 0.1946 - accuracy: 0.9273 - val_loss: 0.2214 - val_accuracy: 0.9199\n",
      "Epoch 298/1000\n",
      "37/37 [==============================] - 0s 2ms/step - loss: 0.1945 - accuracy: 0.9275 - val_loss: 0.2214 - val_accuracy: 0.9199\n",
      "Epoch 299/1000\n",
      "37/37 [==============================] - 0s 2ms/step - loss: 0.1943 - accuracy: 0.9275 - val_loss: 0.2213 - val_accuracy: 0.9199\n",
      "Epoch 300/1000\n",
      "37/37 [==============================] - 0s 2ms/step - loss: 0.1942 - accuracy: 0.9281 - val_loss: 0.2213 - val_accuracy: 0.9188\n",
      "Epoch 301/1000\n",
      "37/37 [==============================] - 0s 2ms/step - loss: 0.1940 - accuracy: 0.9278 - val_loss: 0.2213 - val_accuracy: 0.9177\n",
      "Epoch 302/1000\n",
      "37/37 [==============================] - 0s 2ms/step - loss: 0.1939 - accuracy: 0.9275 - val_loss: 0.2212 - val_accuracy: 0.9177\n",
      "Epoch 303/1000\n",
      "37/37 [==============================] - 0s 2ms/step - loss: 0.1937 - accuracy: 0.9278 - val_loss: 0.2211 - val_accuracy: 0.9177\n",
      "Epoch 304/1000\n",
      "37/37 [==============================] - 0s 2ms/step - loss: 0.1936 - accuracy: 0.9275 - val_loss: 0.2211 - val_accuracy: 0.9177\n",
      "Epoch 305/1000\n",
      "37/37 [==============================] - 0s 2ms/step - loss: 0.1935 - accuracy: 0.9273 - val_loss: 0.2211 - val_accuracy: 0.9177\n",
      "Epoch 306/1000\n",
      "37/37 [==============================] - 0s 2ms/step - loss: 0.1933 - accuracy: 0.9278 - val_loss: 0.2211 - val_accuracy: 0.9188\n",
      "Epoch 307/1000\n",
      "37/37 [==============================] - 0s 2ms/step - loss: 0.1931 - accuracy: 0.9275 - val_loss: 0.2210 - val_accuracy: 0.9188\n",
      "Epoch 308/1000\n",
      "37/37 [==============================] - 0s 2ms/step - loss: 0.1930 - accuracy: 0.9278 - val_loss: 0.2211 - val_accuracy: 0.9188\n",
      "Epoch 309/1000\n",
      "37/37 [==============================] - 0s 2ms/step - loss: 0.1928 - accuracy: 0.9275 - val_loss: 0.2210 - val_accuracy: 0.9188\n",
      "Epoch 310/1000\n",
      "37/37 [==============================] - 0s 2ms/step - loss: 0.1927 - accuracy: 0.9281 - val_loss: 0.2210 - val_accuracy: 0.9188\n",
      "Epoch 311/1000\n",
      "37/37 [==============================] - 0s 2ms/step - loss: 0.1926 - accuracy: 0.9275 - val_loss: 0.2209 - val_accuracy: 0.9188\n",
      "Epoch 312/1000\n",
      "37/37 [==============================] - 0s 2ms/step - loss: 0.1924 - accuracy: 0.9278 - val_loss: 0.2209 - val_accuracy: 0.9188\n",
      "Epoch 313/1000\n",
      "37/37 [==============================] - 0s 2ms/step - loss: 0.1923 - accuracy: 0.9281 - val_loss: 0.2208 - val_accuracy: 0.9188\n",
      "Epoch 314/1000\n",
      "37/37 [==============================] - 0s 2ms/step - loss: 0.1922 - accuracy: 0.9284 - val_loss: 0.2208 - val_accuracy: 0.9188\n",
      "Epoch 315/1000\n",
      "37/37 [==============================] - 0s 2ms/step - loss: 0.1920 - accuracy: 0.9284 - val_loss: 0.2208 - val_accuracy: 0.9188\n",
      "Epoch 316/1000\n",
      "37/37 [==============================] - 0s 2ms/step - loss: 0.1919 - accuracy: 0.9284 - val_loss: 0.2207 - val_accuracy: 0.9188\n",
      "Epoch 317/1000\n",
      "37/37 [==============================] - 0s 2ms/step - loss: 0.1918 - accuracy: 0.9286 - val_loss: 0.2207 - val_accuracy: 0.9188\n",
      "Epoch 318/1000\n",
      "37/37 [==============================] - 0s 2ms/step - loss: 0.1916 - accuracy: 0.9281 - val_loss: 0.2207 - val_accuracy: 0.9188\n",
      "Epoch 319/1000\n",
      "37/37 [==============================] - 0s 2ms/step - loss: 0.1915 - accuracy: 0.9284 - val_loss: 0.2206 - val_accuracy: 0.9188\n",
      "Epoch 320/1000\n",
      "37/37 [==============================] - 0s 2ms/step - loss: 0.1914 - accuracy: 0.9281 - val_loss: 0.2205 - val_accuracy: 0.9188\n",
      "Epoch 321/1000\n",
      "37/37 [==============================] - 0s 2ms/step - loss: 0.1912 - accuracy: 0.9286 - val_loss: 0.2205 - val_accuracy: 0.9188\n",
      "Epoch 322/1000\n",
      "37/37 [==============================] - 0s 2ms/step - loss: 0.1911 - accuracy: 0.9286 - val_loss: 0.2205 - val_accuracy: 0.9188\n",
      "Epoch 323/1000\n",
      "37/37 [==============================] - 0s 2ms/step - loss: 0.1910 - accuracy: 0.9286 - val_loss: 0.2204 - val_accuracy: 0.9188\n",
      "Epoch 324/1000\n",
      "37/37 [==============================] - 0s 2ms/step - loss: 0.1908 - accuracy: 0.9289 - val_loss: 0.2204 - val_accuracy: 0.9188\n",
      "Epoch 325/1000\n",
      "37/37 [==============================] - 0s 2ms/step - loss: 0.1907 - accuracy: 0.9286 - val_loss: 0.2204 - val_accuracy: 0.9188\n",
      "Epoch 326/1000\n",
      "37/37 [==============================] - 0s 2ms/step - loss: 0.1906 - accuracy: 0.9286 - val_loss: 0.2204 - val_accuracy: 0.9188\n",
      "Epoch 327/1000\n",
      "37/37 [==============================] - 0s 2ms/step - loss: 0.1904 - accuracy: 0.9286 - val_loss: 0.2203 - val_accuracy: 0.9188\n",
      "Epoch 328/1000\n",
      "37/37 [==============================] - 0s 2ms/step - loss: 0.1903 - accuracy: 0.9286 - val_loss: 0.2203 - val_accuracy: 0.9188\n",
      "Epoch 329/1000\n",
      "37/37 [==============================] - 0s 2ms/step - loss: 0.1902 - accuracy: 0.9292 - val_loss: 0.2203 - val_accuracy: 0.9188\n",
      "Epoch 330/1000\n",
      "37/37 [==============================] - 0s 2ms/step - loss: 0.1900 - accuracy: 0.9286 - val_loss: 0.2202 - val_accuracy: 0.9177\n",
      "Epoch 331/1000\n",
      "37/37 [==============================] - 0s 2ms/step - loss: 0.1899 - accuracy: 0.9292 - val_loss: 0.2203 - val_accuracy: 0.9177\n",
      "Epoch 332/1000\n",
      "37/37 [==============================] - 0s 2ms/step - loss: 0.1898 - accuracy: 0.9289 - val_loss: 0.2202 - val_accuracy: 0.9177\n",
      "Epoch 333/1000\n",
      "37/37 [==============================] - 0s 2ms/step - loss: 0.1896 - accuracy: 0.9289 - val_loss: 0.2202 - val_accuracy: 0.9166\n",
      "Epoch 334/1000\n",
      "37/37 [==============================] - 0s 2ms/step - loss: 0.1895 - accuracy: 0.9289 - val_loss: 0.2201 - val_accuracy: 0.9166\n",
      "Epoch 335/1000\n",
      "37/37 [==============================] - 0s 2ms/step - loss: 0.1894 - accuracy: 0.9292 - val_loss: 0.2201 - val_accuracy: 0.9166\n",
      "Epoch 336/1000\n",
      "37/37 [==============================] - 0s 2ms/step - loss: 0.1893 - accuracy: 0.9292 - val_loss: 0.2201 - val_accuracy: 0.9166\n",
      "Epoch 337/1000\n",
      "37/37 [==============================] - 0s 2ms/step - loss: 0.1891 - accuracy: 0.9295 - val_loss: 0.2201 - val_accuracy: 0.9166\n",
      "Epoch 338/1000\n",
      "37/37 [==============================] - 0s 2ms/step - loss: 0.1890 - accuracy: 0.9289 - val_loss: 0.2201 - val_accuracy: 0.9177\n",
      "Epoch 339/1000\n",
      "37/37 [==============================] - 0s 2ms/step - loss: 0.1889 - accuracy: 0.9295 - val_loss: 0.2200 - val_accuracy: 0.9166\n",
      "Epoch 340/1000\n",
      "37/37 [==============================] - 0s 2ms/step - loss: 0.1887 - accuracy: 0.9297 - val_loss: 0.2199 - val_accuracy: 0.9166\n",
      "Epoch 341/1000\n",
      "37/37 [==============================] - 0s 2ms/step - loss: 0.1887 - accuracy: 0.9295 - val_loss: 0.2200 - val_accuracy: 0.9166\n",
      "Epoch 342/1000\n",
      "37/37 [==============================] - 0s 2ms/step - loss: 0.1885 - accuracy: 0.9295 - val_loss: 0.2199 - val_accuracy: 0.9166\n"
     ]
    },
    {
     "name": "stdout",
     "output_type": "stream",
     "text": [
      "Epoch 343/1000\n",
      "37/37 [==============================] - 0s 2ms/step - loss: 0.1884 - accuracy: 0.9300 - val_loss: 0.2199 - val_accuracy: 0.9166\n",
      "Epoch 344/1000\n",
      "37/37 [==============================] - 0s 2ms/step - loss: 0.1882 - accuracy: 0.9297 - val_loss: 0.2199 - val_accuracy: 0.9166\n",
      "Epoch 345/1000\n",
      "37/37 [==============================] - 0s 2ms/step - loss: 0.1881 - accuracy: 0.9300 - val_loss: 0.2198 - val_accuracy: 0.9166\n",
      "Epoch 346/1000\n",
      "37/37 [==============================] - 0s 2ms/step - loss: 0.1880 - accuracy: 0.9295 - val_loss: 0.2199 - val_accuracy: 0.9166\n",
      "Epoch 347/1000\n",
      "37/37 [==============================] - 0s 2ms/step - loss: 0.1880 - accuracy: 0.9289 - val_loss: 0.2199 - val_accuracy: 0.9166\n",
      "Epoch 348/1000\n",
      "37/37 [==============================] - 0s 2ms/step - loss: 0.1878 - accuracy: 0.9295 - val_loss: 0.2199 - val_accuracy: 0.9166\n",
      "Epoch 349/1000\n",
      "37/37 [==============================] - 0s 2ms/step - loss: 0.1876 - accuracy: 0.9297 - val_loss: 0.2199 - val_accuracy: 0.9166\n",
      "Epoch 350/1000\n",
      "37/37 [==============================] - 0s 2ms/step - loss: 0.1876 - accuracy: 0.9300 - val_loss: 0.2199 - val_accuracy: 0.9166\n",
      "Epoch 351/1000\n",
      "37/37 [==============================] - 0s 2ms/step - loss: 0.1874 - accuracy: 0.9300 - val_loss: 0.2198 - val_accuracy: 0.9166\n",
      "Epoch 352/1000\n",
      "37/37 [==============================] - 0s 2ms/step - loss: 0.1873 - accuracy: 0.9297 - val_loss: 0.2199 - val_accuracy: 0.9166\n",
      "Epoch 353/1000\n",
      "37/37 [==============================] - 0s 2ms/step - loss: 0.1871 - accuracy: 0.9303 - val_loss: 0.2198 - val_accuracy: 0.9166\n",
      "Epoch 354/1000\n",
      "37/37 [==============================] - 0s 2ms/step - loss: 0.1871 - accuracy: 0.9303 - val_loss: 0.2198 - val_accuracy: 0.9166\n",
      "Epoch 355/1000\n",
      "37/37 [==============================] - 0s 2ms/step - loss: 0.1869 - accuracy: 0.9308 - val_loss: 0.2198 - val_accuracy: 0.9166\n",
      "Epoch 356/1000\n",
      "37/37 [==============================] - 0s 2ms/step - loss: 0.1868 - accuracy: 0.9308 - val_loss: 0.2197 - val_accuracy: 0.9166\n",
      "Epoch 357/1000\n",
      "37/37 [==============================] - 0s 2ms/step - loss: 0.1866 - accuracy: 0.9308 - val_loss: 0.2197 - val_accuracy: 0.9177\n",
      "Epoch 358/1000\n",
      "37/37 [==============================] - 0s 2ms/step - loss: 0.1866 - accuracy: 0.9306 - val_loss: 0.2198 - val_accuracy: 0.9177\n",
      "Epoch 359/1000\n",
      "37/37 [==============================] - 0s 2ms/step - loss: 0.1865 - accuracy: 0.9308 - val_loss: 0.2198 - val_accuracy: 0.9166\n",
      "Epoch 360/1000\n",
      "37/37 [==============================] - 0s 2ms/step - loss: 0.1863 - accuracy: 0.9308 - val_loss: 0.2198 - val_accuracy: 0.9177\n",
      "Epoch 361/1000\n",
      "37/37 [==============================] - 0s 2ms/step - loss: 0.1862 - accuracy: 0.9311 - val_loss: 0.2197 - val_accuracy: 0.9177\n",
      "Epoch 362/1000\n",
      "37/37 [==============================] - 0s 2ms/step - loss: 0.1861 - accuracy: 0.9308 - val_loss: 0.2197 - val_accuracy: 0.9177\n",
      "Epoch 363/1000\n",
      "37/37 [==============================] - 0s 2ms/step - loss: 0.1860 - accuracy: 0.9308 - val_loss: 0.2196 - val_accuracy: 0.9177\n",
      "Epoch 364/1000\n",
      "37/37 [==============================] - 0s 2ms/step - loss: 0.1859 - accuracy: 0.9306 - val_loss: 0.2197 - val_accuracy: 0.9177\n",
      "Epoch 365/1000\n",
      "37/37 [==============================] - 0s 2ms/step - loss: 0.1857 - accuracy: 0.9308 - val_loss: 0.2196 - val_accuracy: 0.9166\n",
      "Epoch 366/1000\n",
      "37/37 [==============================] - 0s 2ms/step - loss: 0.1856 - accuracy: 0.9308 - val_loss: 0.2196 - val_accuracy: 0.9177\n",
      "Epoch 367/1000\n",
      "37/37 [==============================] - 0s 2ms/step - loss: 0.1855 - accuracy: 0.9308 - val_loss: 0.2196 - val_accuracy: 0.9177\n",
      "Epoch 368/1000\n",
      "37/37 [==============================] - 0s 2ms/step - loss: 0.1854 - accuracy: 0.9306 - val_loss: 0.2196 - val_accuracy: 0.9177\n",
      "Epoch 369/1000\n",
      "37/37 [==============================] - 0s 2ms/step - loss: 0.1853 - accuracy: 0.9308 - val_loss: 0.2195 - val_accuracy: 0.9166\n",
      "Epoch 370/1000\n",
      "37/37 [==============================] - 0s 2ms/step - loss: 0.1852 - accuracy: 0.9311 - val_loss: 0.2195 - val_accuracy: 0.9177\n",
      "Epoch 371/1000\n",
      "37/37 [==============================] - 0s 2ms/step - loss: 0.1851 - accuracy: 0.9308 - val_loss: 0.2195 - val_accuracy: 0.9177\n",
      "Epoch 372/1000\n",
      "37/37 [==============================] - 0s 2ms/step - loss: 0.1850 - accuracy: 0.9314 - val_loss: 0.2195 - val_accuracy: 0.9177\n",
      "Epoch 373/1000\n",
      "37/37 [==============================] - 0s 2ms/step - loss: 0.1848 - accuracy: 0.9308 - val_loss: 0.2195 - val_accuracy: 0.9166\n",
      "Epoch 374/1000\n",
      "37/37 [==============================] - 0s 2ms/step - loss: 0.1848 - accuracy: 0.9306 - val_loss: 0.2195 - val_accuracy: 0.9177\n",
      "Epoch 375/1000\n",
      "37/37 [==============================] - 0s 2ms/step - loss: 0.1846 - accuracy: 0.9308 - val_loss: 0.2195 - val_accuracy: 0.9166\n",
      "Epoch 376/1000\n",
      "37/37 [==============================] - 0s 2ms/step - loss: 0.1845 - accuracy: 0.9308 - val_loss: 0.2194 - val_accuracy: 0.9166\n",
      "Epoch 377/1000\n",
      "37/37 [==============================] - 0s 2ms/step - loss: 0.1844 - accuracy: 0.9316 - val_loss: 0.2194 - val_accuracy: 0.9166\n",
      "Epoch 378/1000\n",
      "37/37 [==============================] - 0s 2ms/step - loss: 0.1843 - accuracy: 0.9308 - val_loss: 0.2194 - val_accuracy: 0.9177\n",
      "Epoch 379/1000\n",
      "37/37 [==============================] - 0s 2ms/step - loss: 0.1842 - accuracy: 0.9314 - val_loss: 0.2194 - val_accuracy: 0.9166\n",
      "Epoch 380/1000\n",
      "37/37 [==============================] - 0s 2ms/step - loss: 0.1841 - accuracy: 0.9314 - val_loss: 0.2194 - val_accuracy: 0.9166\n",
      "Epoch 381/1000\n",
      "37/37 [==============================] - 0s 2ms/step - loss: 0.1840 - accuracy: 0.9314 - val_loss: 0.2194 - val_accuracy: 0.9177\n",
      "Epoch 382/1000\n",
      "37/37 [==============================] - 0s 2ms/step - loss: 0.1839 - accuracy: 0.9311 - val_loss: 0.2194 - val_accuracy: 0.9166\n",
      "Epoch 383/1000\n",
      "37/37 [==============================] - 0s 2ms/step - loss: 0.1838 - accuracy: 0.9311 - val_loss: 0.2193 - val_accuracy: 0.9166\n",
      "Epoch 384/1000\n",
      "37/37 [==============================] - 0s 2ms/step - loss: 0.1836 - accuracy: 0.9319 - val_loss: 0.2193 - val_accuracy: 0.9166\n",
      "Epoch 385/1000\n",
      "37/37 [==============================] - 0s 2ms/step - loss: 0.1835 - accuracy: 0.9314 - val_loss: 0.2194 - val_accuracy: 0.9166\n",
      "Epoch 386/1000\n",
      "37/37 [==============================] - 0s 2ms/step - loss: 0.1834 - accuracy: 0.9314 - val_loss: 0.2193 - val_accuracy: 0.9166\n",
      "Epoch 387/1000\n",
      "37/37 [==============================] - 0s 2ms/step - loss: 0.1833 - accuracy: 0.9314 - val_loss: 0.2193 - val_accuracy: 0.9166\n",
      "Epoch 388/1000\n",
      "37/37 [==============================] - 0s 2ms/step - loss: 0.1832 - accuracy: 0.9319 - val_loss: 0.2193 - val_accuracy: 0.9166\n",
      "Epoch 389/1000\n",
      "37/37 [==============================] - 0s 2ms/step - loss: 0.1831 - accuracy: 0.9316 - val_loss: 0.2193 - val_accuracy: 0.9166\n",
      "Epoch 390/1000\n",
      "37/37 [==============================] - 0s 2ms/step - loss: 0.1830 - accuracy: 0.9314 - val_loss: 0.2193 - val_accuracy: 0.9166\n",
      "Epoch 391/1000\n",
      "37/37 [==============================] - 0s 2ms/step - loss: 0.1829 - accuracy: 0.9316 - val_loss: 0.2192 - val_accuracy: 0.9166\n",
      "Epoch 392/1000\n",
      "37/37 [==============================] - 0s 2ms/step - loss: 0.1828 - accuracy: 0.9316 - val_loss: 0.2192 - val_accuracy: 0.9166\n",
      "Epoch 393/1000\n",
      "37/37 [==============================] - 0s 2ms/step - loss: 0.1827 - accuracy: 0.9316 - val_loss: 0.2192 - val_accuracy: 0.9166\n",
      "Epoch 394/1000\n",
      "37/37 [==============================] - 0s 2ms/step - loss: 0.1826 - accuracy: 0.9314 - val_loss: 0.2192 - val_accuracy: 0.9166\n",
      "Epoch 395/1000\n",
      "37/37 [==============================] - 0s 2ms/step - loss: 0.1825 - accuracy: 0.9319 - val_loss: 0.2192 - val_accuracy: 0.9166\n",
      "Epoch 396/1000\n",
      "37/37 [==============================] - 0s 2ms/step - loss: 0.1824 - accuracy: 0.9316 - val_loss: 0.2193 - val_accuracy: 0.9166\n",
      "Epoch 397/1000\n",
      "37/37 [==============================] - 0s 2ms/step - loss: 0.1823 - accuracy: 0.9319 - val_loss: 0.2192 - val_accuracy: 0.9166\n",
      "Epoch 398/1000\n",
      "37/37 [==============================] - 0s 2ms/step - loss: 0.1821 - accuracy: 0.9322 - val_loss: 0.2192 - val_accuracy: 0.9166\n",
      "Epoch 399/1000\n",
      "37/37 [==============================] - 0s 2ms/step - loss: 0.1821 - accuracy: 0.9325 - val_loss: 0.2192 - val_accuracy: 0.9166\n"
     ]
    },
    {
     "name": "stdout",
     "output_type": "stream",
     "text": [
      "Epoch 400/1000\n",
      "37/37 [==============================] - 0s 2ms/step - loss: 0.1819 - accuracy: 0.9316 - val_loss: 0.2192 - val_accuracy: 0.9166\n",
      "Epoch 401/1000\n",
      "37/37 [==============================] - 0s 2ms/step - loss: 0.1818 - accuracy: 0.9319 - val_loss: 0.2192 - val_accuracy: 0.9166\n",
      "Epoch 402/1000\n",
      "37/37 [==============================] - 0s 2ms/step - loss: 0.1817 - accuracy: 0.9325 - val_loss: 0.2192 - val_accuracy: 0.9166\n",
      "Epoch 403/1000\n",
      "37/37 [==============================] - 0s 2ms/step - loss: 0.1817 - accuracy: 0.9322 - val_loss: 0.2191 - val_accuracy: 0.9166\n",
      "Epoch 404/1000\n",
      "37/37 [==============================] - 0s 2ms/step - loss: 0.1815 - accuracy: 0.9319 - val_loss: 0.2191 - val_accuracy: 0.9166\n",
      "Epoch 405/1000\n",
      "37/37 [==============================] - 0s 2ms/step - loss: 0.1814 - accuracy: 0.9327 - val_loss: 0.2191 - val_accuracy: 0.9166\n",
      "Epoch 406/1000\n",
      "37/37 [==============================] - 0s 2ms/step - loss: 0.1813 - accuracy: 0.9330 - val_loss: 0.2191 - val_accuracy: 0.9166\n",
      "Epoch 407/1000\n",
      "37/37 [==============================] - 0s 2ms/step - loss: 0.1813 - accuracy: 0.9327 - val_loss: 0.2191 - val_accuracy: 0.9166\n",
      "Epoch 408/1000\n",
      "37/37 [==============================] - 0s 2ms/step - loss: 0.1811 - accuracy: 0.9327 - val_loss: 0.2191 - val_accuracy: 0.9166\n",
      "Epoch 409/1000\n",
      "37/37 [==============================] - 0s 2ms/step - loss: 0.1810 - accuracy: 0.9330 - val_loss: 0.2191 - val_accuracy: 0.9166\n",
      "Epoch 410/1000\n",
      "37/37 [==============================] - 0s 2ms/step - loss: 0.1809 - accuracy: 0.9333 - val_loss: 0.2190 - val_accuracy: 0.9166\n",
      "Epoch 411/1000\n",
      "37/37 [==============================] - 0s 2ms/step - loss: 0.1809 - accuracy: 0.9330 - val_loss: 0.2191 - val_accuracy: 0.9166\n",
      "Epoch 412/1000\n",
      "37/37 [==============================] - 0s 2ms/step - loss: 0.1807 - accuracy: 0.9327 - val_loss: 0.2190 - val_accuracy: 0.9166\n",
      "Epoch 413/1000\n",
      "37/37 [==============================] - 0s 2ms/step - loss: 0.1806 - accuracy: 0.9327 - val_loss: 0.2190 - val_accuracy: 0.9166\n",
      "Epoch 414/1000\n",
      "37/37 [==============================] - 0s 2ms/step - loss: 0.1805 - accuracy: 0.9333 - val_loss: 0.2190 - val_accuracy: 0.9166\n",
      "Epoch 415/1000\n",
      "37/37 [==============================] - 0s 2ms/step - loss: 0.1804 - accuracy: 0.9336 - val_loss: 0.2190 - val_accuracy: 0.9166\n",
      "Epoch 416/1000\n",
      "37/37 [==============================] - 0s 2ms/step - loss: 0.1804 - accuracy: 0.9336 - val_loss: 0.2190 - val_accuracy: 0.9166\n",
      "Epoch 417/1000\n",
      "37/37 [==============================] - 0s 2ms/step - loss: 0.1803 - accuracy: 0.9336 - val_loss: 0.2190 - val_accuracy: 0.9166\n",
      "Epoch 418/1000\n",
      "37/37 [==============================] - 0s 2ms/step - loss: 0.1802 - accuracy: 0.9338 - val_loss: 0.2190 - val_accuracy: 0.9166\n",
      "Epoch 419/1000\n",
      "37/37 [==============================] - 0s 2ms/step - loss: 0.1800 - accuracy: 0.9336 - val_loss: 0.2189 - val_accuracy: 0.9166\n",
      "Epoch 420/1000\n",
      "37/37 [==============================] - 0s 2ms/step - loss: 0.1800 - accuracy: 0.9336 - val_loss: 0.2189 - val_accuracy: 0.9166\n",
      "Epoch 421/1000\n",
      "37/37 [==============================] - 0s 2ms/step - loss: 0.1799 - accuracy: 0.9336 - val_loss: 0.2189 - val_accuracy: 0.9166\n",
      "Epoch 422/1000\n",
      "37/37 [==============================] - 0s 2ms/step - loss: 0.1798 - accuracy: 0.9336 - val_loss: 0.2189 - val_accuracy: 0.9166\n",
      "Epoch 423/1000\n",
      "37/37 [==============================] - 0s 2ms/step - loss: 0.1797 - accuracy: 0.9336 - val_loss: 0.2189 - val_accuracy: 0.9155\n",
      "Epoch 424/1000\n",
      "37/37 [==============================] - 0s 2ms/step - loss: 0.1796 - accuracy: 0.9333 - val_loss: 0.2189 - val_accuracy: 0.9166\n",
      "Epoch 425/1000\n",
      "37/37 [==============================] - 0s 2ms/step - loss: 0.1795 - accuracy: 0.9338 - val_loss: 0.2189 - val_accuracy: 0.9155\n",
      "Epoch 426/1000\n",
      "37/37 [==============================] - 0s 2ms/step - loss: 0.1795 - accuracy: 0.9336 - val_loss: 0.2190 - val_accuracy: 0.9155\n",
      "Epoch 427/1000\n",
      "37/37 [==============================] - 0s 2ms/step - loss: 0.1793 - accuracy: 0.9338 - val_loss: 0.2190 - val_accuracy: 0.9155\n",
      "Epoch 428/1000\n",
      "37/37 [==============================] - 0s 2ms/step - loss: 0.1792 - accuracy: 0.9338 - val_loss: 0.2190 - val_accuracy: 0.9166\n",
      "Epoch 429/1000\n",
      "37/37 [==============================] - 0s 2ms/step - loss: 0.1792 - accuracy: 0.9338 - val_loss: 0.2190 - val_accuracy: 0.9155\n",
      "Epoch 430/1000\n",
      "37/37 [==============================] - 0s 2ms/step - loss: 0.1791 - accuracy: 0.9338 - val_loss: 0.2189 - val_accuracy: 0.9155\n",
      "Epoch 431/1000\n",
      "37/37 [==============================] - 0s 2ms/step - loss: 0.1790 - accuracy: 0.9336 - val_loss: 0.2190 - val_accuracy: 0.9144\n",
      "Epoch 432/1000\n",
      "37/37 [==============================] - 0s 2ms/step - loss: 0.1788 - accuracy: 0.9338 - val_loss: 0.2191 - val_accuracy: 0.9155\n",
      "Epoch 433/1000\n",
      "37/37 [==============================] - 0s 2ms/step - loss: 0.1787 - accuracy: 0.9338 - val_loss: 0.2190 - val_accuracy: 0.9144\n",
      "Epoch 434/1000\n",
      "37/37 [==============================] - 0s 2ms/step - loss: 0.1787 - accuracy: 0.9338 - val_loss: 0.2190 - val_accuracy: 0.9144\n",
      "Epoch 435/1000\n",
      "37/37 [==============================] - 0s 2ms/step - loss: 0.1786 - accuracy: 0.9341 - val_loss: 0.2190 - val_accuracy: 0.9144\n",
      "Epoch 436/1000\n",
      "37/37 [==============================] - 0s 2ms/step - loss: 0.1785 - accuracy: 0.9338 - val_loss: 0.2190 - val_accuracy: 0.9144\n",
      "Epoch 437/1000\n",
      "37/37 [==============================] - 0s 2ms/step - loss: 0.1784 - accuracy: 0.9336 - val_loss: 0.2190 - val_accuracy: 0.9144\n",
      "Epoch 438/1000\n",
      "37/37 [==============================] - 0s 2ms/step - loss: 0.1783 - accuracy: 0.9338 - val_loss: 0.2190 - val_accuracy: 0.9144\n",
      "Epoch 439/1000\n",
      "37/37 [==============================] - 0s 2ms/step - loss: 0.1782 - accuracy: 0.9344 - val_loss: 0.2191 - val_accuracy: 0.9144\n",
      "Epoch 440/1000\n",
      "37/37 [==============================] - 0s 2ms/step - loss: 0.1781 - accuracy: 0.9338 - val_loss: 0.2190 - val_accuracy: 0.9144\n",
      "Epoch 441/1000\n",
      "37/37 [==============================] - 0s 2ms/step - loss: 0.1780 - accuracy: 0.9341 - val_loss: 0.2190 - val_accuracy: 0.9144\n",
      "Epoch 442/1000\n",
      "37/37 [==============================] - 0s 2ms/step - loss: 0.1779 - accuracy: 0.9349 - val_loss: 0.2190 - val_accuracy: 0.9144\n",
      "Epoch 443/1000\n",
      "37/37 [==============================] - 0s 2ms/step - loss: 0.1778 - accuracy: 0.9344 - val_loss: 0.2190 - val_accuracy: 0.9144\n",
      "Epoch 444/1000\n",
      "37/37 [==============================] - 0s 2ms/step - loss: 0.1777 - accuracy: 0.9338 - val_loss: 0.2189 - val_accuracy: 0.9144\n",
      "Epoch 445/1000\n",
      "37/37 [==============================] - 0s 3ms/step - loss: 0.1776 - accuracy: 0.9341 - val_loss: 0.2190 - val_accuracy: 0.9144\n"
     ]
    },
    {
     "data": {
      "text/plain": [
       "<keras.callbacks.History at 0x7f8bbe72cb70>"
      ]
     },
     "execution_count": 95,
     "metadata": {},
     "output_type": "execute_result"
    }
   ],
   "source": [
    "cl_model = tf.keras.models.Sequential()\n",
    "# cl_model.add(tf.keras.layers.Dense(512, input_dim = 512,activation='sigmoid'))\n",
    "# cl_model.add(tf.keras.layers.Dense(1, activation='sigmoid'))\n",
    "initializer = tf.keras.initializers.Identity()\n",
    "#base_model.add(tf.keras.layers.Dense())\n",
    "cl_model.add(tf.keras.layers.Dense(512,input_dim = 512,activation=None,trainable=False,kernel_initializer=initializer))#activation=\"relu\"))\n",
    "# cl_model.add(tf.keras.layers.Dense(512, activation='sigmoid'))\n",
    "# cl_model.add(tf.keras.layers.Dense(512, activation='sigmoid'))\n",
    "cl_model.add(tf.keras.layers.Dense(1, activation='sigmoid'))\n",
    "cl_model.compile(loss='binary_crossentropy', optimizer='adam', metrics=['accuracy'])\n",
    "    \n",
    "earlystopping = callbacks.EarlyStopping(monitor =\"val_loss\", \n",
    "                                        mode =\"min\", patience = 20, \n",
    "                                        restore_best_weights = True)\n",
    "    \n",
    "cl_model.fit(x_train.values,y_train.values, batch_size = 100,epochs=1000,validation_data=(x_test.values,y_test.values),callbacks =[earlystopping])\n",
    "\n"
   ]
  },
  {
   "cell_type": "code",
   "execution_count": 96,
   "metadata": {},
   "outputs": [
    {
     "name": "stdout",
     "output_type": "stream",
     "text": [
      "CPU times: user 52 s, sys: 28.5 s, total: 1min 20s\n",
      "Wall time: 18.5 s\n"
     ]
    }
   ],
   "source": [
    "%%time\n",
    "holdout = pd.read_csv(\"/Users/dinesh.surapaneni/OneDrive - ServiceNow/Snorkel/data/holdout.csv\",encoding='latin-1')\n",
    "holdout[\"label\"] = holdout[\"label\"].replace(\"undecided\", \"non-critical\")\n",
    "holdout[\"label_bn\"] = [1 if i == \"critical\" else 0 for i in holdout.label ]\n",
    "\n",
    "tt_embed = []\n",
    "i = 0\n",
    "while(i < holdout.shape[0]-10):\n",
    "    tt_embed.append(embed(holdout.text[i:i+10]).tolist())\n",
    "    i+= 10\n",
    "    #print(i)\n",
    "else:\n",
    "    tt_embed.append(embed(holdout.text[i:]).tolist())\n",
    "\n",
    "tt_embed2 = []\n",
    "for x in tt_embed:\n",
    "    for y in x:\n",
    "        tt_embed2.append(y)\n",
    "\n",
    "        \n",
    "df_emb_hold = pd.DataFrame(tt_embed2, columns = [\"vec\" + str(i) for i in range(512)])\n"
   ]
  },
  {
   "cell_type": "code",
   "execution_count": 97,
   "metadata": {},
   "outputs": [
    {
     "name": "stdout",
     "output_type": "stream",
     "text": [
      "Accuracy: 55.59\n"
     ]
    }
   ],
   "source": [
    "_, accu = cl_model.evaluate(df_emb_hold.values, holdout.label_bn,verbose=0)\n",
    "print('Accuracy: %.2f' % (accu*100))"
   ]
  },
  {
   "cell_type": "code",
   "execution_count": 98,
   "metadata": {},
   "outputs": [],
   "source": [
    "holdout[\"pred\"] = [1 if i > 0.50 else 0 for i in cl_model.predict(df_emb_hold.values)]"
   ]
  },
  {
   "cell_type": "code",
   "execution_count": 99,
   "metadata": {},
   "outputs": [
    {
     "name": "stdout",
     "output_type": "stream",
     "text": [
      "pred         0    1\n",
      "label_bn           \n",
      "0         1058  792\n",
      "1          117   80\n"
     ]
    }
   ],
   "source": [
    "data_crosstab = pd.crosstab(holdout[\"label_bn\"],\n",
    "                            holdout[\"pred\"], \n",
    "                               margins = False)\n",
    "print(data_crosstab)"
   ]
  },
  {
   "cell_type": "code",
   "execution_count": 101,
   "metadata": {},
   "outputs": [
    {
     "data": {
      "text/html": [
       "<div>\n",
       "<style scoped>\n",
       "    .dataframe tbody tr th:only-of-type {\n",
       "        vertical-align: middle;\n",
       "    }\n",
       "\n",
       "    .dataframe tbody tr th {\n",
       "        vertical-align: top;\n",
       "    }\n",
       "\n",
       "    .dataframe thead th {\n",
       "        text-align: right;\n",
       "    }\n",
       "</style>\n",
       "<table border=\"1\" class=\"dataframe\">\n",
       "  <thead>\n",
       "    <tr style=\"text-align: right;\">\n",
       "      <th></th>\n",
       "      <th>precision</th>\n",
       "      <th>recall</th>\n",
       "      <th>f1-score</th>\n",
       "      <th>support</th>\n",
       "      <th>AUROC</th>\n",
       "      <th>AUPRC</th>\n",
       "    </tr>\n",
       "  </thead>\n",
       "  <tbody>\n",
       "    <tr>\n",
       "      <th>0</th>\n",
       "      <td>0.900426</td>\n",
       "      <td>0.571892</td>\n",
       "      <td>0.699504</td>\n",
       "      <td>1850.0</td>\n",
       "      <td>0.496812</td>\n",
       "      <td>0.910732</td>\n",
       "    </tr>\n",
       "    <tr>\n",
       "      <th>1</th>\n",
       "      <td>0.091743</td>\n",
       "      <td>0.406091</td>\n",
       "      <td>0.149673</td>\n",
       "      <td>197.0</td>\n",
       "      <td>0.496812</td>\n",
       "      <td>0.090249</td>\n",
       "    </tr>\n",
       "    <tr>\n",
       "      <th>accuracy</th>\n",
       "      <td>NaN</td>\n",
       "      <td>NaN</td>\n",
       "      <td>0.555936</td>\n",
       "      <td>2047.0</td>\n",
       "      <td>NaN</td>\n",
       "      <td>NaN</td>\n",
       "    </tr>\n",
       "    <tr>\n",
       "      <th>macro avg</th>\n",
       "      <td>0.496084</td>\n",
       "      <td>0.488992</td>\n",
       "      <td>0.424588</td>\n",
       "      <td>2047.0</td>\n",
       "      <td>0.496812</td>\n",
       "      <td>0.500491</td>\n",
       "    </tr>\n",
       "    <tr>\n",
       "      <th>weighted avg</th>\n",
       "      <td>0.822599</td>\n",
       "      <td>0.555936</td>\n",
       "      <td>0.646589</td>\n",
       "      <td>2047.0</td>\n",
       "      <td>0.496812</td>\n",
       "      <td>0.831770</td>\n",
       "    </tr>\n",
       "  </tbody>\n",
       "</table>\n",
       "</div>"
      ],
      "text/plain": [
       "              precision    recall  f1-score  support     AUROC     AUPRC\n",
       "0              0.900426  0.571892  0.699504   1850.0  0.496812  0.910732\n",
       "1              0.091743  0.406091  0.149673    197.0  0.496812  0.090249\n",
       "accuracy            NaN       NaN  0.555936   2047.0       NaN       NaN\n",
       "macro avg      0.496084  0.488992  0.424588   2047.0  0.496812  0.500491\n",
       "weighted avg   0.822599  0.555936  0.646589   2047.0  0.496812  0.831770"
      ]
     },
     "execution_count": 101,
     "metadata": {},
     "output_type": "execute_result"
    }
   ],
   "source": [
    "#For binary classifier\n",
    "T_num = 2 #Number of classes\n",
    "y_pred_prob = np.array([np.concatenate([1-prb,prb]) for prb in cl_model.predict(df_emb_hold.values)])\n",
    "y_test = holdout[\"label_bn\"]\n",
    "y_pred = [1 if i > 0.50 else 0 for i in cl_model.predict(df_emb_hold.values)]\n",
    "res, igr = clf_metric_AImp(y_test,y_pred, y_pred_prob, T_num)\n",
    "res"
   ]
  },
  {
   "cell_type": "code",
   "execution_count": 102,
   "metadata": {},
   "outputs": [],
   "source": [
    "res.to_csv(\"result.csv\", index=True)"
   ]
  },
  {
   "cell_type": "code",
   "execution_count": null,
   "metadata": {},
   "outputs": [],
   "source": []
  },
  {
   "cell_type": "code",
   "execution_count": null,
   "metadata": {},
   "outputs": [],
   "source": []
  },
  {
   "cell_type": "code",
   "execution_count": null,
   "metadata": {},
   "outputs": [],
   "source": []
  },
  {
   "cell_type": "code",
   "execution_count": null,
   "metadata": {},
   "outputs": [],
   "source": []
  },
  {
   "cell_type": "code",
   "execution_count": null,
   "metadata": {},
   "outputs": [],
   "source": []
  },
  {
   "cell_type": "code",
   "execution_count": 37,
   "metadata": {},
   "outputs": [
    {
     "data": {
      "text/html": [
       "<div>\n",
       "<style scoped>\n",
       "    .dataframe tbody tr th:only-of-type {\n",
       "        vertical-align: middle;\n",
       "    }\n",
       "\n",
       "    .dataframe tbody tr th {\n",
       "        vertical-align: top;\n",
       "    }\n",
       "\n",
       "    .dataframe thead th {\n",
       "        text-align: right;\n",
       "    }\n",
       "</style>\n",
       "<table border=\"1\" class=\"dataframe\">\n",
       "  <thead>\n",
       "    <tr style=\"text-align: right;\">\n",
       "      <th></th>\n",
       "      <th>precision</th>\n",
       "      <th>recall</th>\n",
       "      <th>f1-score</th>\n",
       "      <th>support</th>\n",
       "    </tr>\n",
       "  </thead>\n",
       "  <tbody>\n",
       "    <tr>\n",
       "      <th>0</th>\n",
       "      <td>0.934177</td>\n",
       "      <td>0.598378</td>\n",
       "      <td>0.729489</td>\n",
       "      <td>1850.000000</td>\n",
       "    </tr>\n",
       "    <tr>\n",
       "      <th>1</th>\n",
       "      <td>0.138051</td>\n",
       "      <td>0.604061</td>\n",
       "      <td>0.224740</td>\n",
       "      <td>197.000000</td>\n",
       "    </tr>\n",
       "    <tr>\n",
       "      <th>accuracy</th>\n",
       "      <td>0.598925</td>\n",
       "      <td>0.598925</td>\n",
       "      <td>0.598925</td>\n",
       "      <td>0.598925</td>\n",
       "    </tr>\n",
       "    <tr>\n",
       "      <th>macro avg</th>\n",
       "      <td>0.536114</td>\n",
       "      <td>0.601220</td>\n",
       "      <td>0.477115</td>\n",
       "      <td>2047.000000</td>\n",
       "    </tr>\n",
       "    <tr>\n",
       "      <th>weighted avg</th>\n",
       "      <td>0.857559</td>\n",
       "      <td>0.598925</td>\n",
       "      <td>0.680913</td>\n",
       "      <td>2047.000000</td>\n",
       "    </tr>\n",
       "  </tbody>\n",
       "</table>\n",
       "</div>"
      ],
      "text/plain": [
       "              precision    recall  f1-score      support\n",
       "0              0.934177  0.598378  0.729489  1850.000000\n",
       "1              0.138051  0.604061  0.224740   197.000000\n",
       "accuracy       0.598925  0.598925  0.598925     0.598925\n",
       "macro avg      0.536114  0.601220  0.477115  2047.000000\n",
       "weighted avg   0.857559  0.598925  0.680913  2047.000000"
      ]
     },
     "execution_count": 37,
     "metadata": {},
     "output_type": "execute_result"
    }
   ],
   "source": [
    "pd.DataFrame(classification_report(holdout[\"label_bn\"], holdout[\"pred\"], output_dict=True)).transpose()"
   ]
  },
  {
   "cell_type": "code",
   "execution_count": 135,
   "metadata": {},
   "outputs": [
    {
     "data": {
      "text/plain": [
       "LogisticRegression()"
      ]
     },
     "execution_count": 135,
     "metadata": {},
     "output_type": "execute_result"
    }
   ],
   "source": [
    "from sklearn.linear_model import LogisticRegression\n",
    "clf = LogisticRegression(solver=\"lbfgs\")\n",
    "clf.fit(X=df_emb[[\"vec\" + str(i) for i in range(512)]  ].values, y=df_emb.label.values)"
   ]
  },
  {
   "cell_type": "code",
   "execution_count": 136,
   "metadata": {},
   "outputs": [],
   "source": [
    "holdout[\"pred_logR\"] = clf.predict(df_emb_hold.values)"
   ]
  },
  {
   "cell_type": "code",
   "execution_count": 137,
   "metadata": {},
   "outputs": [
    {
     "name": "stdout",
     "output_type": "stream",
     "text": [
      "pred_logR    0    1\n",
      "label_bn           \n",
      "0          613  438\n",
      "1          102   80\n"
     ]
    }
   ],
   "source": [
    "data_crosstab = pd.crosstab(holdout[\"label_bn\"],\n",
    "                            holdout[\"pred_logR\"],\n",
    "                               margins = False)\n",
    "print(data_crosstab)"
   ]
  },
  {
   "cell_type": "code",
   "execution_count": 138,
   "metadata": {},
   "outputs": [
    {
     "data": {
      "text/plain": [
       "0.5620437956204379"
      ]
     },
     "execution_count": 138,
     "metadata": {},
     "output_type": "execute_result"
    }
   ],
   "source": [
    "(613 + 80)/holdout.shape[0]"
   ]
  },
  {
   "cell_type": "code",
   "execution_count": null,
   "metadata": {},
   "outputs": [],
   "source": []
  }
 ],
 "metadata": {
  "jupytext": {
   "cell_metadata_filter": "tags,-all",
   "encoding": "# -*- coding: utf-8 -*-"
  },
  "kernelspec": {
   "display_name": "Python 3",
   "language": "python",
   "name": "python3"
  },
  "language_info": {
   "codemirror_mode": {
    "name": "ipython",
    "version": 3
   },
   "file_extension": ".py",
   "mimetype": "text/x-python",
   "name": "python",
   "nbconvert_exporter": "python",
   "pygments_lexer": "ipython3",
   "version": "3.6.13"
  }
 },
 "nbformat": 4,
 "nbformat_minor": 4
}
