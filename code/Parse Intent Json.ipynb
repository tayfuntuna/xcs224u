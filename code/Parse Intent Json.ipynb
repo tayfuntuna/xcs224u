{
 "cells": [
  {
   "cell_type": "code",
   "execution_count": 10,
   "id": "137b3b2d",
   "metadata": {},
   "outputs": [],
   "source": [
    "# https://arxiv.org/abs/1909.02027\n",
    "import json\n",
    "import pandas as pd\n",
    "import os"
   ]
  },
  {
   "cell_type": "code",
   "execution_count": 6,
   "id": "239d7bf6",
   "metadata": {},
   "outputs": [],
   "source": [
    "DATA_FOLDER = \"../data/clinic/\""
   ]
  },
  {
   "cell_type": "code",
   "execution_count": 17,
   "id": "5362d8ef",
   "metadata": {},
   "outputs": [
    {
     "data": {
      "text/plain": [
       "['data_small.json',\n",
       " 'data_imbalanced',\n",
       " '.DS_Store',\n",
       " 'data_oos_plus.json',\n",
       " 'data_small',\n",
       " 'data_imbalanced.json',\n",
       " 'data_full',\n",
       " 'binary_wiki_aug.json',\n",
       " 'data_full.json',\n",
       " 'all_wiki_sents.txt',\n",
       " 'domains.json',\n",
       " 'binary_undersample.json',\n",
       " 'data_oos_plus']"
      ]
     },
     "execution_count": 17,
     "metadata": {},
     "output_type": "execute_result"
    }
   ],
   "source": [
    "os.listdir(DATA_FOLDER)"
   ]
  },
  {
   "cell_type": "code",
   "execution_count": null,
   "id": "f786ae95",
   "metadata": {},
   "outputs": [],
   "source": [
    "files = [\"data_full.json\", \"data_imbalanced.json\", \"data_oos_plus.json\",\"data_small.json\"]"
   ]
  },
  {
   "cell_type": "code",
   "execution_count": null,
   "id": "cc5ed7ab",
   "metadata": {},
   "outputs": [],
   "source": [
    "data = json.load(open(DATA_FOLDER + files[0]))"
   ]
  },
  {
   "cell_type": "code",
   "execution_count": 4,
   "id": "60cde68e",
   "metadata": {},
   "outputs": [
    {
     "name": "stdout",
     "output_type": "stream",
     "text": [
      "oos_val\n",
      "val\n",
      "train\n",
      "oos_test\n",
      "test\n",
      "oos_train\n"
     ]
    }
   ],
   "source": [
    "for k in data.keys():\n",
    "    print(k)"
   ]
  },
  {
   "cell_type": "code",
   "execution_count": 15,
   "id": "7e3cd94f",
   "metadata": {},
   "outputs": [
    {
     "name": "stdout",
     "output_type": "stream",
     "text": [
      "<class 'pandas.core.frame.DataFrame'>\n",
      "RangeIndex: 100 entries, 0 to 99\n",
      "Data columns (total 2 columns):\n",
      " #   Column  Non-Null Count  Dtype \n",
      "---  ------  --------------  ----- \n",
      " 0   text    100 non-null    object\n",
      " 1   intent  100 non-null    object\n",
      "dtypes: object(2)\n",
      "memory usage: 1.7+ KB\n"
     ]
    }
   ],
   "source": [
    "dt = pd.DataFrame(data['oos_train'], columns = ['text', 'intent'])\n",
    "dt.info()"
   ]
  },
  {
   "cell_type": "code",
   "execution_count": 16,
   "id": "c7ba68e0",
   "metadata": {},
   "outputs": [
    {
     "data": {
      "text/html": [
       "<div>\n",
       "<style scoped>\n",
       "    .dataframe tbody tr th:only-of-type {\n",
       "        vertical-align: middle;\n",
       "    }\n",
       "\n",
       "    .dataframe tbody tr th {\n",
       "        vertical-align: top;\n",
       "    }\n",
       "\n",
       "    .dataframe thead th {\n",
       "        text-align: right;\n",
       "    }\n",
       "</style>\n",
       "<table border=\"1\" class=\"dataframe\">\n",
       "  <thead>\n",
       "    <tr style=\"text-align: right;\">\n",
       "      <th></th>\n",
       "      <th>text</th>\n",
       "      <th>intent</th>\n",
       "    </tr>\n",
       "  </thead>\n",
       "  <tbody>\n",
       "    <tr>\n",
       "      <th>0</th>\n",
       "      <td>how much is an overdraft fee for bank</td>\n",
       "      <td>oos</td>\n",
       "    </tr>\n",
       "    <tr>\n",
       "      <th>1</th>\n",
       "      <td>why are exponents preformed before multiplicat...</td>\n",
       "      <td>oos</td>\n",
       "    </tr>\n",
       "    <tr>\n",
       "      <th>2</th>\n",
       "      <td>what size wipers does this car take</td>\n",
       "      <td>oos</td>\n",
       "    </tr>\n",
       "    <tr>\n",
       "      <th>3</th>\n",
       "      <td>where is the dipstick</td>\n",
       "      <td>oos</td>\n",
       "    </tr>\n",
       "    <tr>\n",
       "      <th>4</th>\n",
       "      <td>how much is 1 share of aapl</td>\n",
       "      <td>oos</td>\n",
       "    </tr>\n",
       "  </tbody>\n",
       "</table>\n",
       "</div>"
      ],
      "text/plain": [
       "                                                text intent\n",
       "0              how much is an overdraft fee for bank    oos\n",
       "1  why are exponents preformed before multiplicat...    oos\n",
       "2                what size wipers does this car take    oos\n",
       "3                              where is the dipstick    oos\n",
       "4                        how much is 1 share of aapl    oos"
      ]
     },
     "execution_count": 16,
     "metadata": {},
     "output_type": "execute_result"
    }
   ],
   "source": [
    "dt.head()"
   ]
  },
  {
   "cell_type": "code",
   "execution_count": 18,
   "id": "d5389def",
   "metadata": {},
   "outputs": [
    {
     "name": "stdout",
     "output_type": "stream",
     "text": [
      "data_full.json oos_val 100\n",
      "data_full.json val 100\n",
      "data_full.json train 100\n",
      "data_full.json oos_test 100\n",
      "data_full.json test 100\n",
      "data_full.json oos_train 100\n",
      "data_imbalanced.json oos_val 100\n",
      "data_imbalanced.json val 100\n",
      "data_imbalanced.json train 100\n",
      "data_imbalanced.json oos_test 100\n",
      "data_imbalanced.json test 100\n",
      "data_imbalanced.json oos_train 100\n",
      "data_oos_plus.json oos_val 100\n",
      "data_oos_plus.json val 100\n",
      "data_oos_plus.json train 100\n",
      "data_oos_plus.json oos_test 100\n",
      "data_oos_plus.json test 100\n",
      "data_oos_plus.json oos_train 100\n",
      "data_small.json oos_val 100\n",
      "data_small.json val 100\n",
      "data_small.json train 100\n",
      "data_small.json oos_test 100\n",
      "data_small.json test 100\n",
      "data_small.json oos_train 100\n"
     ]
    }
   ],
   "source": [
    "for file_name in files:\n",
    "    data = json.load(open(DATA_FOLDER + file_name))\n",
    "    new_path = DATA_FOLDER + file_name.replace('.json','')\n",
    "    os.makedirs(new_path, exist_ok=True)\n",
    "    for key in data.keys():\n",
    "        dt = pd.DataFrame(data['oos_val'], columns = ['text', 'intent'])\n",
    "        print(file_name,key, len(dt))\n",
    "        dt.sample(frac=1).to_csv(os.path.join(new_path, key +\".csv\"), index=False)"
   ]
  },
  {
   "cell_type": "code",
   "execution_count": 49,
   "id": "214ddc4d",
   "metadata": {},
   "outputs": [
    {
     "data": {
      "text/plain": [
       "151"
      ]
     },
     "execution_count": 49,
     "metadata": {},
     "output_type": "execute_result"
    }
   ],
   "source": [
    "len(set(dt.intent.tolist()))"
   ]
  }
 ],
 "metadata": {
  "kernelspec": {
   "display_name": "Python 3",
   "language": "python",
   "name": "python3"
  },
  "language_info": {
   "codemirror_mode": {
    "name": "ipython",
    "version": 3
   },
   "file_extension": ".py",
   "mimetype": "text/x-python",
   "name": "python",
   "nbconvert_exporter": "python",
   "pygments_lexer": "ipython3",
   "version": "3.6.13"
  }
 },
 "nbformat": 4,
 "nbformat_minor": 5
}
