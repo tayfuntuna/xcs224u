{
 "cells": [
  {
   "cell_type": "markdown",
   "id": "7ae4d8fe",
   "metadata": {},
   "source": [
    "# Summary of All Results:"
   ]
  },
  {
   "cell_type": "markdown",
   "id": "20c7c983",
   "metadata": {},
   "source": [
    "## Baseline:"
   ]
  },
  {
   "cell_type": "code",
   "execution_count": null,
   "id": "dac0de41",
   "metadata": {},
   "outputs": [],
   "source": [
    "\"\"\"\n",
    "../data/clinic/data_full/\n",
    "Inscope:        precision    recall  f1-score   support           \n",
    "    accuracy                         0.9531      4500\n",
    "   macro avg     0.9495    0.9468    0.9470      4500\n",
    "weighted avg     0.9559    0.9531    0.9533      4500\n",
    "\n",
    "\n",
    "../data/clinic/data_imbalanced/\n",
    "Inscope:        precision    recall  f1-score   support           \n",
    "    accuracy                         0.9542      4500\n",
    "   macro avg     0.9512    0.9479    0.9483      4500\n",
    "weighted avg     0.9576    0.9542    0.9547      4500\n",
    "\n",
    "\n",
    "../data/clinic/data_oos_plus/\n",
    "Inscope:        precision    recall  f1-score   support           \n",
    "    accuracy                         0.9618      4500\n",
    "   macro avg     0.9591    0.9554    0.9564      4500\n",
    "weighted avg     0.9655    0.9618    0.9627      4500\n",
    "\n",
    "\n",
    "../data/clinic/data_small/\n",
    "Inscope:        precision    recall  f1-score   support           \n",
    "    accuracy                         0.9538      4500\n",
    "   macro avg     0.9540    0.9475    0.9496      4500\n",
    "weighted avg     0.9603    0.9538    0.9559      4500\n",
    "\n",
    "\"\"\""
   ]
  },
  {
   "cell_type": "markdown",
   "id": "c326b476",
   "metadata": {},
   "source": [
    "## WeakSupervision:"
   ]
  },
  {
   "cell_type": "code",
   "execution_count": null,
   "id": "14834d99",
   "metadata": {},
   "outputs": [],
   "source": [
    "\"\"\"\n",
    "../data/clinic/data_full/\n",
    "Inscope:        precision    recall  f1-score   support           \n",
    "    accuracy                         0.9636      4500\n",
    "   macro avg     0.9650    0.9636    0.9634      4500\n",
    "weighted avg     0.9650    0.9636    0.9634      4500\n",
    "\n",
    "\n",
    "../data/clinic/data_imbalanced/\n",
    "Inscope:        precision    recall  f1-score   support           \n",
    "accuracy                             0.9636      4500\n",
    "   macro avg     0.9653    0.9636    0.9634      4500\n",
    "weighted avg     0.9653    0.9636    0.9634      4500\n",
    "\n",
    "\n",
    "../data/clinic/data_oos_plus/\n",
    "Inscope:        precision    recall  f1-score   support           \n",
    "    accuracy                         0.9624      4500\n",
    "   macro avg     0.9639    0.9624    0.9623      4500\n",
    "weighted avg     0.9639    0.9624    0.9623      4500\n",
    "\n",
    "\n",
    "../data/clinic/data_small/\n",
    "Inscope:        precision    recall  f1-score   support           \n",
    "accuracy                             0.9598      4500\n",
    "   macro avg     0.9615    0.9598    0.9597      4500\n",
    "weighted avg     0.9615    0.9598    0.9597      4500\n",
    "\"\"\""
   ]
  },
  {
   "cell_type": "code",
   "execution_count": null,
   "id": "7df34e1b",
   "metadata": {},
   "outputs": [],
   "source": []
  }
 ],
 "metadata": {
  "kernelspec": {
   "display_name": "Python 3",
   "language": "python",
   "name": "python3"
  },
  "language_info": {
   "codemirror_mode": {
    "name": "ipython",
    "version": 3
   },
   "file_extension": ".py",
   "mimetype": "text/x-python",
   "name": "python",
   "nbconvert_exporter": "python",
   "pygments_lexer": "ipython3",
   "version": "3.6.13"
  }
 },
 "nbformat": 4,
 "nbformat_minor": 5
}
